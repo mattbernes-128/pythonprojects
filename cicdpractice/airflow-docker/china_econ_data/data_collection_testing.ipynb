{
 "cells": [
  {
   "cell_type": "code",
   "execution_count": 20,
   "id": "573c5605-f54d-4689-a3d0-81d31153762c",
   "metadata": {},
   "outputs": [],
   "source": [
    "import urllib3\n",
    "import re\n",
    "import sys\n",
    "import pandas as pd\n",
    "import os\n",
    "import shutil\n",
    "from selenium.webdriver.common.by import By\n",
    "from pathlib import Path\n",
    "import time\n",
    "sys.path.append(r'C:\\Users\\mattb\\PycharmProjects\\pythonprojects\\cicdpractice\\prod_lib')\n",
    "from  web_tools import logger_setup,init_driver,find_element_wait,find_elements_wait\n",
    "script_outputs_directory = r'C:\\Users\\mattb\\PycharmProjects\\pythonprojects\\cicdpractice\\airflow-docker\\china_econ_data\\script_outputs'\n",
    "target_year=2021\n",
    "logger=logger_setup()\n",
    "urllib3.disable_warnings(urllib3.exceptions.InsecureRequestWarning)\n",
    "\n",
    "def replace_special_chars(text):\n",
    "    return re.sub(r'[^A-Za-z0-9_.]', 'X', text)\n",
    "\n",
    "\n",
    "def collect_links(Dimension, data_links):\n",
    "    df = pd.DataFrame(columns=[Dimension, 'Link'])\n",
    "    for data_link in data_links:\n",
    "        link_dict = {Dimension: data_link.text, 'Link': data_link.get_attribute('href')}\n",
    "        df = pd.concat([df, pd.DataFrame([link_dict])], ignore_index=True)  \n",
    "    print(f'collected {len(df)} links')\n",
    "    return df\n",
    "\n",
    "def collect_dimension_links(year_df,year=None):\n",
    "    year_df_2_list = []\n",
    "    if year is None:\n",
    "        year_df=year_df\n",
    "    else:\n",
    "        year_df=year_df[year_df['Year'] == year] \n",
    "        print(year_df)\n",
    "    for index, row in year_df.iterrows():\n",
    "        print(row)\n",
    "        year = row['Year']\n",
    "        year_link = row['Link']\n",
    "        web_driver = init_driver()\n",
    "        print(f\"Navigating to {year_link}...\")\n",
    "        web_driver.get(year_link) \n",
    "        dimension_links = find_elements_wait(driver=web_driver, selector='div[class=\"ListR\"] > a')     \n",
    "        for data_link in dimension_links:\n",
    "            dimension = data_link.text\n",
    "            dimension_link = data_link.get_attribute(\"href\")\n",
    "            print(dimension)\n",
    "            print(dimension_link)            \n",
    "            link_dict = {'Year': year, 'Year_Link': year_link, 'Dimension': dimension, 'Dimension_Link': dimension_link}      \n",
    "            year_df_2_list.append(link_dict)\n",
    "        web_driver.quit()\n",
    "    year_df_2 = pd.DataFrame(year_df_2_list)\n",
    "    print(f'collected {len(year_df_2)} links')\n",
    "    return year_df_2\n",
    "        \n",
    "def collect_file_links(year_df_2_sample):\n",
    "    year_df_3_list = [] \n",
    "    for index, row in year_df_2_sample.iterrows():\n",
    "        print(row)\n",
    "        year = row['Year']\n",
    "        year_link = row['Year_Link']\n",
    "        dimension = row['Dimension']\n",
    "        dimension_link = row['Dimension_Link']\n",
    "        \n",
    "        web_driver = init_driver()\n",
    "        web_driver.get(dimension_link)   \n",
    "        \n",
    "        table_cells = find_elements_wait(driver=web_driver, selector='table[class=\"data_table\"] tbody > tr > td')\n",
    "\n",
    "        row_name = None\n",
    "        xls_link_text = None\n",
    "        \n",
    "        for cell in table_cells:\n",
    "            if cell.get_attribute(\"class\") != \"data_xz\":\n",
    "                row_name = cell.text\n",
    "                print(row_name)\n",
    "            elif cell.get_attribute(\"class\") == \"data_xz\":\n",
    "                xls_link = cell.find_element(By.CSS_SELECTOR, 'a')\n",
    "                if xls_link.text == \"xls\":\n",
    "                    xls_link_text = xls_link.get_attribute('href')\n",
    "                    print(xls_link_text)\n",
    "                    #xls_link.click()\n",
    "\n",
    "                    # Append to list\n",
    "                    link_dict = {\n",
    "                        'Year': year,\n",
    "                        'Year_Link': year_link,\n",
    "                        'Dimension': dimension,\n",
    "                        'Dimension_Link': dimension_link,\n",
    "                        'Data': row_name,\n",
    "                        'Data_Link': xls_link_text\n",
    "                    }\n",
    "                    year_df_3_list.append(link_dict)\n",
    "\n",
    "        web_driver.quit()\n",
    "\n",
    "    # Create the DataFrame only once at the end\n",
    "    year_df_3 = pd.DataFrame(year_df_3_list)\n",
    "    return year_df_3\n",
    "\n",
    "def wait_for_download(download_folder, new_filename,file_name,timeout=60):\n",
    "    print(download_folder)\n",
    "    end_time = time.time() + timeout\n",
    "    print(\"Waiting for download to finish...\")\n",
    "\n",
    "    while time.time() < end_time:\n",
    "        files = os.listdir(download_folder)\n",
    "        \n",
    "        # Exclude temporary download files\n",
    "        downloading = [f for f in files if f.endswith(\".crdownload\") or f.endswith(\".part\")]\n",
    "        \n",
    "        print(\"✅ Download Completed\")\n",
    "        #Find the downloaded file (Assume the last modified file is the download)\n",
    "        downloaded_file=os.path.join(download_folder,file_name)\n",
    "        downloaded_file = max([os.path.join(download_folder, f) for f in files], key=os.path.getmtime)\n",
    "        renamed_file = os.path.join(download_folder, new_filename)\n",
    "        os.rename(downloaded_file, renamed_file)\n",
    "        print(f\"File renamed to: {new_filename}\")\n",
    "        return True\n",
    "        time.sleep(2)  # Check every 2 seconds\n",
    "\n",
    "    print(\"❌ Download Timed Out\")\n",
    "    return False  \n",
    " "
   ]
  },
  {
   "cell_type": "code",
   "execution_count": 21,
   "id": "55a62dde-0020-479a-8993-6a31db635e3c",
   "metadata": {},
   "outputs": [
    {
     "name": "stderr",
     "output_type": "stream",
     "text": [
      "<>:6: SyntaxWarning: invalid escape sequence '\\y'\n",
      "<>:6: SyntaxWarning: invalid escape sequence '\\y'\n",
      "C:\\Users\\mattb\\AppData\\Local\\Temp\\ipykernel_4808\\550735610.py:6: SyntaxWarning: invalid escape sequence '\\y'\n",
      "  year_df.to_csv(script_outputs_directory+'\\year_link.csv', index=False)\n",
      "2025-03-20 21:44:15,794 - WDM - INFO - ====== WebDriver manager ======\n",
      "2025-03-20 21:44:16,706 - WDM - INFO - Get LATEST chromedriver version for google-chrome\n",
      "2025-03-20 21:44:16,789 - WDM - INFO - Get LATEST chromedriver version for google-chrome\n",
      "2025-03-20 21:44:16,885 - WDM - INFO - Driver [C:\\Users\\mattb\\.wdm\\drivers\\chromedriver\\win64\\134.0.6998.90\\chromedriver-win32/chromedriver.exe] found in cache\n"
     ]
    },
    {
     "name": "stdout",
     "output_type": "stream",
     "text": [
      "collected 20 links\n"
     ]
    }
   ],
   "source": [
    "web_driver = init_driver()\n",
    "data_index_page = \"http://www.pbc.gov.cn/en/3688247/3688975/index.html\"\n",
    "web_driver.get(data_index_page)\n",
    "year_links = find_elements_wait(driver=web_driver, selector='ul > li[class=\"class_A\"] > a')\n",
    "year_df = collect_links('Year', year_links)\n",
    "year_df.to_csv(script_outputs_directory+'\\year_link.csv', index=False)"
   ]
  },
  {
   "cell_type": "code",
   "execution_count": 22,
   "id": "0803174f-961b-4fdd-914e-cbcc9127828b",
   "metadata": {
    "scrolled": true
   },
   "outputs": [
    {
     "name": "stderr",
     "output_type": "stream",
     "text": [
      "<>:1: SyntaxWarning: invalid escape sequence '\\y'\n",
      "<>:1: SyntaxWarning: invalid escape sequence '\\y'\n",
      "C:\\Users\\mattb\\AppData\\Local\\Temp\\ipykernel_4808\\2338910531.py:1: SyntaxWarning: invalid escape sequence '\\y'\n",
      "  year_df=pd.read_csv(script_outputs_directory+'\\year_link.csv')\n"
     ]
    }
   ],
   "source": [
    "year_df=pd.read_csv(script_outputs_directory+'\\year_link.csv')"
   ]
  },
  {
   "cell_type": "code",
   "execution_count": 23,
   "id": "4371b874-ae06-4bed-ba4b-e5906c9a2ee0",
   "metadata": {
    "scrolled": true
   },
   "outputs": [
    {
     "name": "stderr",
     "output_type": "stream",
     "text": [
      "2025-03-20 21:44:24,223 - WDM - INFO - ====== WebDriver manager ======\n"
     ]
    },
    {
     "name": "stdout",
     "output_type": "stream",
     "text": [
      "   Year                                               Link\n",
      "4  2021  http://www.pbc.gov.cn/en/3688247/3688975/42807...\n",
      "Year                                                 2021\n",
      "Link    http://www.pbc.gov.cn/en/3688247/3688975/42807...\n",
      "Name: 4, dtype: object\n"
     ]
    },
    {
     "name": "stderr",
     "output_type": "stream",
     "text": [
      "2025-03-20 21:44:25,025 - WDM - INFO - Get LATEST chromedriver version for google-chrome\n",
      "2025-03-20 21:44:25,116 - WDM - INFO - Get LATEST chromedriver version for google-chrome\n",
      "2025-03-20 21:44:25,182 - WDM - INFO - Driver [C:\\Users\\mattb\\.wdm\\drivers\\chromedriver\\win64\\134.0.6998.90\\chromedriver-win32/chromedriver.exe] found in cache\n"
     ]
    },
    {
     "name": "stdout",
     "output_type": "stream",
     "text": [
      "Navigating to http://www.pbc.gov.cn/en/3688247/3688975/4280784/index.html...\n",
      "Aggregate Financing to the Real Economy\n",
      "http://www.pbc.gov.cn/en/3688247/3688975/4280784/4503900/index.html\n",
      "Money and Banking Statistics\n",
      "http://www.pbc.gov.cn/en/3688247/3688975/4280784/4503903/index.html\n",
      "Assets and Liabilities Statistics of Financial Institutions\n",
      "http://www.pbc.gov.cn/en/3688247/3688975/4280784/4503906/index.html\n",
      "Sources and Uses of Credit Funds of Financial Institutions\n",
      "http://www.pbc.gov.cn/en/3688247/3688975/4280784/4503909/index.html\n",
      "Financial Market Statistics\n",
      "http://www.pbc.gov.cn/en/3688247/3688975/4280784/4503912/index.html\n",
      "Financial Accounts\n",
      "http://www.pbc.gov.cn/en/3688247/3688975/4280784/4549345/index.html\n",
      "Corporate Goods Price Indices\n",
      "http://www.pbc.gov.cn/en/3688247/3688975/4280784/4503915/index.html\n",
      "collected 7 links\n"
     ]
    }
   ],
   "source": [
    "year_df_2=collect_dimension_links(year_df,target_year)"
   ]
  },
  {
   "cell_type": "code",
   "execution_count": 24,
   "id": "40126320-ff01-4bee-89c1-891ec41642db",
   "metadata": {},
   "outputs": [
    {
     "name": "stderr",
     "output_type": "stream",
     "text": [
      "2025-03-20 21:44:34,478 - WDM - INFO - ====== WebDriver manager ======\n"
     ]
    },
    {
     "name": "stdout",
     "output_type": "stream",
     "text": [
      "Year                                                           2021\n",
      "Year_Link         http://www.pbc.gov.cn/en/3688247/3688975/42807...\n",
      "Dimension                   Aggregate Financing to the Real Economy\n",
      "Dimension_Link    http://www.pbc.gov.cn/en/3688247/3688975/42807...\n",
      "Name: 0, dtype: object\n"
     ]
    },
    {
     "name": "stderr",
     "output_type": "stream",
     "text": [
      "2025-03-20 21:44:35,304 - WDM - INFO - Get LATEST chromedriver version for google-chrome\n",
      "2025-03-20 21:44:35,453 - WDM - INFO - Get LATEST chromedriver version for google-chrome\n",
      "2025-03-20 21:44:35,526 - WDM - INFO - Driver [C:\\Users\\mattb\\.wdm\\drivers\\chromedriver\\win64\\134.0.6998.90\\chromedriver-win32/chromedriver.exe] found in cache\n"
     ]
    },
    {
     "name": "stdout",
     "output_type": "stream",
     "text": [
      "Aggregate Financing to the Real Economy (Flow)\n",
      "http://www.pbc.gov.cn/eportal/fileDir/diaochatongjisi/resource/cms/2022/03/2022031709275051766.xls\n",
      "Aggregate Financing to the Real Economy (Stock)\n",
      "http://www.pbc.gov.cn/eportal/fileDir/diaochatongjisi/resource/cms/2022/03/2022031709274991948.xls\n",
      "Aggregate Financing to the Real Economy（flow）by Province\n"
     ]
    },
    {
     "name": "stderr",
     "output_type": "stream",
     "text": [
      "2025-03-20 21:44:45,530 - WDM - INFO - ====== WebDriver manager ======\n"
     ]
    },
    {
     "name": "stdout",
     "output_type": "stream",
     "text": [
      "Year                                                           2021\n",
      "Year_Link         http://www.pbc.gov.cn/en/3688247/3688975/42807...\n",
      "Dimension                              Money and Banking Statistics\n",
      "Dimension_Link    http://www.pbc.gov.cn/en/3688247/3688975/42807...\n",
      "Name: 1, dtype: object\n"
     ]
    },
    {
     "name": "stderr",
     "output_type": "stream",
     "text": [
      "2025-03-20 21:44:46,328 - WDM - INFO - Get LATEST chromedriver version for google-chrome\n",
      "2025-03-20 21:44:46,419 - WDM - INFO - Get LATEST chromedriver version for google-chrome\n",
      "2025-03-20 21:44:46,504 - WDM - INFO - Driver [C:\\Users\\mattb\\.wdm\\drivers\\chromedriver\\win64\\134.0.6998.90\\chromedriver-win32/chromedriver.exe] found in cache\n"
     ]
    },
    {
     "name": "stdout",
     "output_type": "stream",
     "text": [
      "Official reserve assets\n",
      "http://www.pbc.gov.cn/eportal/fileDir/diaochatongjisi/resource/cms/2022/01/2022011916025514556.xlsx\n",
      "Balance Sheet of Monetary Authority\n",
      "http://www.pbc.gov.cn/eportal/fileDir/diaochatongjisi/resource/cms/2022/01/2022011916025530864.xlsx\n",
      "Depository Corporations Survey\n",
      "http://www.pbc.gov.cn/eportal/fileDir/diaochatongjisi/resource/cms/2023/02/2023022414304711200.xls\n",
      "Balance Sheet of Other Depository Corporations\n",
      "http://www.pbc.gov.cn/eportal/fileDir/diaochatongjisi/resource/cms/2023/02/2023022414304739878.xls\n",
      "Money Supply\n",
      "http://www.pbc.gov.cn/eportal/fileDir/diaochatongjisi/resource/cms/2022/01/2022011916025645374.xlsx\n",
      "Exchange Rate\n",
      "http://www.pbc.gov.cn/eportal/fileDir/diaochatongjisi/resource/cms/2022/03/2022030911130748366.xls\n",
      "Domestic RMB Financial Assets Held by Overseas Entities\n",
      "http://www.pbc.gov.cn/eportal/fileDir/diaochatongjisi/resource/cms/2021/10/2021102918223093224.xls\n",
      "Template on International Reserves and Foreign Currency Liquidity\n",
      "01\n",
      "02\n",
      "03\n",
      "04\n",
      "05\n",
      "06\n",
      "07\n",
      "08\n",
      "09\n",
      "10\n",
      "11\n",
      "12\n",
      "Advance Release Calendar (ARC)\n",
      "http://www.pbc.gov.cn/eportal/fileDir/diaochatongjisi/resource/cms/2022/01/2022012816042726605.xls\n"
     ]
    },
    {
     "name": "stderr",
     "output_type": "stream",
     "text": [
      "2025-03-20 21:44:57,017 - WDM - INFO - ====== WebDriver manager ======\n"
     ]
    },
    {
     "name": "stdout",
     "output_type": "stream",
     "text": [
      "Year                                                           2021\n",
      "Year_Link         http://www.pbc.gov.cn/en/3688247/3688975/42807...\n",
      "Dimension         Assets and Liabilities Statistics of Financial...\n",
      "Dimension_Link    http://www.pbc.gov.cn/en/3688247/3688975/42807...\n",
      "Name: 2, dtype: object\n"
     ]
    },
    {
     "name": "stderr",
     "output_type": "stream",
     "text": [
      "2025-03-20 21:44:57,962 - WDM - INFO - Get LATEST chromedriver version for google-chrome\n",
      "2025-03-20 21:44:58,042 - WDM - INFO - Get LATEST chromedriver version for google-chrome\n",
      "2025-03-20 21:44:58,113 - WDM - INFO - Driver [C:\\Users\\mattb\\.wdm\\drivers\\chromedriver\\win64\\134.0.6998.90\\chromedriver-win32/chromedriver.exe] found in cache\n"
     ]
    },
    {
     "name": "stdout",
     "output_type": "stream",
     "text": [
      "Assets and Liabilities Statistics of Financial Institutions\n"
     ]
    },
    {
     "name": "stderr",
     "output_type": "stream",
     "text": [
      "2025-03-20 21:45:06,575 - WDM - INFO - ====== WebDriver manager ======\n"
     ]
    },
    {
     "name": "stdout",
     "output_type": "stream",
     "text": [
      "Year                                                           2021\n",
      "Year_Link         http://www.pbc.gov.cn/en/3688247/3688975/42807...\n",
      "Dimension         Sources and Uses of Credit Funds of Financial ...\n",
      "Dimension_Link    http://www.pbc.gov.cn/en/3688247/3688975/42807...\n",
      "Name: 3, dtype: object\n"
     ]
    },
    {
     "name": "stderr",
     "output_type": "stream",
     "text": [
      "2025-03-20 21:45:07,368 - WDM - INFO - Get LATEST chromedriver version for google-chrome\n",
      "2025-03-20 21:45:07,440 - WDM - INFO - Get LATEST chromedriver version for google-chrome\n",
      "2025-03-20 21:45:07,509 - WDM - INFO - Driver [C:\\Users\\mattb\\.wdm\\drivers\\chromedriver\\win64\\134.0.6998.90\\chromedriver-win32/chromedriver.exe] found in cache\n"
     ]
    },
    {
     "name": "stdout",
     "output_type": "stream",
     "text": [
      "Sources & Uses of Credit Funds of Financial Institutions (in RMB and Foreign Currency)\n",
      "http://www.pbc.gov.cn/eportal/fileDir/diaochatongjisi/resource/cms/2022/01/2022011915533770995.xlsx\n",
      "Sources & Uses of Credit Funds of Depository Financial Institutions (in RMB and Foreign Currency)\n",
      "http://www.pbc.gov.cn/eportal/fileDir/diaochatongjisi/resource/cms/2022/01/2022011915544540241.xlsx\n",
      "Sources & Uses of Credit Funds of Financial Institutions (in Foreign Currency)\n",
      "http://www.pbc.gov.cn/eportal/fileDir/diaochatongjisi/resource/cms/2022/01/2022011915555060247.xlsx\n",
      "Sources & Uses of Credit Funds of Depository Financial Institutions (in Foreign Currency)\n",
      "http://www.pbc.gov.cn/eportal/fileDir/diaochatongjisi/resource/cms/2022/01/2022011915565075749.xlsx\n",
      "Sources & Uses of Credit Funds of Financial Institutions (RMB)\n",
      "http://www.pbc.gov.cn/eportal/fileDir/diaochatongjisi/resource/cms/2022/01/2022011915581022607.xlsx\n",
      "Sources & Uses of Credit Funds of Depository Financial Institutions (RMB)\n",
      "http://www.pbc.gov.cn/eportal/fileDir/diaochatongjisi/resource/cms/2022/01/2022011915585996443.xlsx\n",
      "Sources & Uses of Credit Funds of large-sized State-owned National-operating Commercial Banks (RMB)\n",
      "http://www.pbc.gov.cn/eportal/fileDir/diaochatongjisi/resource/cms/2022/01/2022011916002449173.xlsx\n",
      "Sources & Uses of Credit Funds of 4 largest State-owned National-operating Commercial Banks (RMB)\n",
      "http://www.pbc.gov.cn/eportal/fileDir/diaochatongjisi/resource/cms/2022/01/2022011916011790427.xlsx\n",
      "Sources & Uses of Credit Funds of medium & small-sized State-owned National-operating Commercial Banks (RMB)\n",
      "http://www.pbc.gov.cn/eportal/fileDir/diaochatongjisi/resource/cms/2022/01/2022011916022130567.xlsx\n"
     ]
    },
    {
     "name": "stderr",
     "output_type": "stream",
     "text": [
      "2025-03-20 21:45:17,775 - WDM - INFO - ====== WebDriver manager ======\n"
     ]
    },
    {
     "name": "stdout",
     "output_type": "stream",
     "text": [
      "Year                                                           2021\n",
      "Year_Link         http://www.pbc.gov.cn/en/3688247/3688975/42807...\n",
      "Dimension                               Financial Market Statistics\n",
      "Dimension_Link    http://www.pbc.gov.cn/en/3688247/3688975/42807...\n",
      "Name: 4, dtype: object\n"
     ]
    },
    {
     "name": "stderr",
     "output_type": "stream",
     "text": [
      "2025-03-20 21:45:18,547 - WDM - INFO - Get LATEST chromedriver version for google-chrome\n",
      "2025-03-20 21:45:18,647 - WDM - INFO - Get LATEST chromedriver version for google-chrome\n",
      "2025-03-20 21:45:18,750 - WDM - INFO - Driver [C:\\Users\\mattb\\.wdm\\drivers\\chromedriver\\win64\\134.0.6998.90\\chromedriver-win32/chromedriver.exe] found in cache\n"
     ]
    },
    {
     "name": "stdout",
     "output_type": "stream",
     "text": [
      "Statistics of Stock Market\n",
      "http://www.pbc.gov.cn/eportal/fileDir/diaochatongjisi/resource/cms/2022/01/2022012911122164058.xls\n",
      "Statistics of Domestic Debt Securities\n",
      "http://www.pbc.gov.cn/eportal/fileDir/diaochatongjisi/resource/cms/2022/01/2022012911133258968.xls\n",
      "Statistics of Chinabond Government Securities Yield\n",
      "http://www.pbc.gov.cn/eportal/fileDir/diaochatongjisi/resource/cms/2022/01/2022012911141973465.xls\n",
      "Statistics of Interbank Lending\n",
      "http://www.pbc.gov.cn/eportal/fileDir/diaochatongjisi/resource/cms/2022/01/2022012911151386361.xls\n",
      "Statistics of Interbank Pledged Repo\n",
      "http://www.pbc.gov.cn/eportal/fileDir/diaochatongjisi/resource/cms/2022/01/2022012911160760409.xls\n",
      "Statistics of Shibor\n",
      "http://www.pbc.gov.cn/eportal/fileDir/diaochatongjisi/resource/cms/2022/01/2022012911165257692.xls\n"
     ]
    },
    {
     "name": "stderr",
     "output_type": "stream",
     "text": [
      "2025-03-20 21:45:27,610 - WDM - INFO - ====== WebDriver manager ======\n"
     ]
    },
    {
     "name": "stdout",
     "output_type": "stream",
     "text": [
      "Year                                                           2021\n",
      "Year_Link         http://www.pbc.gov.cn/en/3688247/3688975/42807...\n",
      "Dimension                                        Financial Accounts\n",
      "Dimension_Link    http://www.pbc.gov.cn/en/3688247/3688975/42807...\n",
      "Name: 5, dtype: object\n"
     ]
    },
    {
     "name": "stderr",
     "output_type": "stream",
     "text": [
      "2025-03-20 21:45:28,491 - WDM - INFO - Get LATEST chromedriver version for google-chrome\n",
      "2025-03-20 21:45:28,557 - WDM - INFO - Get LATEST chromedriver version for google-chrome\n",
      "2025-03-20 21:45:28,660 - WDM - INFO - Driver [C:\\Users\\mattb\\.wdm\\drivers\\chromedriver\\win64\\134.0.6998.90\\chromedriver-win32/chromedriver.exe] found in cache\n"
     ]
    },
    {
     "name": "stdout",
     "output_type": "stream",
     "text": [
      "Flow of Funds Statement(Financial Accounts)(the First Half Year)\n",
      "http://www.pbc.gov.cn/eportal/fileDir/diaochatongjisi/resource/cms/2022/05/2022051110393882917.xls\n",
      "Flow of Funds Statement(Financial Accounts)(Year)\n",
      "http://www.pbc.gov.cn/eportal/fileDir/diaochatongjisi/resource/cms/2022/09/2022093017032067690.xls\n",
      "Financial Assets and Liabilities Statement(Financial Accounts)\n",
      "\n"
     ]
    },
    {
     "name": "stderr",
     "output_type": "stream",
     "text": [
      "2025-03-20 21:45:36,668 - WDM - INFO - ====== WebDriver manager ======\n"
     ]
    },
    {
     "name": "stdout",
     "output_type": "stream",
     "text": [
      "Year                                                           2021\n",
      "Year_Link         http://www.pbc.gov.cn/en/3688247/3688975/42807...\n",
      "Dimension                             Corporate Goods Price Indices\n",
      "Dimension_Link    http://www.pbc.gov.cn/en/3688247/3688975/42807...\n",
      "Name: 6, dtype: object\n"
     ]
    },
    {
     "name": "stderr",
     "output_type": "stream",
     "text": [
      "2025-03-20 21:45:37,371 - WDM - INFO - Get LATEST chromedriver version for google-chrome\n",
      "2025-03-20 21:45:37,461 - WDM - INFO - Get LATEST chromedriver version for google-chrome\n",
      "2025-03-20 21:45:37,528 - WDM - INFO - Driver [C:\\Users\\mattb\\.wdm\\drivers\\chromedriver\\win64\\134.0.6998.90\\chromedriver-win32/chromedriver.exe] found in cache\n"
     ]
    },
    {
     "name": "stdout",
     "output_type": "stream",
     "text": [
      "Corporate Goods Price Indices (CGPI)\n",
      "http://www.pbc.gov.cn/eportal/fileDir/diaochatongjisi/resource/cms/2022/01/2022011915521491829.xlsx\n"
     ]
    }
   ],
   "source": [
    "year_df_3=collect_file_links(year_df_2)\n",
    "year_df_3.to_csv(rf\"{script_outputs_directory}\\year_df_3_{target_year}.csv\", index=False)"
   ]
  },
  {
   "cell_type": "code",
   "execution_count": 25,
   "id": "323b2a48-3615-4826-816c-195e9de0d894",
   "metadata": {},
   "outputs": [],
   "source": [
    "year_df_3=pd.read_csv(rf\"{script_outputs_directory}\\year_df_3_{target_year}.csv\")\n",
    "#year_df_3=year_df_3[year_df_3['Dimension'] == 'Sources and Uses of Credit Funds of Financial Institutions'] \n",
    "year_df_3['Dimension_Clean']=year_df_3['Dimension']\n",
    "year_df_3['Data_Name_Clean']=year_df_3['Data']\n",
    "year_df_3['Dimension_Clean'] = year_df_3['Dimension_Clean'].replace('Sources and Uses of Credit Funds of Financial Institutions','sucffi')\n",
    "year_df_3['Data_Name_Clean'] = year_df_3['Data_Name_Clean'].replace('Sources & Uses of Credit Funds of Financial Institutions (in RMB and Foreign Currency)','sucffi RMB and Foreign Currency')\n",
    "year_df_3['Data_Name_Clean'] = year_df_3['Data_Name_Clean'].replace('Sources & Uses of Credit Funds of Financial Institutions (in Foreign Currency)','sucffi Foreign Currency')\n",
    "year_df_3['Data_Name_Clean'] = year_df_3['Data_Name_Clean'].replace('Sources & Uses of Credit Funds of Depository Financial Institutions (RMB)','sucDffi RMB')\n",
    "year_df_3['Data_Name_Clean'] = year_df_3['Data_Name_Clean'].replace('Sources & Uses of Credit Funds of Depository Financial Institutions (in RMB and Foreign Currency)','sucDffi RMB and Foreign Currency')\n",
    "year_df_3['Data_Name_Clean'] = year_df_3['Data_Name_Clean'].replace('Sources & Uses of Credit Funds of Depository Financial Institutions (in Foreign Currency)','sucDffi Foreign Currency')\n",
    "year_df_3['Data_Name_Clean'] = year_df_3['Data_Name_Clean'].replace('Sources & Uses of Credit Funds of Financial Institutions (RMB)','sucffi RMB')\n",
    "year_df_3['Data_Name_Clean'] = year_df_3['Data_Name_Clean'].replace('Sources & Uses of Credit Funds of large-sized State-owned National-operating Commercial Banks (RMB)','sucflsoecb RMB')\n",
    "year_df_3['Data_Name_Clean'] = year_df_3['Data_Name_Clean'].replace('Sources & Uses of Credit Funds of 4 largest State-owned National-operating Commercial Banks (RMB)','sucflsoecb big4 RMB')\n",
    "year_df_3['Data_Name_Clean'] = year_df_3['Data_Name_Clean'].replace('Sources & Uses of Credit Funds of medium & small-sized State-owned National-operating Commercial Banks (RMB)','sucfssoecb RMB')\n"
   ]
  },
  {
   "cell_type": "code",
   "execution_count": 26,
   "id": "53f0c1c5-9046-4bb5-81bc-6323dca5a158",
   "metadata": {},
   "outputs": [
    {
     "name": "stderr",
     "output_type": "stream",
     "text": [
      "2025-03-20 21:45:46,021 - WDM - INFO - ====== WebDriver manager ======\n"
     ]
    },
    {
     "name": "stdout",
     "output_type": "stream",
     "text": [
      "Year                                                            2021\n",
      "Year_Link          http://www.pbc.gov.cn/en/3688247/3688975/42807...\n",
      "Dimension                    Aggregate Financing to the Real Economy\n",
      "Dimension_Link     http://www.pbc.gov.cn/en/3688247/3688975/42807...\n",
      "Data                  Aggregate Financing to the Real Economy (Flow)\n",
      "Data_Link          http://www.pbc.gov.cn/eportal/fileDir/diaochat...\n",
      "Dimension_Clean              Aggregate Financing to the Real Economy\n",
      "Data_Name_Clean       Aggregate Financing to the Real Economy (Flow)\n",
      "Name: 0, dtype: object\n",
      "2021__Aggregate_Financing_to_the_Real_Economy__Aggregate_Financing_to_the_Real_Economy_XFlowX__2022031709275051766.xls\n",
      "Downloading: http://www.pbc.gov.cn/eportal/fileDir/diaochatongjisi/resource/cms/2022/03/2022031709275051766.xls\n"
     ]
    },
    {
     "name": "stderr",
     "output_type": "stream",
     "text": [
      "2025-03-20 21:45:46,803 - WDM - INFO - Get LATEST chromedriver version for google-chrome\n",
      "2025-03-20 21:46:39,921 - WDM - INFO - Get LATEST chromedriver version for google-chrome\n",
      "2025-03-20 21:46:40,060 - WDM - INFO - Driver [C:\\Users\\mattb\\.wdm\\drivers\\chromedriver\\win64\\134.0.6998.90\\chromedriver-win32/chromedriver.exe] found in cache\n"
     ]
    },
    {
     "name": "stdout",
     "output_type": "stream",
     "text": [
      "C:\\Users\\mattb\\PycharmProjects\\pythonprojects\\cicdpractice\\airflow-docker\\china_econ_data\\download\\2021\n",
      "Waiting for download to finish...\n",
      "✅ Download Completed\n",
      "File renamed to: 2021__Aggregate_Financing_to_the_Real_Economy__Aggregate_Financing_to_the_Real_Economy_XFlowX__2022031709275051766.xls\n"
     ]
    },
    {
     "name": "stderr",
     "output_type": "stream",
     "text": [
      "2025-03-20 21:46:50,464 - WDM - INFO - ====== WebDriver manager ======\n"
     ]
    },
    {
     "name": "stdout",
     "output_type": "stream",
     "text": [
      "WebDriver Closed\n",
      "\n",
      "Year                                                            2021\n",
      "Year_Link          http://www.pbc.gov.cn/en/3688247/3688975/42807...\n",
      "Dimension                    Aggregate Financing to the Real Economy\n",
      "Dimension_Link     http://www.pbc.gov.cn/en/3688247/3688975/42807...\n",
      "Data                 Aggregate Financing to the Real Economy (Stock)\n",
      "Data_Link          http://www.pbc.gov.cn/eportal/fileDir/diaochat...\n",
      "Dimension_Clean              Aggregate Financing to the Real Economy\n",
      "Data_Name_Clean      Aggregate Financing to the Real Economy (Stock)\n",
      "Name: 1, dtype: object\n",
      "2021__Aggregate_Financing_to_the_Real_Economy__Aggregate_Financing_to_the_Real_Economy_XStockX__2022031709274991948.xls\n",
      "Downloading: http://www.pbc.gov.cn/eportal/fileDir/diaochatongjisi/resource/cms/2022/03/2022031709274991948.xls\n"
     ]
    },
    {
     "name": "stderr",
     "output_type": "stream",
     "text": [
      "2025-03-20 21:46:51,235 - WDM - INFO - Get LATEST chromedriver version for google-chrome\n",
      "2025-03-20 21:46:51,392 - WDM - INFO - Get LATEST chromedriver version for google-chrome\n",
      "2025-03-20 21:46:51,465 - WDM - INFO - Driver [C:\\Users\\mattb\\.wdm\\drivers\\chromedriver\\win64\\134.0.6998.90\\chromedriver-win32/chromedriver.exe] found in cache\n"
     ]
    },
    {
     "name": "stdout",
     "output_type": "stream",
     "text": [
      "C:\\Users\\mattb\\PycharmProjects\\pythonprojects\\cicdpractice\\airflow-docker\\china_econ_data\\download\\2021\n",
      "Waiting for download to finish...\n",
      "✅ Download Completed\n",
      "File renamed to: 2021__Aggregate_Financing_to_the_Real_Economy__Aggregate_Financing_to_the_Real_Economy_XStockX__2022031709274991948.xls\n"
     ]
    },
    {
     "name": "stderr",
     "output_type": "stream",
     "text": [
      "2025-03-20 21:47:02,091 - WDM - INFO - ====== WebDriver manager ======\n"
     ]
    },
    {
     "name": "stdout",
     "output_type": "stream",
     "text": [
      "WebDriver Closed\n",
      "\n",
      "Year                                                            2021\n",
      "Year_Link          http://www.pbc.gov.cn/en/3688247/3688975/42807...\n",
      "Dimension                               Money and Banking Statistics\n",
      "Dimension_Link     http://www.pbc.gov.cn/en/3688247/3688975/42807...\n",
      "Data                                         Official reserve assets\n",
      "Data_Link          http://www.pbc.gov.cn/eportal/fileDir/diaochat...\n",
      "Dimension_Clean                         Money and Banking Statistics\n",
      "Data_Name_Clean                              Official reserve assets\n",
      "Name: 2, dtype: object\n",
      "2021__Money_and_Banking_Statistics__Official_reserve_assets__2022011916025514556.xlsx\n",
      "Downloading: http://www.pbc.gov.cn/eportal/fileDir/diaochatongjisi/resource/cms/2022/01/2022011916025514556.xlsx\n"
     ]
    },
    {
     "name": "stderr",
     "output_type": "stream",
     "text": [
      "2025-03-20 21:47:03,012 - WDM - INFO - Get LATEST chromedriver version for google-chrome\n",
      "2025-03-20 21:47:03,084 - WDM - INFO - Get LATEST chromedriver version for google-chrome\n",
      "2025-03-20 21:47:03,147 - WDM - INFO - Driver [C:\\Users\\mattb\\.wdm\\drivers\\chromedriver\\win64\\134.0.6998.90\\chromedriver-win32/chromedriver.exe] found in cache\n"
     ]
    },
    {
     "name": "stdout",
     "output_type": "stream",
     "text": [
      "C:\\Users\\mattb\\PycharmProjects\\pythonprojects\\cicdpractice\\airflow-docker\\china_econ_data\\download\\2021\n",
      "Waiting for download to finish...\n",
      "✅ Download Completed\n",
      "File renamed to: 2021__Money_and_Banking_Statistics__Official_reserve_assets__2022011916025514556.xlsx\n"
     ]
    },
    {
     "name": "stderr",
     "output_type": "stream",
     "text": [
      "2025-03-20 21:47:13,647 - WDM - INFO - ====== WebDriver manager ======\n"
     ]
    },
    {
     "name": "stdout",
     "output_type": "stream",
     "text": [
      "WebDriver Closed\n",
      "\n",
      "Year                                                            2021\n",
      "Year_Link          http://www.pbc.gov.cn/en/3688247/3688975/42807...\n",
      "Dimension                               Money and Banking Statistics\n",
      "Dimension_Link     http://www.pbc.gov.cn/en/3688247/3688975/42807...\n",
      "Data                             Balance Sheet of Monetary Authority\n",
      "Data_Link          http://www.pbc.gov.cn/eportal/fileDir/diaochat...\n",
      "Dimension_Clean                         Money and Banking Statistics\n",
      "Data_Name_Clean                  Balance Sheet of Monetary Authority\n",
      "Name: 3, dtype: object\n",
      "2021__Money_and_Banking_Statistics__Balance_Sheet_of_Monetary_Authority__2022011916025530864.xlsx\n",
      "Downloading: http://www.pbc.gov.cn/eportal/fileDir/diaochatongjisi/resource/cms/2022/01/2022011916025530864.xlsx\n"
     ]
    },
    {
     "name": "stderr",
     "output_type": "stream",
     "text": [
      "2025-03-20 21:47:14,429 - WDM - INFO - Get LATEST chromedriver version for google-chrome\n",
      "2025-03-20 21:47:14,504 - WDM - INFO - Get LATEST chromedriver version for google-chrome\n",
      "2025-03-20 21:47:14,567 - WDM - INFO - Driver [C:\\Users\\mattb\\.wdm\\drivers\\chromedriver\\win64\\134.0.6998.90\\chromedriver-win32/chromedriver.exe] found in cache\n"
     ]
    },
    {
     "name": "stdout",
     "output_type": "stream",
     "text": [
      "C:\\Users\\mattb\\PycharmProjects\\pythonprojects\\cicdpractice\\airflow-docker\\china_econ_data\\download\\2021\n",
      "Waiting for download to finish...\n",
      "✅ Download Completed\n",
      "File renamed to: 2021__Money_and_Banking_Statistics__Balance_Sheet_of_Monetary_Authority__2022011916025530864.xlsx\n"
     ]
    },
    {
     "name": "stderr",
     "output_type": "stream",
     "text": [
      "2025-03-20 21:47:26,376 - WDM - INFO - ====== WebDriver manager ======\n"
     ]
    },
    {
     "name": "stdout",
     "output_type": "stream",
     "text": [
      "WebDriver Closed\n",
      "\n",
      "Year                                                            2021\n",
      "Year_Link          http://www.pbc.gov.cn/en/3688247/3688975/42807...\n",
      "Dimension                               Money and Banking Statistics\n",
      "Dimension_Link     http://www.pbc.gov.cn/en/3688247/3688975/42807...\n",
      "Data                                  Depository Corporations Survey\n",
      "Data_Link          http://www.pbc.gov.cn/eportal/fileDir/diaochat...\n",
      "Dimension_Clean                         Money and Banking Statistics\n",
      "Data_Name_Clean                       Depository Corporations Survey\n",
      "Name: 4, dtype: object\n",
      "2021__Money_and_Banking_Statistics__Depository_Corporations_Survey__2023022414304711200.xls\n",
      "Downloading: http://www.pbc.gov.cn/eportal/fileDir/diaochatongjisi/resource/cms/2023/02/2023022414304711200.xls\n"
     ]
    },
    {
     "name": "stderr",
     "output_type": "stream",
     "text": [
      "2025-03-20 21:47:27,168 - WDM - INFO - Get LATEST chromedriver version for google-chrome\n",
      "2025-03-20 21:47:27,252 - WDM - INFO - Get LATEST chromedriver version for google-chrome\n",
      "2025-03-20 21:47:27,324 - WDM - INFO - Driver [C:\\Users\\mattb\\.wdm\\drivers\\chromedriver\\win64\\134.0.6998.90\\chromedriver-win32/chromedriver.exe] found in cache\n"
     ]
    },
    {
     "name": "stdout",
     "output_type": "stream",
     "text": [
      "C:\\Users\\mattb\\PycharmProjects\\pythonprojects\\cicdpractice\\airflow-docker\\china_econ_data\\download\\2021\n",
      "Waiting for download to finish...\n",
      "✅ Download Completed\n",
      "File renamed to: 2021__Money_and_Banking_Statistics__Depository_Corporations_Survey__2023022414304711200.xls\n"
     ]
    },
    {
     "name": "stderr",
     "output_type": "stream",
     "text": [
      "2025-03-20 21:47:38,032 - WDM - INFO - ====== WebDriver manager ======\n"
     ]
    },
    {
     "name": "stdout",
     "output_type": "stream",
     "text": [
      "WebDriver Closed\n",
      "\n",
      "Year                                                            2021\n",
      "Year_Link          http://www.pbc.gov.cn/en/3688247/3688975/42807...\n",
      "Dimension                               Money and Banking Statistics\n",
      "Dimension_Link     http://www.pbc.gov.cn/en/3688247/3688975/42807...\n",
      "Data                  Balance Sheet of Other Depository Corporations\n",
      "Data_Link          http://www.pbc.gov.cn/eportal/fileDir/diaochat...\n",
      "Dimension_Clean                         Money and Banking Statistics\n",
      "Data_Name_Clean       Balance Sheet of Other Depository Corporations\n",
      "Name: 5, dtype: object\n",
      "2021__Money_and_Banking_Statistics__Balance_Sheet_of_Other_Depository_Corporations__2023022414304739878.xls\n",
      "Downloading: http://www.pbc.gov.cn/eportal/fileDir/diaochatongjisi/resource/cms/2023/02/2023022414304739878.xls\n"
     ]
    },
    {
     "name": "stderr",
     "output_type": "stream",
     "text": [
      "2025-03-20 21:47:38,796 - WDM - INFO - Get LATEST chromedriver version for google-chrome\n",
      "2025-03-20 21:47:38,880 - WDM - INFO - Get LATEST chromedriver version for google-chrome\n",
      "2025-03-20 21:47:38,945 - WDM - INFO - Driver [C:\\Users\\mattb\\.wdm\\drivers\\chromedriver\\win64\\134.0.6998.90\\chromedriver-win32/chromedriver.exe] found in cache\n"
     ]
    },
    {
     "name": "stdout",
     "output_type": "stream",
     "text": [
      "C:\\Users\\mattb\\PycharmProjects\\pythonprojects\\cicdpractice\\airflow-docker\\china_econ_data\\download\\2021\n",
      "Waiting for download to finish...\n",
      "✅ Download Completed\n",
      "File renamed to: 2021__Money_and_Banking_Statistics__Balance_Sheet_of_Other_Depository_Corporations__2023022414304739878.xls\n"
     ]
    },
    {
     "name": "stderr",
     "output_type": "stream",
     "text": [
      "2025-03-20 21:47:49,396 - WDM - INFO - ====== WebDriver manager ======\n"
     ]
    },
    {
     "name": "stdout",
     "output_type": "stream",
     "text": [
      "WebDriver Closed\n",
      "\n",
      "Year                                                            2021\n",
      "Year_Link          http://www.pbc.gov.cn/en/3688247/3688975/42807...\n",
      "Dimension                               Money and Banking Statistics\n",
      "Dimension_Link     http://www.pbc.gov.cn/en/3688247/3688975/42807...\n",
      "Data                                                    Money Supply\n",
      "Data_Link          http://www.pbc.gov.cn/eportal/fileDir/diaochat...\n",
      "Dimension_Clean                         Money and Banking Statistics\n",
      "Data_Name_Clean                                         Money Supply\n",
      "Name: 6, dtype: object\n",
      "2021__Money_and_Banking_Statistics__Money_Supply__2022011916025645374.xlsx\n",
      "Downloading: http://www.pbc.gov.cn/eportal/fileDir/diaochatongjisi/resource/cms/2022/01/2022011916025645374.xlsx\n"
     ]
    },
    {
     "name": "stderr",
     "output_type": "stream",
     "text": [
      "2025-03-20 21:47:50,183 - WDM - INFO - Get LATEST chromedriver version for google-chrome\n",
      "2025-03-20 21:47:50,248 - WDM - INFO - Get LATEST chromedriver version for google-chrome\n",
      "2025-03-20 21:47:50,312 - WDM - INFO - Driver [C:\\Users\\mattb\\.wdm\\drivers\\chromedriver\\win64\\134.0.6998.90\\chromedriver-win32/chromedriver.exe] found in cache\n"
     ]
    },
    {
     "name": "stdout",
     "output_type": "stream",
     "text": [
      "C:\\Users\\mattb\\PycharmProjects\\pythonprojects\\cicdpractice\\airflow-docker\\china_econ_data\\download\\2021\n",
      "Waiting for download to finish...\n",
      "✅ Download Completed\n",
      "File renamed to: 2021__Money_and_Banking_Statistics__Money_Supply__2022011916025645374.xlsx\n"
     ]
    },
    {
     "name": "stderr",
     "output_type": "stream",
     "text": [
      "2025-03-20 21:48:01,702 - WDM - INFO - ====== WebDriver manager ======\n"
     ]
    },
    {
     "name": "stdout",
     "output_type": "stream",
     "text": [
      "WebDriver Closed\n",
      "\n",
      "Year                                                            2021\n",
      "Year_Link          http://www.pbc.gov.cn/en/3688247/3688975/42807...\n",
      "Dimension                               Money and Banking Statistics\n",
      "Dimension_Link     http://www.pbc.gov.cn/en/3688247/3688975/42807...\n",
      "Data                                                   Exchange Rate\n",
      "Data_Link          http://www.pbc.gov.cn/eportal/fileDir/diaochat...\n",
      "Dimension_Clean                         Money and Banking Statistics\n",
      "Data_Name_Clean                                        Exchange Rate\n",
      "Name: 7, dtype: object\n",
      "2021__Money_and_Banking_Statistics__Exchange_Rate__2022030911130748366.xls\n",
      "Downloading: http://www.pbc.gov.cn/eportal/fileDir/diaochatongjisi/resource/cms/2022/03/2022030911130748366.xls\n"
     ]
    },
    {
     "name": "stderr",
     "output_type": "stream",
     "text": [
      "2025-03-20 21:48:02,631 - WDM - INFO - Get LATEST chromedriver version for google-chrome\n",
      "2025-03-20 21:48:02,726 - WDM - INFO - Get LATEST chromedriver version for google-chrome\n",
      "2025-03-20 21:48:02,809 - WDM - INFO - Driver [C:\\Users\\mattb\\.wdm\\drivers\\chromedriver\\win64\\134.0.6998.90\\chromedriver-win32/chromedriver.exe] found in cache\n"
     ]
    },
    {
     "name": "stdout",
     "output_type": "stream",
     "text": [
      "C:\\Users\\mattb\\PycharmProjects\\pythonprojects\\cicdpractice\\airflow-docker\\china_econ_data\\download\\2021\n",
      "Waiting for download to finish...\n",
      "✅ Download Completed\n",
      "File renamed to: 2021__Money_and_Banking_Statistics__Exchange_Rate__2022030911130748366.xls\n"
     ]
    },
    {
     "name": "stderr",
     "output_type": "stream",
     "text": [
      "2025-03-20 21:48:13,281 - WDM - INFO - ====== WebDriver manager ======\n"
     ]
    },
    {
     "name": "stdout",
     "output_type": "stream",
     "text": [
      "WebDriver Closed\n",
      "\n",
      "Year                                                            2021\n",
      "Year_Link          http://www.pbc.gov.cn/en/3688247/3688975/42807...\n",
      "Dimension                               Money and Banking Statistics\n",
      "Dimension_Link     http://www.pbc.gov.cn/en/3688247/3688975/42807...\n",
      "Data               Domestic RMB Financial Assets Held by Overseas...\n",
      "Data_Link          http://www.pbc.gov.cn/eportal/fileDir/diaochat...\n",
      "Dimension_Clean                         Money and Banking Statistics\n",
      "Data_Name_Clean    Domestic RMB Financial Assets Held by Overseas...\n",
      "Name: 8, dtype: object\n",
      "2021__Money_and_Banking_Statistics__Domestic_RMB_Financial_Assets_Held_by_Overseas_Entities__2021102918223093224.xls\n",
      "Downloading: http://www.pbc.gov.cn/eportal/fileDir/diaochatongjisi/resource/cms/2021/10/2021102918223093224.xls\n"
     ]
    },
    {
     "name": "stderr",
     "output_type": "stream",
     "text": [
      "2025-03-20 21:48:14,073 - WDM - INFO - Get LATEST chromedriver version for google-chrome\n",
      "2025-03-20 21:48:14,159 - WDM - INFO - Get LATEST chromedriver version for google-chrome\n",
      "2025-03-20 21:48:14,239 - WDM - INFO - Driver [C:\\Users\\mattb\\.wdm\\drivers\\chromedriver\\win64\\134.0.6998.90\\chromedriver-win32/chromedriver.exe] found in cache\n"
     ]
    },
    {
     "name": "stdout",
     "output_type": "stream",
     "text": [
      "C:\\Users\\mattb\\PycharmProjects\\pythonprojects\\cicdpractice\\airflow-docker\\china_econ_data\\download\\2021\n",
      "Waiting for download to finish...\n",
      "✅ Download Completed\n",
      "File renamed to: 2021__Money_and_Banking_Statistics__Domestic_RMB_Financial_Assets_Held_by_Overseas_Entities__2021102918223093224.xls\n"
     ]
    },
    {
     "name": "stderr",
     "output_type": "stream",
     "text": [
      "2025-03-20 21:48:24,575 - WDM - INFO - ====== WebDriver manager ======\n"
     ]
    },
    {
     "name": "stdout",
     "output_type": "stream",
     "text": [
      "WebDriver Closed\n",
      "\n",
      "Year                                                            2021\n",
      "Year_Link          http://www.pbc.gov.cn/en/3688247/3688975/42807...\n",
      "Dimension                               Money and Banking Statistics\n",
      "Dimension_Link     http://www.pbc.gov.cn/en/3688247/3688975/42807...\n",
      "Data                                  Advance Release Calendar (ARC)\n",
      "Data_Link          http://www.pbc.gov.cn/eportal/fileDir/diaochat...\n",
      "Dimension_Clean                         Money and Banking Statistics\n",
      "Data_Name_Clean                       Advance Release Calendar (ARC)\n",
      "Name: 9, dtype: object\n",
      "2021__Money_and_Banking_Statistics__Advance_Release_Calendar_XARCX__2022012816042726605.xls\n",
      "Downloading: http://www.pbc.gov.cn/eportal/fileDir/diaochatongjisi/resource/cms/2022/01/2022012816042726605.xls\n"
     ]
    },
    {
     "name": "stderr",
     "output_type": "stream",
     "text": [
      "2025-03-20 21:48:25,339 - WDM - INFO - Get LATEST chromedriver version for google-chrome\n",
      "2025-03-20 21:48:25,488 - WDM - INFO - Get LATEST chromedriver version for google-chrome\n",
      "2025-03-20 21:48:25,578 - WDM - INFO - Driver [C:\\Users\\mattb\\.wdm\\drivers\\chromedriver\\win64\\134.0.6998.90\\chromedriver-win32/chromedriver.exe] found in cache\n"
     ]
    },
    {
     "name": "stdout",
     "output_type": "stream",
     "text": [
      "C:\\Users\\mattb\\PycharmProjects\\pythonprojects\\cicdpractice\\airflow-docker\\china_econ_data\\download\\2021\n",
      "Waiting for download to finish...\n",
      "✅ Download Completed\n",
      "File renamed to: 2021__Money_and_Banking_Statistics__Advance_Release_Calendar_XARCX__2022012816042726605.xls\n"
     ]
    },
    {
     "name": "stderr",
     "output_type": "stream",
     "text": [
      "2025-03-20 21:48:36,080 - WDM - INFO - ====== WebDriver manager ======\n"
     ]
    },
    {
     "name": "stdout",
     "output_type": "stream",
     "text": [
      "WebDriver Closed\n",
      "\n",
      "Year                                                            2021\n",
      "Year_Link          http://www.pbc.gov.cn/en/3688247/3688975/42807...\n",
      "Dimension          Sources and Uses of Credit Funds of Financial ...\n",
      "Dimension_Link     http://www.pbc.gov.cn/en/3688247/3688975/42807...\n",
      "Data               Sources & Uses of Credit Funds of Financial In...\n",
      "Data_Link          http://www.pbc.gov.cn/eportal/fileDir/diaochat...\n",
      "Dimension_Clean                                               sucffi\n",
      "Data_Name_Clean                      sucffi RMB and Foreign Currency\n",
      "Name: 10, dtype: object\n",
      "2021__sucffi__sucffi_RMB_and_Foreign_Currency__2022011915533770995.xlsx\n",
      "Downloading: http://www.pbc.gov.cn/eportal/fileDir/diaochatongjisi/resource/cms/2022/01/2022011915533770995.xlsx\n"
     ]
    },
    {
     "name": "stderr",
     "output_type": "stream",
     "text": [
      "2025-03-20 21:48:36,820 - WDM - INFO - Get LATEST chromedriver version for google-chrome\n",
      "2025-03-20 21:48:36,943 - WDM - INFO - Get LATEST chromedriver version for google-chrome\n",
      "2025-03-20 21:48:37,016 - WDM - INFO - Driver [C:\\Users\\mattb\\.wdm\\drivers\\chromedriver\\win64\\134.0.6998.90\\chromedriver-win32/chromedriver.exe] found in cache\n"
     ]
    },
    {
     "name": "stdout",
     "output_type": "stream",
     "text": [
      "C:\\Users\\mattb\\PycharmProjects\\pythonprojects\\cicdpractice\\airflow-docker\\china_econ_data\\download\\2021\n",
      "Waiting for download to finish...\n",
      "✅ Download Completed\n",
      "File renamed to: 2021__sucffi__sucffi_RMB_and_Foreign_Currency__2022011915533770995.xlsx\n"
     ]
    },
    {
     "name": "stderr",
     "output_type": "stream",
     "text": [
      "2025-03-20 21:48:48,777 - WDM - INFO - ====== WebDriver manager ======\n"
     ]
    },
    {
     "name": "stdout",
     "output_type": "stream",
     "text": [
      "WebDriver Closed\n",
      "\n",
      "Year                                                            2021\n",
      "Year_Link          http://www.pbc.gov.cn/en/3688247/3688975/42807...\n",
      "Dimension          Sources and Uses of Credit Funds of Financial ...\n",
      "Dimension_Link     http://www.pbc.gov.cn/en/3688247/3688975/42807...\n",
      "Data               Sources & Uses of Credit Funds of Depository F...\n",
      "Data_Link          http://www.pbc.gov.cn/eportal/fileDir/diaochat...\n",
      "Dimension_Clean                                               sucffi\n",
      "Data_Name_Clean                     sucDffi RMB and Foreign Currency\n",
      "Name: 11, dtype: object\n",
      "2021__sucffi__sucDffi_RMB_and_Foreign_Currency__2022011915544540241.xlsx\n",
      "Downloading: http://www.pbc.gov.cn/eportal/fileDir/diaochatongjisi/resource/cms/2022/01/2022011915544540241.xlsx\n"
     ]
    },
    {
     "name": "stderr",
     "output_type": "stream",
     "text": [
      "2025-03-20 21:48:49,811 - WDM - INFO - Get LATEST chromedriver version for google-chrome\n",
      "2025-03-20 21:48:49,885 - WDM - INFO - Get LATEST chromedriver version for google-chrome\n",
      "2025-03-20 21:48:49,963 - WDM - INFO - Driver [C:\\Users\\mattb\\.wdm\\drivers\\chromedriver\\win64\\134.0.6998.90\\chromedriver-win32/chromedriver.exe] found in cache\n"
     ]
    },
    {
     "name": "stdout",
     "output_type": "stream",
     "text": [
      "C:\\Users\\mattb\\PycharmProjects\\pythonprojects\\cicdpractice\\airflow-docker\\china_econ_data\\download\\2021\n",
      "Waiting for download to finish...\n",
      "✅ Download Completed\n",
      "File renamed to: 2021__sucffi__sucDffi_RMB_and_Foreign_Currency__2022011915544540241.xlsx\n"
     ]
    },
    {
     "name": "stderr",
     "output_type": "stream",
     "text": [
      "2025-03-20 21:49:00,251 - WDM - INFO - ====== WebDriver manager ======\n"
     ]
    },
    {
     "name": "stdout",
     "output_type": "stream",
     "text": [
      "WebDriver Closed\n",
      "\n",
      "Year                                                            2021\n",
      "Year_Link          http://www.pbc.gov.cn/en/3688247/3688975/42807...\n",
      "Dimension          Sources and Uses of Credit Funds of Financial ...\n",
      "Dimension_Link     http://www.pbc.gov.cn/en/3688247/3688975/42807...\n",
      "Data               Sources & Uses of Credit Funds of Financial In...\n",
      "Data_Link          http://www.pbc.gov.cn/eportal/fileDir/diaochat...\n",
      "Dimension_Clean                                               sucffi\n",
      "Data_Name_Clean                              sucffi Foreign Currency\n",
      "Name: 12, dtype: object\n",
      "2021__sucffi__sucffi_Foreign_Currency__2022011915555060247.xlsx\n",
      "Downloading: http://www.pbc.gov.cn/eportal/fileDir/diaochatongjisi/resource/cms/2022/01/2022011915555060247.xlsx\n"
     ]
    },
    {
     "name": "stderr",
     "output_type": "stream",
     "text": [
      "2025-03-20 21:49:01,217 - WDM - INFO - Get LATEST chromedriver version for google-chrome\n",
      "2025-03-20 21:49:01,305 - WDM - INFO - Get LATEST chromedriver version for google-chrome\n",
      "2025-03-20 21:49:01,389 - WDM - INFO - Driver [C:\\Users\\mattb\\.wdm\\drivers\\chromedriver\\win64\\134.0.6998.90\\chromedriver-win32/chromedriver.exe] found in cache\n"
     ]
    },
    {
     "name": "stdout",
     "output_type": "stream",
     "text": [
      "C:\\Users\\mattb\\PycharmProjects\\pythonprojects\\cicdpractice\\airflow-docker\\china_econ_data\\download\\2021\n",
      "Waiting for download to finish...\n",
      "✅ Download Completed\n",
      "File renamed to: 2021__sucffi__sucffi_Foreign_Currency__2022011915555060247.xlsx\n"
     ]
    },
    {
     "name": "stderr",
     "output_type": "stream",
     "text": [
      "2025-03-20 21:49:11,839 - WDM - INFO - ====== WebDriver manager ======\n"
     ]
    },
    {
     "name": "stdout",
     "output_type": "stream",
     "text": [
      "WebDriver Closed\n",
      "\n",
      "Year                                                            2021\n",
      "Year_Link          http://www.pbc.gov.cn/en/3688247/3688975/42807...\n",
      "Dimension          Sources and Uses of Credit Funds of Financial ...\n",
      "Dimension_Link     http://www.pbc.gov.cn/en/3688247/3688975/42807...\n",
      "Data               Sources & Uses of Credit Funds of Depository F...\n",
      "Data_Link          http://www.pbc.gov.cn/eportal/fileDir/diaochat...\n",
      "Dimension_Clean                                               sucffi\n",
      "Data_Name_Clean                             sucDffi Foreign Currency\n",
      "Name: 13, dtype: object\n",
      "2021__sucffi__sucDffi_Foreign_Currency__2022011915565075749.xlsx\n",
      "Downloading: http://www.pbc.gov.cn/eportal/fileDir/diaochatongjisi/resource/cms/2022/01/2022011915565075749.xlsx\n"
     ]
    },
    {
     "name": "stderr",
     "output_type": "stream",
     "text": [
      "2025-03-20 21:49:12,714 - WDM - INFO - Get LATEST chromedriver version for google-chrome\n",
      "2025-03-20 21:49:12,787 - WDM - INFO - Get LATEST chromedriver version for google-chrome\n",
      "2025-03-20 21:49:12,890 - WDM - INFO - Driver [C:\\Users\\mattb\\.wdm\\drivers\\chromedriver\\win64\\134.0.6998.90\\chromedriver-win32/chromedriver.exe] found in cache\n"
     ]
    },
    {
     "name": "stdout",
     "output_type": "stream",
     "text": [
      "C:\\Users\\mattb\\PycharmProjects\\pythonprojects\\cicdpractice\\airflow-docker\\china_econ_data\\download\\2021\n",
      "Waiting for download to finish...\n",
      "✅ Download Completed\n",
      "File renamed to: 2021__sucffi__sucDffi_Foreign_Currency__2022011915565075749.xlsx\n"
     ]
    },
    {
     "name": "stderr",
     "output_type": "stream",
     "text": [
      "2025-03-20 21:49:23,391 - WDM - INFO - ====== WebDriver manager ======\n"
     ]
    },
    {
     "name": "stdout",
     "output_type": "stream",
     "text": [
      "WebDriver Closed\n",
      "\n",
      "Year                                                            2021\n",
      "Year_Link          http://www.pbc.gov.cn/en/3688247/3688975/42807...\n",
      "Dimension          Sources and Uses of Credit Funds of Financial ...\n",
      "Dimension_Link     http://www.pbc.gov.cn/en/3688247/3688975/42807...\n",
      "Data               Sources & Uses of Credit Funds of Financial In...\n",
      "Data_Link          http://www.pbc.gov.cn/eportal/fileDir/diaochat...\n",
      "Dimension_Clean                                               sucffi\n",
      "Data_Name_Clean                                           sucffi RMB\n",
      "Name: 14, dtype: object\n",
      "2021__sucffi__sucffi_RMB__2022011915581022607.xlsx\n",
      "Downloading: http://www.pbc.gov.cn/eportal/fileDir/diaochatongjisi/resource/cms/2022/01/2022011915581022607.xlsx\n"
     ]
    },
    {
     "name": "stderr",
     "output_type": "stream",
     "text": [
      "2025-03-20 21:49:24,102 - WDM - INFO - Get LATEST chromedriver version for google-chrome\n",
      "2025-03-20 21:49:24,173 - WDM - INFO - Get LATEST chromedriver version for google-chrome\n",
      "2025-03-20 21:49:24,240 - WDM - INFO - Driver [C:\\Users\\mattb\\.wdm\\drivers\\chromedriver\\win64\\134.0.6998.90\\chromedriver-win32/chromedriver.exe] found in cache\n"
     ]
    },
    {
     "name": "stdout",
     "output_type": "stream",
     "text": [
      "C:\\Users\\mattb\\PycharmProjects\\pythonprojects\\cicdpractice\\airflow-docker\\china_econ_data\\download\\2021\n",
      "Waiting for download to finish...\n",
      "✅ Download Completed\n",
      "File renamed to: 2021__sucffi__sucffi_RMB__2022011915581022607.xlsx\n"
     ]
    },
    {
     "name": "stderr",
     "output_type": "stream",
     "text": [
      "2025-03-20 21:49:34,889 - WDM - INFO - ====== WebDriver manager ======\n"
     ]
    },
    {
     "name": "stdout",
     "output_type": "stream",
     "text": [
      "WebDriver Closed\n",
      "\n",
      "Year                                                            2021\n",
      "Year_Link          http://www.pbc.gov.cn/en/3688247/3688975/42807...\n",
      "Dimension          Sources and Uses of Credit Funds of Financial ...\n",
      "Dimension_Link     http://www.pbc.gov.cn/en/3688247/3688975/42807...\n",
      "Data               Sources & Uses of Credit Funds of Depository F...\n",
      "Data_Link          http://www.pbc.gov.cn/eportal/fileDir/diaochat...\n",
      "Dimension_Clean                                               sucffi\n",
      "Data_Name_Clean                                          sucDffi RMB\n",
      "Name: 15, dtype: object\n",
      "2021__sucffi__sucDffi_RMB__2022011915585996443.xlsx\n",
      "Downloading: http://www.pbc.gov.cn/eportal/fileDir/diaochatongjisi/resource/cms/2022/01/2022011915585996443.xlsx\n"
     ]
    },
    {
     "name": "stderr",
     "output_type": "stream",
     "text": [
      "2025-03-20 21:49:35,645 - WDM - INFO - Get LATEST chromedriver version for google-chrome\n",
      "2025-03-20 21:49:35,760 - WDM - INFO - Get LATEST chromedriver version for google-chrome\n",
      "2025-03-20 21:49:35,843 - WDM - INFO - Driver [C:\\Users\\mattb\\.wdm\\drivers\\chromedriver\\win64\\134.0.6998.90\\chromedriver-win32/chromedriver.exe] found in cache\n"
     ]
    },
    {
     "name": "stdout",
     "output_type": "stream",
     "text": [
      "C:\\Users\\mattb\\PycharmProjects\\pythonprojects\\cicdpractice\\airflow-docker\\china_econ_data\\download\\2021\n",
      "Waiting for download to finish...\n",
      "✅ Download Completed\n",
      "File renamed to: 2021__sucffi__sucDffi_RMB__2022011915585996443.xlsx\n"
     ]
    },
    {
     "name": "stderr",
     "output_type": "stream",
     "text": [
      "2025-03-20 21:49:46,240 - WDM - INFO - ====== WebDriver manager ======\n"
     ]
    },
    {
     "name": "stdout",
     "output_type": "stream",
     "text": [
      "WebDriver Closed\n",
      "\n",
      "Year                                                            2021\n",
      "Year_Link          http://www.pbc.gov.cn/en/3688247/3688975/42807...\n",
      "Dimension          Sources and Uses of Credit Funds of Financial ...\n",
      "Dimension_Link     http://www.pbc.gov.cn/en/3688247/3688975/42807...\n",
      "Data               Sources & Uses of Credit Funds of large-sized ...\n",
      "Data_Link          http://www.pbc.gov.cn/eportal/fileDir/diaochat...\n",
      "Dimension_Clean                                               sucffi\n",
      "Data_Name_Clean                                       sucflsoecb RMB\n",
      "Name: 16, dtype: object\n",
      "2021__sucffi__sucflsoecb_RMB__2022011916002449173.xlsx\n",
      "Downloading: http://www.pbc.gov.cn/eportal/fileDir/diaochatongjisi/resource/cms/2022/01/2022011916002449173.xlsx\n"
     ]
    },
    {
     "name": "stderr",
     "output_type": "stream",
     "text": [
      "2025-03-20 21:49:47,008 - WDM - INFO - Get LATEST chromedriver version for google-chrome\n",
      "2025-03-20 21:49:47,074 - WDM - INFO - Get LATEST chromedriver version for google-chrome\n",
      "2025-03-20 21:49:47,139 - WDM - INFO - Driver [C:\\Users\\mattb\\.wdm\\drivers\\chromedriver\\win64\\134.0.6998.90\\chromedriver-win32/chromedriver.exe] found in cache\n"
     ]
    },
    {
     "name": "stdout",
     "output_type": "stream",
     "text": [
      "C:\\Users\\mattb\\PycharmProjects\\pythonprojects\\cicdpractice\\airflow-docker\\china_econ_data\\download\\2021\n",
      "Waiting for download to finish...\n",
      "✅ Download Completed\n",
      "File renamed to: 2021__sucffi__sucflsoecb_RMB__2022011916002449173.xlsx\n"
     ]
    },
    {
     "name": "stderr",
     "output_type": "stream",
     "text": [
      "2025-03-20 21:49:57,676 - WDM - INFO - ====== WebDriver manager ======\n"
     ]
    },
    {
     "name": "stdout",
     "output_type": "stream",
     "text": [
      "WebDriver Closed\n",
      "\n",
      "Year                                                            2021\n",
      "Year_Link          http://www.pbc.gov.cn/en/3688247/3688975/42807...\n",
      "Dimension          Sources and Uses of Credit Funds of Financial ...\n",
      "Dimension_Link     http://www.pbc.gov.cn/en/3688247/3688975/42807...\n",
      "Data               Sources & Uses of Credit Funds of 4 largest St...\n",
      "Data_Link          http://www.pbc.gov.cn/eportal/fileDir/diaochat...\n",
      "Dimension_Clean                                               sucffi\n",
      "Data_Name_Clean                                  sucflsoecb big4 RMB\n",
      "Name: 17, dtype: object\n",
      "2021__sucffi__sucflsoecb_big4_RMB__2022011916011790427.xlsx\n",
      "Downloading: http://www.pbc.gov.cn/eportal/fileDir/diaochatongjisi/resource/cms/2022/01/2022011916011790427.xlsx\n"
     ]
    },
    {
     "name": "stderr",
     "output_type": "stream",
     "text": [
      "2025-03-20 21:49:58,419 - WDM - INFO - Get LATEST chromedriver version for google-chrome\n",
      "2025-03-20 21:49:58,494 - WDM - INFO - Get LATEST chromedriver version for google-chrome\n",
      "2025-03-20 21:49:58,559 - WDM - INFO - Driver [C:\\Users\\mattb\\.wdm\\drivers\\chromedriver\\win64\\134.0.6998.90\\chromedriver-win32/chromedriver.exe] found in cache\n"
     ]
    },
    {
     "name": "stdout",
     "output_type": "stream",
     "text": [
      "C:\\Users\\mattb\\PycharmProjects\\pythonprojects\\cicdpractice\\airflow-docker\\china_econ_data\\download\\2021\n",
      "Waiting for download to finish...\n",
      "✅ Download Completed\n",
      "File renamed to: 2021__sucffi__sucflsoecb_big4_RMB__2022011916011790427.xlsx\n"
     ]
    },
    {
     "name": "stderr",
     "output_type": "stream",
     "text": [
      "2025-03-20 21:50:08,863 - WDM - INFO - ====== WebDriver manager ======\n"
     ]
    },
    {
     "name": "stdout",
     "output_type": "stream",
     "text": [
      "WebDriver Closed\n",
      "\n",
      "Year                                                            2021\n",
      "Year_Link          http://www.pbc.gov.cn/en/3688247/3688975/42807...\n",
      "Dimension          Sources and Uses of Credit Funds of Financial ...\n",
      "Dimension_Link     http://www.pbc.gov.cn/en/3688247/3688975/42807...\n",
      "Data               Sources & Uses of Credit Funds of medium & sma...\n",
      "Data_Link          http://www.pbc.gov.cn/eportal/fileDir/diaochat...\n",
      "Dimension_Clean                                               sucffi\n",
      "Data_Name_Clean                                       sucfssoecb RMB\n",
      "Name: 18, dtype: object\n",
      "2021__sucffi__sucfssoecb_RMB__2022011916022130567.xlsx\n",
      "Downloading: http://www.pbc.gov.cn/eportal/fileDir/diaochatongjisi/resource/cms/2022/01/2022011916022130567.xlsx\n"
     ]
    },
    {
     "name": "stderr",
     "output_type": "stream",
     "text": [
      "2025-03-20 21:50:09,594 - WDM - INFO - Get LATEST chromedriver version for google-chrome\n",
      "2025-03-20 21:50:09,675 - WDM - INFO - Get LATEST chromedriver version for google-chrome\n",
      "2025-03-20 21:50:09,758 - WDM - INFO - Driver [C:\\Users\\mattb\\.wdm\\drivers\\chromedriver\\win64\\134.0.6998.90\\chromedriver-win32/chromedriver.exe] found in cache\n"
     ]
    },
    {
     "name": "stdout",
     "output_type": "stream",
     "text": [
      "C:\\Users\\mattb\\PycharmProjects\\pythonprojects\\cicdpractice\\airflow-docker\\china_econ_data\\download\\2021\n",
      "Waiting for download to finish...\n",
      "✅ Download Completed\n",
      "File renamed to: 2021__sucffi__sucfssoecb_RMB__2022011916022130567.xlsx\n"
     ]
    },
    {
     "name": "stderr",
     "output_type": "stream",
     "text": [
      "2025-03-20 21:50:20,655 - WDM - INFO - ====== WebDriver manager ======\n"
     ]
    },
    {
     "name": "stdout",
     "output_type": "stream",
     "text": [
      "WebDriver Closed\n",
      "\n",
      "Year                                                            2021\n",
      "Year_Link          http://www.pbc.gov.cn/en/3688247/3688975/42807...\n",
      "Dimension                                Financial Market Statistics\n",
      "Dimension_Link     http://www.pbc.gov.cn/en/3688247/3688975/42807...\n",
      "Data                                      Statistics of Stock Market\n",
      "Data_Link          http://www.pbc.gov.cn/eportal/fileDir/diaochat...\n",
      "Dimension_Clean                          Financial Market Statistics\n",
      "Data_Name_Clean                           Statistics of Stock Market\n",
      "Name: 19, dtype: object\n",
      "2021__Financial_Market_Statistics__Statistics_of_Stock_Market__2022012911122164058.xls\n",
      "Downloading: http://www.pbc.gov.cn/eportal/fileDir/diaochatongjisi/resource/cms/2022/01/2022012911122164058.xls\n"
     ]
    },
    {
     "name": "stderr",
     "output_type": "stream",
     "text": [
      "2025-03-20 21:50:21,329 - WDM - INFO - Get LATEST chromedriver version for google-chrome\n",
      "2025-03-20 21:50:21,406 - WDM - INFO - Get LATEST chromedriver version for google-chrome\n",
      "2025-03-20 21:50:21,488 - WDM - INFO - Driver [C:\\Users\\mattb\\.wdm\\drivers\\chromedriver\\win64\\134.0.6998.90\\chromedriver-win32/chromedriver.exe] found in cache\n"
     ]
    },
    {
     "name": "stdout",
     "output_type": "stream",
     "text": [
      "C:\\Users\\mattb\\PycharmProjects\\pythonprojects\\cicdpractice\\airflow-docker\\china_econ_data\\download\\2021\n",
      "Waiting for download to finish...\n",
      "✅ Download Completed\n",
      "File renamed to: 2021__Financial_Market_Statistics__Statistics_of_Stock_Market__2022012911122164058.xls\n"
     ]
    },
    {
     "name": "stderr",
     "output_type": "stream",
     "text": [
      "2025-03-20 21:50:32,130 - WDM - INFO - ====== WebDriver manager ======\n"
     ]
    },
    {
     "name": "stdout",
     "output_type": "stream",
     "text": [
      "WebDriver Closed\n",
      "\n",
      "Year                                                            2021\n",
      "Year_Link          http://www.pbc.gov.cn/en/3688247/3688975/42807...\n",
      "Dimension                                Financial Market Statistics\n",
      "Dimension_Link     http://www.pbc.gov.cn/en/3688247/3688975/42807...\n",
      "Data                          Statistics of Domestic Debt Securities\n",
      "Data_Link          http://www.pbc.gov.cn/eportal/fileDir/diaochat...\n",
      "Dimension_Clean                          Financial Market Statistics\n",
      "Data_Name_Clean               Statistics of Domestic Debt Securities\n",
      "Name: 20, dtype: object\n",
      "2021__Financial_Market_Statistics__Statistics_of_Domestic_Debt_Securities__2022012911133258968.xls\n",
      "Downloading: http://www.pbc.gov.cn/eportal/fileDir/diaochatongjisi/resource/cms/2022/01/2022012911133258968.xls\n"
     ]
    },
    {
     "name": "stderr",
     "output_type": "stream",
     "text": [
      "2025-03-20 21:50:33,015 - WDM - INFO - Get LATEST chromedriver version for google-chrome\n",
      "2025-03-20 21:50:33,092 - WDM - INFO - Get LATEST chromedriver version for google-chrome\n",
      "2025-03-20 21:50:33,168 - WDM - INFO - Driver [C:\\Users\\mattb\\.wdm\\drivers\\chromedriver\\win64\\134.0.6998.90\\chromedriver-win32/chromedriver.exe] found in cache\n"
     ]
    },
    {
     "name": "stdout",
     "output_type": "stream",
     "text": [
      "C:\\Users\\mattb\\PycharmProjects\\pythonprojects\\cicdpractice\\airflow-docker\\china_econ_data\\download\\2021\n",
      "Waiting for download to finish...\n",
      "✅ Download Completed\n",
      "File renamed to: 2021__Financial_Market_Statistics__Statistics_of_Domestic_Debt_Securities__2022012911133258968.xls\n"
     ]
    },
    {
     "name": "stderr",
     "output_type": "stream",
     "text": [
      "2025-03-20 21:50:43,623 - WDM - INFO - ====== WebDriver manager ======\n"
     ]
    },
    {
     "name": "stdout",
     "output_type": "stream",
     "text": [
      "WebDriver Closed\n",
      "\n",
      "Year                                                            2021\n",
      "Year_Link          http://www.pbc.gov.cn/en/3688247/3688975/42807...\n",
      "Dimension                                Financial Market Statistics\n",
      "Dimension_Link     http://www.pbc.gov.cn/en/3688247/3688975/42807...\n",
      "Data               Statistics of Chinabond Government Securities ...\n",
      "Data_Link          http://www.pbc.gov.cn/eportal/fileDir/diaochat...\n",
      "Dimension_Clean                          Financial Market Statistics\n",
      "Data_Name_Clean    Statistics of Chinabond Government Securities ...\n",
      "Name: 21, dtype: object\n",
      "2021__Financial_Market_Statistics__Statistics_of_Chinabond_Government_Securities_Yield__2022012911141973465.xls\n",
      "Downloading: http://www.pbc.gov.cn/eportal/fileDir/diaochatongjisi/resource/cms/2022/01/2022012911141973465.xls\n"
     ]
    },
    {
     "name": "stderr",
     "output_type": "stream",
     "text": [
      "2025-03-20 21:50:44,760 - WDM - INFO - Get LATEST chromedriver version for google-chrome\n",
      "2025-03-20 21:50:44,866 - WDM - INFO - Get LATEST chromedriver version for google-chrome\n",
      "2025-03-20 21:50:45,039 - WDM - INFO - Driver [C:\\Users\\mattb\\.wdm\\drivers\\chromedriver\\win64\\134.0.6998.90\\chromedriver-win32/chromedriver.exe] found in cache\n"
     ]
    },
    {
     "name": "stdout",
     "output_type": "stream",
     "text": [
      "C:\\Users\\mattb\\PycharmProjects\\pythonprojects\\cicdpractice\\airflow-docker\\china_econ_data\\download\\2021\n",
      "Waiting for download to finish...\n",
      "✅ Download Completed\n",
      "File renamed to: 2021__Financial_Market_Statistics__Statistics_of_Chinabond_Government_Securities_Yield__2022012911141973465.xls\n"
     ]
    },
    {
     "name": "stderr",
     "output_type": "stream",
     "text": [
      "2025-03-20 21:50:55,541 - WDM - INFO - ====== WebDriver manager ======\n"
     ]
    },
    {
     "name": "stdout",
     "output_type": "stream",
     "text": [
      "WebDriver Closed\n",
      "\n",
      "Year                                                            2021\n",
      "Year_Link          http://www.pbc.gov.cn/en/3688247/3688975/42807...\n",
      "Dimension                                Financial Market Statistics\n",
      "Dimension_Link     http://www.pbc.gov.cn/en/3688247/3688975/42807...\n",
      "Data                                 Statistics of Interbank Lending\n",
      "Data_Link          http://www.pbc.gov.cn/eportal/fileDir/diaochat...\n",
      "Dimension_Clean                          Financial Market Statistics\n",
      "Data_Name_Clean                      Statistics of Interbank Lending\n",
      "Name: 22, dtype: object\n",
      "2021__Financial_Market_Statistics__Statistics_of_Interbank_Lending__2022012911151386361.xls\n",
      "Downloading: http://www.pbc.gov.cn/eportal/fileDir/diaochatongjisi/resource/cms/2022/01/2022012911151386361.xls\n"
     ]
    },
    {
     "name": "stderr",
     "output_type": "stream",
     "text": [
      "2025-03-20 21:50:56,240 - WDM - INFO - Get LATEST chromedriver version for google-chrome\n",
      "2025-03-20 21:50:56,320 - WDM - INFO - Get LATEST chromedriver version for google-chrome\n",
      "2025-03-20 21:50:56,400 - WDM - INFO - Driver [C:\\Users\\mattb\\.wdm\\drivers\\chromedriver\\win64\\134.0.6998.90\\chromedriver-win32/chromedriver.exe] found in cache\n"
     ]
    },
    {
     "name": "stdout",
     "output_type": "stream",
     "text": [
      "C:\\Users\\mattb\\PycharmProjects\\pythonprojects\\cicdpractice\\airflow-docker\\china_econ_data\\download\\2021\n",
      "Waiting for download to finish...\n",
      "✅ Download Completed\n",
      "File renamed to: 2021__Financial_Market_Statistics__Statistics_of_Interbank_Lending__2022012911151386361.xls\n"
     ]
    },
    {
     "name": "stderr",
     "output_type": "stream",
     "text": [
      "2025-03-20 21:51:06,623 - WDM - INFO - ====== WebDriver manager ======\n"
     ]
    },
    {
     "name": "stdout",
     "output_type": "stream",
     "text": [
      "WebDriver Closed\n",
      "\n",
      "Year                                                            2021\n",
      "Year_Link          http://www.pbc.gov.cn/en/3688247/3688975/42807...\n",
      "Dimension                                Financial Market Statistics\n",
      "Dimension_Link     http://www.pbc.gov.cn/en/3688247/3688975/42807...\n",
      "Data                            Statistics of Interbank Pledged Repo\n",
      "Data_Link          http://www.pbc.gov.cn/eportal/fileDir/diaochat...\n",
      "Dimension_Clean                          Financial Market Statistics\n",
      "Data_Name_Clean                 Statistics of Interbank Pledged Repo\n",
      "Name: 23, dtype: object\n",
      "2021__Financial_Market_Statistics__Statistics_of_Interbank_Pledged_Repo__2022012911160760409.xls\n",
      "Downloading: http://www.pbc.gov.cn/eportal/fileDir/diaochatongjisi/resource/cms/2022/01/2022012911160760409.xls\n"
     ]
    },
    {
     "name": "stderr",
     "output_type": "stream",
     "text": [
      "2025-03-20 21:51:07,393 - WDM - INFO - Get LATEST chromedriver version for google-chrome\n",
      "2025-03-20 21:51:07,484 - WDM - INFO - Get LATEST chromedriver version for google-chrome\n",
      "2025-03-20 21:51:07,596 - WDM - INFO - Driver [C:\\Users\\mattb\\.wdm\\drivers\\chromedriver\\win64\\134.0.6998.90\\chromedriver-win32/chromedriver.exe] found in cache\n"
     ]
    },
    {
     "name": "stdout",
     "output_type": "stream",
     "text": [
      "C:\\Users\\mattb\\PycharmProjects\\pythonprojects\\cicdpractice\\airflow-docker\\china_econ_data\\download\\2021\n",
      "Waiting for download to finish...\n",
      "✅ Download Completed\n",
      "File renamed to: 2021__Financial_Market_Statistics__Statistics_of_Interbank_Pledged_Repo__2022012911160760409.xls\n"
     ]
    },
    {
     "name": "stderr",
     "output_type": "stream",
     "text": [
      "2025-03-20 21:51:18,029 - WDM - INFO - ====== WebDriver manager ======\n"
     ]
    },
    {
     "name": "stdout",
     "output_type": "stream",
     "text": [
      "WebDriver Closed\n",
      "\n",
      "Year                                                            2021\n",
      "Year_Link          http://www.pbc.gov.cn/en/3688247/3688975/42807...\n",
      "Dimension                                Financial Market Statistics\n",
      "Dimension_Link     http://www.pbc.gov.cn/en/3688247/3688975/42807...\n",
      "Data                                            Statistics of Shibor\n",
      "Data_Link          http://www.pbc.gov.cn/eportal/fileDir/diaochat...\n",
      "Dimension_Clean                          Financial Market Statistics\n",
      "Data_Name_Clean                                 Statistics of Shibor\n",
      "Name: 24, dtype: object\n",
      "2021__Financial_Market_Statistics__Statistics_of_Shibor__2022012911165257692.xls\n",
      "Downloading: http://www.pbc.gov.cn/eportal/fileDir/diaochatongjisi/resource/cms/2022/01/2022012911165257692.xls\n"
     ]
    },
    {
     "name": "stderr",
     "output_type": "stream",
     "text": [
      "2025-03-20 21:51:18,745 - WDM - INFO - Get LATEST chromedriver version for google-chrome\n",
      "2025-03-20 21:53:08,836 - WDM - INFO - Get LATEST chromedriver version for google-chrome\n",
      "2025-03-20 21:53:08,897 - WDM - INFO - Driver [C:\\Users\\mattb\\.wdm\\drivers\\chromedriver\\win64\\134.0.6998.90\\chromedriver-win32/chromedriver.exe] found in cache\n"
     ]
    },
    {
     "name": "stdout",
     "output_type": "stream",
     "text": [
      "C:\\Users\\mattb\\PycharmProjects\\pythonprojects\\cicdpractice\\airflow-docker\\china_econ_data\\download\\2021\n",
      "Waiting for download to finish...\n",
      "✅ Download Completed\n",
      "File renamed to: 2021__Financial_Market_Statistics__Statistics_of_Shibor__2022012911165257692.xls\n"
     ]
    },
    {
     "name": "stderr",
     "output_type": "stream",
     "text": [
      "2025-03-20 21:53:20,077 - WDM - INFO - ====== WebDriver manager ======\n"
     ]
    },
    {
     "name": "stdout",
     "output_type": "stream",
     "text": [
      "WebDriver Closed\n",
      "\n",
      "Year                                                            2021\n",
      "Year_Link          http://www.pbc.gov.cn/en/3688247/3688975/42807...\n",
      "Dimension                                         Financial Accounts\n",
      "Dimension_Link     http://www.pbc.gov.cn/en/3688247/3688975/42807...\n",
      "Data               Flow of Funds Statement(Financial Accounts)(th...\n",
      "Data_Link          http://www.pbc.gov.cn/eportal/fileDir/diaochat...\n",
      "Dimension_Clean                                   Financial Accounts\n",
      "Data_Name_Clean    Flow of Funds Statement(Financial Accounts)(th...\n",
      "Name: 25, dtype: object\n",
      "2021__Financial_Accounts__Flow_of_Funds_StatementXFinancial_AccountsXXthe_First_Half_YearX__2022051110393882917.xls\n",
      "Downloading: http://www.pbc.gov.cn/eportal/fileDir/diaochatongjisi/resource/cms/2022/05/2022051110393882917.xls\n"
     ]
    },
    {
     "name": "stderr",
     "output_type": "stream",
     "text": [
      "2025-03-20 21:53:21,106 - WDM - INFO - Get LATEST chromedriver version for google-chrome\n",
      "2025-03-20 21:53:21,193 - WDM - INFO - Get LATEST chromedriver version for google-chrome\n",
      "2025-03-20 21:53:21,274 - WDM - INFO - Driver [C:\\Users\\mattb\\.wdm\\drivers\\chromedriver\\win64\\134.0.6998.90\\chromedriver-win32/chromedriver.exe] found in cache\n"
     ]
    },
    {
     "name": "stdout",
     "output_type": "stream",
     "text": [
      "C:\\Users\\mattb\\PycharmProjects\\pythonprojects\\cicdpractice\\airflow-docker\\china_econ_data\\download\\2021\n",
      "Waiting for download to finish...\n",
      "✅ Download Completed\n",
      "File renamed to: 2021__Financial_Accounts__Flow_of_Funds_StatementXFinancial_AccountsXXthe_First_Half_YearX__2022051110393882917.xls\n"
     ]
    },
    {
     "name": "stderr",
     "output_type": "stream",
     "text": [
      "2025-03-20 21:53:32,591 - WDM - INFO - ====== WebDriver manager ======\n"
     ]
    },
    {
     "name": "stdout",
     "output_type": "stream",
     "text": [
      "WebDriver Closed\n",
      "\n",
      "Year                                                            2021\n",
      "Year_Link          http://www.pbc.gov.cn/en/3688247/3688975/42807...\n",
      "Dimension                                         Financial Accounts\n",
      "Dimension_Link     http://www.pbc.gov.cn/en/3688247/3688975/42807...\n",
      "Data               Flow of Funds Statement(Financial Accounts)(Year)\n",
      "Data_Link          http://www.pbc.gov.cn/eportal/fileDir/diaochat...\n",
      "Dimension_Clean                                   Financial Accounts\n",
      "Data_Name_Clean    Flow of Funds Statement(Financial Accounts)(Year)\n",
      "Name: 26, dtype: object\n",
      "2021__Financial_Accounts__Flow_of_Funds_StatementXFinancial_AccountsXXYearX__2022093017032067690.xls\n",
      "Downloading: http://www.pbc.gov.cn/eportal/fileDir/diaochatongjisi/resource/cms/2022/09/2022093017032067690.xls\n"
     ]
    },
    {
     "name": "stderr",
     "output_type": "stream",
     "text": [
      "2025-03-20 21:53:33,984 - WDM - INFO - Get LATEST chromedriver version for google-chrome\n",
      "2025-03-20 21:53:34,072 - WDM - INFO - Get LATEST chromedriver version for google-chrome\n",
      "2025-03-20 21:53:34,140 - WDM - INFO - Driver [C:\\Users\\mattb\\.wdm\\drivers\\chromedriver\\win64\\134.0.6998.90\\chromedriver-win32/chromedriver.exe] found in cache\n"
     ]
    },
    {
     "name": "stdout",
     "output_type": "stream",
     "text": [
      "C:\\Users\\mattb\\PycharmProjects\\pythonprojects\\cicdpractice\\airflow-docker\\china_econ_data\\download\\2021\n",
      "Waiting for download to finish...\n",
      "✅ Download Completed\n",
      "File renamed to: 2021__Financial_Accounts__Flow_of_Funds_StatementXFinancial_AccountsXXYearX__2022093017032067690.xls\n",
      "WebDriver Closed\n",
      "\n",
      "Year                                                            2021\n",
      "Year_Link          http://www.pbc.gov.cn/en/3688247/3688975/42807...\n",
      "Dimension                                         Financial Accounts\n",
      "Dimension_Link     http://www.pbc.gov.cn/en/3688247/3688975/42807...\n",
      "Data               Financial Assets and Liabilities Statement(Fin...\n",
      "Data_Link                                                        NaN\n",
      "Dimension_Clean                                   Financial Accounts\n",
      "Data_Name_Clean    Financial Assets and Liabilities Statement(Fin...\n",
      "Name: 27, dtype: object\n"
     ]
    },
    {
     "ename": "AttributeError",
     "evalue": "'float' object has no attribute 'split'",
     "output_type": "error",
     "traceback": [
      "\u001b[1;31m---------------------------------------------------------------------------\u001b[0m",
      "\u001b[1;31mAttributeError\u001b[0m                            Traceback (most recent call last)",
      "Cell \u001b[1;32mIn[26], line 9\u001b[0m\n\u001b[0;32m      7\u001b[0m data_name_clean\u001b[38;5;241m=\u001b[39mrow[\u001b[38;5;124m'\u001b[39m\u001b[38;5;124mData_Name_Clean\u001b[39m\u001b[38;5;124m'\u001b[39m]\n\u001b[0;32m      8\u001b[0m data_link\u001b[38;5;241m=\u001b[39mrow[\u001b[38;5;124m'\u001b[39m\u001b[38;5;124mData_Link\u001b[39m\u001b[38;5;124m'\u001b[39m]\n\u001b[1;32m----> 9\u001b[0m data_type\u001b[38;5;241m=\u001b[39m\u001b[43mdata_link\u001b[49m\u001b[38;5;241;43m.\u001b[39;49m\u001b[43msplit\u001b[49m(\u001b[38;5;124m'\u001b[39m\u001b[38;5;124m/\u001b[39m\u001b[38;5;124m'\u001b[39m)[\u001b[38;5;241m-\u001b[39m\u001b[38;5;241m1\u001b[39m]\n\u001b[0;32m     10\u001b[0m new_filename\u001b[38;5;241m=\u001b[39m\u001b[38;5;124mf\u001b[39m\u001b[38;5;124m'\u001b[39m\u001b[38;5;132;01m{\u001b[39;00myear\u001b[38;5;132;01m}\u001b[39;00m\u001b[38;5;124m__\u001b[39m\u001b[38;5;132;01m{\u001b[39;00mdimension_clean\u001b[38;5;241m.\u001b[39mreplace(\u001b[38;5;124m'\u001b[39m\u001b[38;5;124m \u001b[39m\u001b[38;5;124m'\u001b[39m,\u001b[38;5;250m \u001b[39m\u001b[38;5;124m'\u001b[39m\u001b[38;5;124m_\u001b[39m\u001b[38;5;124m'\u001b[39m)\u001b[38;5;132;01m}\u001b[39;00m\u001b[38;5;124m__\u001b[39m\u001b[38;5;132;01m{\u001b[39;00mdata_name_clean\u001b[38;5;241m.\u001b[39mreplace(\u001b[38;5;124m'\u001b[39m\u001b[38;5;124m \u001b[39m\u001b[38;5;124m'\u001b[39m,\u001b[38;5;250m \u001b[39m\u001b[38;5;124m'\u001b[39m\u001b[38;5;124m_\u001b[39m\u001b[38;5;124m'\u001b[39m)\u001b[38;5;132;01m}\u001b[39;00m\u001b[38;5;124m__\u001b[39m\u001b[38;5;132;01m{\u001b[39;00mdata_type\u001b[38;5;132;01m}\u001b[39;00m\u001b[38;5;124m'\u001b[39m\n\u001b[0;32m     11\u001b[0m new_filename\u001b[38;5;241m=\u001b[39mreplace_special_chars(new_filename)\n",
      "\u001b[1;31mAttributeError\u001b[0m: 'float' object has no attribute 'split'"
     ]
    }
   ],
   "source": [
    "for index, row in year_df_3.iterrows():\n",
    "    print(row)\n",
    "    year = row['Year']\n",
    "    dimension = row['Dimension']\n",
    "    dimension_clean = row['Dimension_Clean']\n",
    "    data_name=row['Data']\n",
    "    data_name_clean=row['Data_Name_Clean']\n",
    "    data_link=row['Data_Link']\n",
    "    data_type=data_link.split('/')[-1]\n",
    "    new_filename=f'{year}__{dimension_clean.replace(' ', '_')}__{data_name_clean.replace(' ', '_')}__{data_type}'\n",
    "    new_filename=replace_special_chars(new_filename)\n",
    "    print(new_filename)\n",
    "    target_path=fr\"C:\\Users\\mattb\\PycharmProjects\\pythonprojects\\cicdpractice\\airflow-docker\\china_econ_data\\download\\{target_year}\" \n",
    "    dir_path = Path(\"target_path\")    \n",
    "    dir_path.mkdir(parents=True, exist_ok=True)\n",
    "    failed_downloads=pd.DataFrame(columns=['new_filename', 'link'])\n",
    "    try:\n",
    "        print(f\"Downloading: {data_link}\")\n",
    "        web_driver = init_driver(target_path)\n",
    "        web_driver.get(data_link) \n",
    "        time.sleep(5)\n",
    "        wait_for_download(target_path, new_filename,data_type, timeout=60)\n",
    "\n",
    "    except Exception as e:\n",
    "        link_dict = {'new_filename': new_filename, 'link': data_link}\n",
    "        failed_downloads = pd.concat([failed_downloads, pd.DataFrame([link_dict])], ignore_index=True)        \n",
    "        print(f\"❌ Failed: {e}\")\n",
    "    \n",
    "    finally:\n",
    "        web_driver.quit()\n",
    "        print(\"WebDriver Closed\\n\")\n",
    "    failed_downloads.to_csv(script_outputs_directory+f'failed_downloads_{target_year}.csv')    "
   ]
  },
  {
   "cell_type": "code",
   "execution_count": null,
   "id": "8448ef88-38d7-4788-ab64-957c23102160",
   "metadata": {},
   "outputs": [],
   "source": []
  }
 ],
 "metadata": {
  "kernelspec": {
   "display_name": "Python 3 (ipykernel)",
   "language": "python",
   "name": "python3"
  },
  "language_info": {
   "codemirror_mode": {
    "name": "ipython",
    "version": 3
   },
   "file_extension": ".py",
   "mimetype": "text/x-python",
   "name": "python",
   "nbconvert_exporter": "python",
   "pygments_lexer": "ipython3",
   "version": "3.13.2"
  }
 },
 "nbformat": 4,
 "nbformat_minor": 5
}
