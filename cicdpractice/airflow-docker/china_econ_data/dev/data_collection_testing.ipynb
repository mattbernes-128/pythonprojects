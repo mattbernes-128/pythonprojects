{
 "cells": [
  {
   "cell_type": "code",
   "execution_count": 27,
   "id": "573c5605-f54d-4689-a3d0-81d31153762c",
   "metadata": {},
   "outputs": [],
   "source": [
    "import urllib3\n",
    "import re\n",
    "import sys\n",
    "import pandas as pd\n",
    "import os\n",
    "import shutil\n",
    "from selenium.webdriver.common.by import By\n",
    "from pathlib import Path\n",
    "import time\n",
    "sys.path.append(r'C:\\Users\\mattb\\PycharmProjects\\pythonprojects\\cicdpractice\\prod_lib')\n",
    "from  web_tools import logger_setup,init_driver,find_element_wait,find_elements_wait\n",
    "script_outputs_directory = r'C:\\Users\\mattb\\PycharmProjects\\pythonprojects\\cicdpractice\\airflow-docker\\china_econ_data\\script_outputs'\n",
    "target_year=2024\n",
    "logger=logger_setup()\n",
    "urllib3.disable_warnings(urllib3.exceptions.InsecureRequestWarning)\n",
    "\n",
    "def replace_special_chars(text):\n",
    "    return re.sub(r'[^A-Za-z0-9_.]', 'X', text)\n",
    "\n",
    "\n",
    "def collect_links(Dimension, data_links):\n",
    "    df = pd.DataFrame(columns=[Dimension, 'Link'])\n",
    "    for data_link in data_links:\n",
    "        link_dict = {Dimension: data_link.text, 'Link': data_link.get_attribute('href')}\n",
    "        df = pd.concat([df, pd.DataFrame([link_dict])], ignore_index=True)  \n",
    "    print(f'collected {len(df)} links')\n",
    "    return df\n",
    "\n",
    "def collect_dimension_links(year_df,year=None):\n",
    "    year_df_2_list = []\n",
    "    if year is None:\n",
    "        year_df=year_df\n",
    "    else:\n",
    "        year_df=year_df[year_df['Year'] == year] \n",
    "        print(year_df)\n",
    "    for index, row in year_df.iterrows():\n",
    "        print(row)\n",
    "        year = row['Year']\n",
    "        year_link = row['Link']\n",
    "        web_driver = init_driver()\n",
    "        print(f\"Navigating to {year_link}...\")\n",
    "        web_driver.get(year_link) \n",
    "        dimension_links = find_elements_wait(driver=web_driver, selector='div[class=\"ListR\"] > a')     \n",
    "        for data_link in dimension_links:\n",
    "            dimension = data_link.text\n",
    "            dimension_link = data_link.get_attribute(\"href\")\n",
    "            print(dimension)\n",
    "            print(dimension_link)            \n",
    "            link_dict = {'Year': year, 'Year_Link': year_link, 'Dimension': dimension, 'Dimension_Link': dimension_link}      \n",
    "            year_df_2_list.append(link_dict)\n",
    "        web_driver.quit()\n",
    "    year_df_2 = pd.DataFrame(year_df_2_list)\n",
    "    print(f'collected {len(year_df_2)} links')\n",
    "    return year_df_2\n",
    "        \n",
    "def collect_file_links(year_df_2_sample):\n",
    "    year_df_3_list = [] \n",
    "    for index, row in year_df_2_sample.iterrows():\n",
    "        print(row)\n",
    "        year = row['Year']\n",
    "        year_link = row['Year_Link']\n",
    "        dimension = row['Dimension']\n",
    "        dimension_link = row['Dimension_Link']\n",
    "        \n",
    "        web_driver = init_driver()\n",
    "        web_driver.get(dimension_link)   \n",
    "        \n",
    "        table_cells = find_elements_wait(driver=web_driver, selector='table[class=\"data_table\"] tbody > tr > td')\n",
    "\n",
    "        row_name = None\n",
    "        xls_link_text = None\n",
    "        \n",
    "        for cell in table_cells:\n",
    "            if cell.get_attribute(\"class\") != \"data_xz\":\n",
    "                row_name = cell.text\n",
    "                print(row_name)\n",
    "            elif cell.get_attribute(\"class\") == \"data_xz\":\n",
    "                xls_link = cell.find_element(By.CSS_SELECTOR, 'a')\n",
    "                if xls_link.text == \"xls\":\n",
    "                    xls_link_text = xls_link.get_attribute('href')\n",
    "                    print(xls_link_text)\n",
    "                    #xls_link.click()\n",
    "\n",
    "                    # Append to list\n",
    "                    link_dict = {\n",
    "                        'Year': year,\n",
    "                        'Year_Link': year_link,\n",
    "                        'Dimension': dimension,\n",
    "                        'Dimension_Link': dimension_link,\n",
    "                        'Data': row_name,\n",
    "                        'Data_Link': xls_link_text\n",
    "                    }\n",
    "                    year_df_3_list.append(link_dict)\n",
    "\n",
    "        web_driver.quit()\n",
    "\n",
    "    # Create the DataFrame only once at the end\n",
    "    year_df_3 = pd.DataFrame(year_df_3_list)\n",
    "    return year_df_3\n",
    "\n",
    "def wait_for_download(download_folder, new_filename,file_name,timeout=60):\n",
    "    print(download_folder)\n",
    "    end_time = time.time() + timeout\n",
    "    print(\"Waiting for download to finish...\")\n",
    "\n",
    "    while time.time() < end_time:\n",
    "        files = os.listdir(download_folder)\n",
    "        \n",
    "        # Exclude temporary download files\n",
    "        downloading = [f for f in files if f.endswith(\".crdownload\") or f.endswith(\".part\")]\n",
    "        \n",
    "        print(\"✅ Download Completed\")\n",
    "        #Find the downloaded file (Assume the last modified file is the download)\n",
    "        downloaded_file=os.path.join(download_folder,file_name)\n",
    "        downloaded_file = max([os.path.join(download_folder, f) for f in files], key=os.path.getmtime)\n",
    "        renamed_file = os.path.join(download_folder, new_filename)\n",
    "        os.rename(downloaded_file, renamed_file)\n",
    "        print(f\"File renamed to: {new_filename}\")\n",
    "        return True\n",
    "        time.sleep(2)  # Check every 2 seconds\n",
    "\n",
    "    print(\"❌ Download Timed Out\")\n",
    "    return False  \n",
    " "
   ]
  },
  {
   "cell_type": "code",
   "execution_count": 28,
   "id": "55a62dde-0020-479a-8993-6a31db635e3c",
   "metadata": {},
   "outputs": [
    {
     "name": "stderr",
     "output_type": "stream",
     "text": [
      "<>:6: SyntaxWarning: invalid escape sequence '\\y'\n",
      "<>:6: SyntaxWarning: invalid escape sequence '\\y'\n",
      "C:\\Users\\mattb\\AppData\\Local\\Temp\\ipykernel_4808\\550735610.py:6: SyntaxWarning: invalid escape sequence '\\y'\n",
      "  year_df.to_csv(script_outputs_directory+'\\year_link.csv', index=False)\n",
      "2025-04-02 20:47:15,997 - WDM - INFO - ====== WebDriver manager ======\n",
      "2025-04-02 20:47:16,806 - WDM - INFO - Get LATEST chromedriver version for google-chrome\n",
      "2025-04-02 20:47:17,105 - WDM - INFO - Get LATEST chromedriver version for google-chrome\n",
      "2025-04-02 20:47:17,178 - WDM - INFO - There is no [win64] chromedriver \"134.0.6998.165\" for browser google-chrome \"134.0.6998\" in cache\n",
      "2025-04-02 20:47:17,179 - WDM - INFO - Get LATEST chromedriver version for google-chrome\n",
      "2025-04-02 20:47:17,542 - WDM - INFO - WebDriver version 134.0.6998.165 selected\n",
      "2025-04-02 20:47:17,545 - WDM - INFO - Modern chrome version https://storage.googleapis.com/chrome-for-testing-public/134.0.6998.165/win32/chromedriver-win32.zip\n",
      "2025-04-02 20:47:17,545 - WDM - INFO - About to download new driver from https://storage.googleapis.com/chrome-for-testing-public/134.0.6998.165/win32/chromedriver-win32.zip\n",
      "2025-04-02 20:47:17,650 - WDM - INFO - Driver downloading response is 200\n",
      "2025-04-02 20:47:20,221 - WDM - INFO - Get LATEST chromedriver version for google-chrome\n",
      "2025-04-02 20:47:21,397 - WDM - INFO - Driver has been saved in cache [C:\\Users\\mattb\\.wdm\\drivers\\chromedriver\\win64\\134.0.6998.165]\n"
     ]
    },
    {
     "name": "stdout",
     "output_type": "stream",
     "text": [
      "collected 20 links\n"
     ]
    }
   ],
   "source": [
    "web_driver = init_driver()\n",
    "data_index_page = \"http://www.pbc.gov.cn/en/3688247/3688975/index.html\"\n",
    "web_driver.get(data_index_page)\n",
    "year_links = find_elements_wait(driver=web_driver, selector='ul > li[class=\"class_A\"] > a')\n",
    "year_df = collect_links('Year', year_links)\n",
    "year_df.to_csv(script_outputs_directory+'\\year_link.csv', index=False)"
   ]
  },
  {
   "cell_type": "code",
   "execution_count": 29,
   "id": "0803174f-961b-4fdd-914e-cbcc9127828b",
   "metadata": {
    "scrolled": true
   },
   "outputs": [
    {
     "name": "stderr",
     "output_type": "stream",
     "text": [
      "<>:1: SyntaxWarning: invalid escape sequence '\\y'\n",
      "<>:1: SyntaxWarning: invalid escape sequence '\\y'\n",
      "C:\\Users\\mattb\\AppData\\Local\\Temp\\ipykernel_4808\\2338910531.py:1: SyntaxWarning: invalid escape sequence '\\y'\n",
      "  year_df=pd.read_csv(script_outputs_directory+'\\year_link.csv')\n"
     ]
    }
   ],
   "source": [
    "year_df=pd.read_csv(script_outputs_directory+'\\year_link.csv')"
   ]
  },
  {
   "cell_type": "code",
   "execution_count": 30,
   "id": "4371b874-ae06-4bed-ba4b-e5906c9a2ee0",
   "metadata": {
    "scrolled": true
   },
   "outputs": [
    {
     "name": "stderr",
     "output_type": "stream",
     "text": [
      "2025-04-02 20:48:11,753 - WDM - INFO - ====== WebDriver manager ======\n"
     ]
    },
    {
     "name": "stdout",
     "output_type": "stream",
     "text": [
      "   Year                                               Link\n",
      "1  2024  http://www.pbc.gov.cn/en/3688247/3688975/52423...\n",
      "Year                                                 2024\n",
      "Link    http://www.pbc.gov.cn/en/3688247/3688975/52423...\n",
      "Name: 1, dtype: object\n"
     ]
    },
    {
     "name": "stderr",
     "output_type": "stream",
     "text": [
      "2025-04-02 20:48:12,539 - WDM - INFO - Get LATEST chromedriver version for google-chrome\n",
      "2025-04-02 20:48:12,657 - WDM - INFO - Get LATEST chromedriver version for google-chrome\n",
      "2025-04-02 20:48:12,729 - WDM - INFO - Driver [C:\\Users\\mattb\\.wdm\\drivers\\chromedriver\\win64\\134.0.6998.165\\chromedriver-win32/chromedriver.exe] found in cache\n"
     ]
    },
    {
     "name": "stdout",
     "output_type": "stream",
     "text": [
      "Navigating to http://www.pbc.gov.cn/en/3688247/3688975/5242368/index.html...\n",
      "Aggregate Financing to the Real Economy\n",
      "http://www.pbc.gov.cn/en/3688247/3688975/5242368/5242421/index.html\n",
      "Money and Banking Statistics\n",
      "http://www.pbc.gov.cn/en/3688247/3688975/5242368/5242424/index.html\n",
      "Assets and Liabilities Statistics of Financial Institutions\n",
      "http://www.pbc.gov.cn/en/3688247/3688975/5242368/5242427/index.html\n",
      "Sources and Uses of Credit Funds of Financial Institutions\n",
      "http://www.pbc.gov.cn/en/3688247/3688975/5242368/5242430/index.html\n",
      "Financial Market Statistics\n",
      "http://www.pbc.gov.cn/en/3688247/3688975/5242368/5242433/index.html\n",
      "Financial Accounts\n",
      "http://www.pbc.gov.cn/en/3688247/3688975/5242368/5647472/index.html\n",
      "Corporate Goods Price Indices\n",
      "http://www.pbc.gov.cn/en/3688247/3688975/5242368/5242436/index.html\n",
      "collected 7 links\n"
     ]
    }
   ],
   "source": [
    "year_df_2=collect_dimension_links(year_df,target_year)"
   ]
  },
  {
   "cell_type": "code",
   "execution_count": 31,
   "id": "40126320-ff01-4bee-89c1-891ec41642db",
   "metadata": {},
   "outputs": [
    {
     "name": "stderr",
     "output_type": "stream",
     "text": [
      "2025-04-02 20:48:30,198 - WDM - INFO - ====== WebDriver manager ======\n"
     ]
    },
    {
     "name": "stdout",
     "output_type": "stream",
     "text": [
      "Year                                                           2024\n",
      "Year_Link         http://www.pbc.gov.cn/en/3688247/3688975/52423...\n",
      "Dimension                   Aggregate Financing to the Real Economy\n",
      "Dimension_Link    http://www.pbc.gov.cn/en/3688247/3688975/52423...\n",
      "Name: 0, dtype: object\n"
     ]
    },
    {
     "name": "stderr",
     "output_type": "stream",
     "text": [
      "2025-04-02 20:48:31,194 - WDM - INFO - Get LATEST chromedriver version for google-chrome\n",
      "2025-04-02 20:48:31,256 - WDM - INFO - Get LATEST chromedriver version for google-chrome\n",
      "2025-04-02 20:48:31,417 - WDM - INFO - Driver [C:\\Users\\mattb\\.wdm\\drivers\\chromedriver\\win64\\134.0.6998.165\\chromedriver-win32/chromedriver.exe] found in cache\n"
     ]
    },
    {
     "name": "stdout",
     "output_type": "stream",
     "text": [
      "Aggregate Financing to the Real Economy (Flow)\n",
      "http://www.pbc.gov.cn/eportal/fileDir/diaochatongjisi/resource/cms/2025/02/2025021419540681589.xlsx\n",
      "Aggregate Financing to the Real Economy (Stock)\n",
      "http://www.pbc.gov.cn/eportal/fileDir/diaochatongjisi/resource/cms/2025/02/2025021419540645809.xlsx\n",
      "Aggregate Financing to the Real Economy（flow）by Province\n"
     ]
    },
    {
     "name": "stderr",
     "output_type": "stream",
     "text": [
      "2025-04-02 20:48:42,587 - WDM - INFO - ====== WebDriver manager ======\n"
     ]
    },
    {
     "name": "stdout",
     "output_type": "stream",
     "text": [
      "Year                                                           2024\n",
      "Year_Link         http://www.pbc.gov.cn/en/3688247/3688975/52423...\n",
      "Dimension                              Money and Banking Statistics\n",
      "Dimension_Link    http://www.pbc.gov.cn/en/3688247/3688975/52423...\n",
      "Name: 1, dtype: object\n"
     ]
    },
    {
     "name": "stderr",
     "output_type": "stream",
     "text": [
      "2025-04-02 20:48:43,373 - WDM - INFO - Get LATEST chromedriver version for google-chrome\n",
      "2025-04-02 20:48:44,463 - WDM - INFO - Get LATEST chromedriver version for google-chrome\n",
      "2025-04-02 20:48:44,581 - WDM - INFO - Driver [C:\\Users\\mattb\\.wdm\\drivers\\chromedriver\\win64\\134.0.6998.165\\chromedriver-win32/chromedriver.exe] found in cache\n"
     ]
    },
    {
     "name": "stdout",
     "output_type": "stream",
     "text": [
      "Official reserve assets\n",
      "http://www.pbc.gov.cn/eportal/fileDir/diaochatongjisi/resource/cms/2025/01/2025010716391872471.xlsx\n",
      "Balance Sheet of Monetary Authority\n",
      "http://www.pbc.gov.cn/eportal/fileDir/diaochatongjisi/resource/cms/2025/01/2025011418090187343.xlsx\n",
      "Depository Corporations Survey\n",
      "http://www.pbc.gov.cn/eportal/fileDir/diaochatongjisi/resource/cms/2025/01/2025011418090137437.xlsx\n",
      "Balance Sheet of Other Depository Corporations\n",
      "http://www.pbc.gov.cn/eportal/fileDir/diaochatongjisi/resource/cms/2025/01/2025011418090228657.xlsx\n",
      "Money Supply\n",
      "http://www.pbc.gov.cn/eportal/fileDir/diaochatongjisi/resource/cms/2025/01/2025011418090142647.xlsx\n",
      "Exchange Rate\n",
      "http://www.pbc.gov.cn/eportal/fileDir/diaochatongjisi/resource/cms/2025/01/2025011418090118903.xlsx\n",
      "Domestic RMB Financial Assets Held by Overseas Entities\n",
      "http://www.pbc.gov.cn/eportal/fileDir/diaochatongjisi/resource/cms/2024/10/2024103116592538761.xlsx\n",
      "Template on International Reserves and Foreign Currency Liquidity\n",
      "01\n",
      "02\n",
      "03\n",
      "04\n",
      "05\n",
      "06\n",
      "07\n",
      "08\n",
      "09\n",
      "10\n",
      "11\n",
      "12\n",
      "Advance Release Calendar (ARC)\n",
      "http://www.pbc.gov.cn/eportal/fileDir/diaochatongjisi/resource/cms/2024/12/2024123116053491285.xls\n"
     ]
    },
    {
     "name": "stderr",
     "output_type": "stream",
     "text": [
      "2025-04-02 20:48:53,641 - WDM - INFO - ====== WebDriver manager ======\n"
     ]
    },
    {
     "name": "stdout",
     "output_type": "stream",
     "text": [
      "Year                                                           2024\n",
      "Year_Link         http://www.pbc.gov.cn/en/3688247/3688975/52423...\n",
      "Dimension         Assets and Liabilities Statistics of Financial...\n",
      "Dimension_Link    http://www.pbc.gov.cn/en/3688247/3688975/52423...\n",
      "Name: 2, dtype: object\n"
     ]
    },
    {
     "name": "stderr",
     "output_type": "stream",
     "text": [
      "2025-04-02 20:48:54,521 - WDM - INFO - Get LATEST chromedriver version for google-chrome\n",
      "2025-04-02 20:48:54,694 - WDM - INFO - Get LATEST chromedriver version for google-chrome\n",
      "2025-04-02 20:48:54,819 - WDM - INFO - Driver [C:\\Users\\mattb\\.wdm\\drivers\\chromedriver\\win64\\134.0.6998.165\\chromedriver-win32/chromedriver.exe] found in cache\n"
     ]
    },
    {
     "name": "stdout",
     "output_type": "stream",
     "text": [
      "Assets and Liabilities Statistics of Financial Institutions\n"
     ]
    },
    {
     "name": "stderr",
     "output_type": "stream",
     "text": [
      "2025-04-02 20:49:03,190 - WDM - INFO - ====== WebDriver manager ======\n"
     ]
    },
    {
     "name": "stdout",
     "output_type": "stream",
     "text": [
      "Year                                                           2024\n",
      "Year_Link         http://www.pbc.gov.cn/en/3688247/3688975/52423...\n",
      "Dimension         Sources and Uses of Credit Funds of Financial ...\n",
      "Dimension_Link    http://www.pbc.gov.cn/en/3688247/3688975/52423...\n",
      "Name: 3, dtype: object\n"
     ]
    },
    {
     "name": "stderr",
     "output_type": "stream",
     "text": [
      "2025-04-02 20:49:03,940 - WDM - INFO - Get LATEST chromedriver version for google-chrome\n",
      "2025-04-02 20:49:04,072 - WDM - INFO - Get LATEST chromedriver version for google-chrome\n",
      "2025-04-02 20:49:04,152 - WDM - INFO - Driver [C:\\Users\\mattb\\.wdm\\drivers\\chromedriver\\win64\\134.0.6998.165\\chromedriver-win32/chromedriver.exe] found in cache\n"
     ]
    },
    {
     "ename": "KeyboardInterrupt",
     "evalue": "",
     "output_type": "error",
     "traceback": [
      "\u001b[1;31m---------------------------------------------------------------------------\u001b[0m",
      "\u001b[1;31mKeyboardInterrupt\u001b[0m                         Traceback (most recent call last)",
      "Cell \u001b[1;32mIn[31], line 1\u001b[0m\n\u001b[1;32m----> 1\u001b[0m year_df_3\u001b[38;5;241m=\u001b[39m\u001b[43mcollect_file_links\u001b[49m\u001b[43m(\u001b[49m\u001b[43myear_df_2\u001b[49m\u001b[43m)\u001b[49m\n\u001b[0;32m      2\u001b[0m year_df_3\u001b[38;5;241m.\u001b[39mto_csv(\u001b[38;5;124mrf\u001b[39m\u001b[38;5;124m\"\u001b[39m\u001b[38;5;132;01m{\u001b[39;00mscript_outputs_directory\u001b[38;5;132;01m}\u001b[39;00m\u001b[38;5;124m\\\u001b[39m\u001b[38;5;124myear_df_3_\u001b[39m\u001b[38;5;132;01m{\u001b[39;00mtarget_year\u001b[38;5;132;01m}\u001b[39;00m\u001b[38;5;124m.csv\u001b[39m\u001b[38;5;124m\"\u001b[39m, index\u001b[38;5;241m=\u001b[39m\u001b[38;5;28;01mFalse\u001b[39;00m)\n",
      "Cell \u001b[1;32mIn[27], line 66\u001b[0m, in \u001b[0;36mcollect_file_links\u001b[1;34m(year_df_2_sample)\u001b[0m\n\u001b[0;32m     63\u001b[0m dimension_link \u001b[38;5;241m=\u001b[39m row[\u001b[38;5;124m'\u001b[39m\u001b[38;5;124mDimension_Link\u001b[39m\u001b[38;5;124m'\u001b[39m]\n\u001b[0;32m     65\u001b[0m web_driver \u001b[38;5;241m=\u001b[39m init_driver()\n\u001b[1;32m---> 66\u001b[0m \u001b[43mweb_driver\u001b[49m\u001b[38;5;241;43m.\u001b[39;49m\u001b[43mget\u001b[49m\u001b[43m(\u001b[49m\u001b[43mdimension_link\u001b[49m\u001b[43m)\u001b[49m   \n\u001b[0;32m     68\u001b[0m table_cells \u001b[38;5;241m=\u001b[39m find_elements_wait(driver\u001b[38;5;241m=\u001b[39mweb_driver, selector\u001b[38;5;241m=\u001b[39m\u001b[38;5;124m'\u001b[39m\u001b[38;5;124mtable[class=\u001b[39m\u001b[38;5;124m\"\u001b[39m\u001b[38;5;124mdata_table\u001b[39m\u001b[38;5;124m\"\u001b[39m\u001b[38;5;124m] tbody > tr > td\u001b[39m\u001b[38;5;124m'\u001b[39m)\n\u001b[0;32m     70\u001b[0m row_name \u001b[38;5;241m=\u001b[39m \u001b[38;5;28;01mNone\u001b[39;00m\n",
      "File \u001b[1;32m~\\PycharmProjects\\pythonprojects\\cicdpractice\\venv\\Lib\\site-packages\\selenium\\webdriver\\remote\\webdriver.py:454\u001b[0m, in \u001b[0;36mWebDriver.get\u001b[1;34m(self, url)\u001b[0m\n\u001b[0;32m    436\u001b[0m \u001b[38;5;28;01mdef\u001b[39;00m\u001b[38;5;250m \u001b[39m\u001b[38;5;21mget\u001b[39m(\u001b[38;5;28mself\u001b[39m, url: \u001b[38;5;28mstr\u001b[39m) \u001b[38;5;241m-\u001b[39m\u001b[38;5;241m>\u001b[39m \u001b[38;5;28;01mNone\u001b[39;00m:\n\u001b[0;32m    437\u001b[0m \u001b[38;5;250m    \u001b[39m\u001b[38;5;124;03m\"\"\"Navigate the browser to the specified URL in the current window or\u001b[39;00m\n\u001b[0;32m    438\u001b[0m \u001b[38;5;124;03m    tab.\u001b[39;00m\n\u001b[0;32m    439\u001b[0m \n\u001b[1;32m   (...)\u001b[0m\n\u001b[0;32m    452\u001b[0m \u001b[38;5;124;03m    >>> driver.get(\"https://example.com\")\u001b[39;00m\n\u001b[0;32m    453\u001b[0m \u001b[38;5;124;03m    \"\"\"\u001b[39;00m\n\u001b[1;32m--> 454\u001b[0m     \u001b[38;5;28;43mself\u001b[39;49m\u001b[38;5;241;43m.\u001b[39;49m\u001b[43mexecute\u001b[49m\u001b[43m(\u001b[49m\u001b[43mCommand\u001b[49m\u001b[38;5;241;43m.\u001b[39;49m\u001b[43mGET\u001b[49m\u001b[43m,\u001b[49m\u001b[43m \u001b[49m\u001b[43m{\u001b[49m\u001b[38;5;124;43m\"\u001b[39;49m\u001b[38;5;124;43murl\u001b[39;49m\u001b[38;5;124;43m\"\u001b[39;49m\u001b[43m:\u001b[49m\u001b[43m \u001b[49m\u001b[43murl\u001b[49m\u001b[43m}\u001b[49m\u001b[43m)\u001b[49m\n",
      "File \u001b[1;32m~\\PycharmProjects\\pythonprojects\\cicdpractice\\venv\\Lib\\site-packages\\selenium\\webdriver\\remote\\webdriver.py:427\u001b[0m, in \u001b[0;36mWebDriver.execute\u001b[1;34m(self, driver_command, params)\u001b[0m\n\u001b[0;32m    424\u001b[0m     \u001b[38;5;28;01melif\u001b[39;00m \u001b[38;5;124m\"\u001b[39m\u001b[38;5;124msessionId\u001b[39m\u001b[38;5;124m\"\u001b[39m \u001b[38;5;129;01mnot\u001b[39;00m \u001b[38;5;129;01min\u001b[39;00m params:\n\u001b[0;32m    425\u001b[0m         params[\u001b[38;5;124m\"\u001b[39m\u001b[38;5;124msessionId\u001b[39m\u001b[38;5;124m\"\u001b[39m] \u001b[38;5;241m=\u001b[39m \u001b[38;5;28mself\u001b[39m\u001b[38;5;241m.\u001b[39msession_id\n\u001b[1;32m--> 427\u001b[0m response \u001b[38;5;241m=\u001b[39m \u001b[38;5;28;43mself\u001b[39;49m\u001b[38;5;241;43m.\u001b[39;49m\u001b[43mcommand_executor\u001b[49m\u001b[38;5;241;43m.\u001b[39;49m\u001b[43mexecute\u001b[49m\u001b[43m(\u001b[49m\u001b[43mdriver_command\u001b[49m\u001b[43m,\u001b[49m\u001b[43m \u001b[49m\u001b[43mparams\u001b[49m\u001b[43m)\u001b[49m\n\u001b[0;32m    428\u001b[0m \u001b[38;5;28;01mif\u001b[39;00m response:\n\u001b[0;32m    429\u001b[0m     \u001b[38;5;28mself\u001b[39m\u001b[38;5;241m.\u001b[39merror_handler\u001b[38;5;241m.\u001b[39mcheck_response(response)\n",
      "File \u001b[1;32m~\\PycharmProjects\\pythonprojects\\cicdpractice\\venv\\Lib\\site-packages\\selenium\\webdriver\\remote\\remote_connection.py:404\u001b[0m, in \u001b[0;36mRemoteConnection.execute\u001b[1;34m(self, command, params)\u001b[0m\n\u001b[0;32m    402\u001b[0m trimmed \u001b[38;5;241m=\u001b[39m \u001b[38;5;28mself\u001b[39m\u001b[38;5;241m.\u001b[39m_trim_large_entries(params)\n\u001b[0;32m    403\u001b[0m LOGGER\u001b[38;5;241m.\u001b[39mdebug(\u001b[38;5;124m\"\u001b[39m\u001b[38;5;132;01m%s\u001b[39;00m\u001b[38;5;124m \u001b[39m\u001b[38;5;132;01m%s\u001b[39;00m\u001b[38;5;124m \u001b[39m\u001b[38;5;132;01m%s\u001b[39;00m\u001b[38;5;124m\"\u001b[39m, command_info[\u001b[38;5;241m0\u001b[39m], url, \u001b[38;5;28mstr\u001b[39m(trimmed))\n\u001b[1;32m--> 404\u001b[0m \u001b[38;5;28;01mreturn\u001b[39;00m \u001b[38;5;28;43mself\u001b[39;49m\u001b[38;5;241;43m.\u001b[39;49m\u001b[43m_request\u001b[49m\u001b[43m(\u001b[49m\u001b[43mcommand_info\u001b[49m\u001b[43m[\u001b[49m\u001b[38;5;241;43m0\u001b[39;49m\u001b[43m]\u001b[49m\u001b[43m,\u001b[49m\u001b[43m \u001b[49m\u001b[43murl\u001b[49m\u001b[43m,\u001b[49m\u001b[43m \u001b[49m\u001b[43mbody\u001b[49m\u001b[38;5;241;43m=\u001b[39;49m\u001b[43mdata\u001b[49m\u001b[43m)\u001b[49m\n",
      "File \u001b[1;32m~\\PycharmProjects\\pythonprojects\\cicdpractice\\venv\\Lib\\site-packages\\selenium\\webdriver\\remote\\remote_connection.py:428\u001b[0m, in \u001b[0;36mRemoteConnection._request\u001b[1;34m(self, method, url, body)\u001b[0m\n\u001b[0;32m    425\u001b[0m     body \u001b[38;5;241m=\u001b[39m \u001b[38;5;28;01mNone\u001b[39;00m\n\u001b[0;32m    427\u001b[0m \u001b[38;5;28;01mif\u001b[39;00m \u001b[38;5;28mself\u001b[39m\u001b[38;5;241m.\u001b[39m_client_config\u001b[38;5;241m.\u001b[39mkeep_alive:\n\u001b[1;32m--> 428\u001b[0m     response \u001b[38;5;241m=\u001b[39m \u001b[38;5;28;43mself\u001b[39;49m\u001b[38;5;241;43m.\u001b[39;49m\u001b[43m_conn\u001b[49m\u001b[38;5;241;43m.\u001b[39;49m\u001b[43mrequest\u001b[49m\u001b[43m(\u001b[49m\u001b[43mmethod\u001b[49m\u001b[43m,\u001b[49m\u001b[43m \u001b[49m\u001b[43murl\u001b[49m\u001b[43m,\u001b[49m\u001b[43m \u001b[49m\u001b[43mbody\u001b[49m\u001b[38;5;241;43m=\u001b[39;49m\u001b[43mbody\u001b[49m\u001b[43m,\u001b[49m\u001b[43m \u001b[49m\u001b[43mheaders\u001b[49m\u001b[38;5;241;43m=\u001b[39;49m\u001b[43mheaders\u001b[49m\u001b[43m,\u001b[49m\u001b[43m \u001b[49m\u001b[43mtimeout\u001b[49m\u001b[38;5;241;43m=\u001b[39;49m\u001b[38;5;28;43mself\u001b[39;49m\u001b[38;5;241;43m.\u001b[39;49m\u001b[43m_client_config\u001b[49m\u001b[38;5;241;43m.\u001b[39;49m\u001b[43mtimeout\u001b[49m\u001b[43m)\u001b[49m\n\u001b[0;32m    429\u001b[0m     statuscode \u001b[38;5;241m=\u001b[39m response\u001b[38;5;241m.\u001b[39mstatus\n\u001b[0;32m    430\u001b[0m \u001b[38;5;28;01melse\u001b[39;00m:\n",
      "File \u001b[1;32m~\\PycharmProjects\\pythonprojects\\cicdpractice\\venv\\Lib\\site-packages\\urllib3\\_request_methods.py:143\u001b[0m, in \u001b[0;36mRequestMethods.request\u001b[1;34m(self, method, url, body, fields, headers, json, **urlopen_kw)\u001b[0m\n\u001b[0;32m    135\u001b[0m     \u001b[38;5;28;01mreturn\u001b[39;00m \u001b[38;5;28mself\u001b[39m\u001b[38;5;241m.\u001b[39mrequest_encode_url(\n\u001b[0;32m    136\u001b[0m         method,\n\u001b[0;32m    137\u001b[0m         url,\n\u001b[1;32m   (...)\u001b[0m\n\u001b[0;32m    140\u001b[0m         \u001b[38;5;241m*\u001b[39m\u001b[38;5;241m*\u001b[39murlopen_kw,\n\u001b[0;32m    141\u001b[0m     )\n\u001b[0;32m    142\u001b[0m \u001b[38;5;28;01melse\u001b[39;00m:\n\u001b[1;32m--> 143\u001b[0m     \u001b[38;5;28;01mreturn\u001b[39;00m \u001b[38;5;28;43mself\u001b[39;49m\u001b[38;5;241;43m.\u001b[39;49m\u001b[43mrequest_encode_body\u001b[49m\u001b[43m(\u001b[49m\n\u001b[0;32m    144\u001b[0m \u001b[43m        \u001b[49m\u001b[43mmethod\u001b[49m\u001b[43m,\u001b[49m\u001b[43m \u001b[49m\u001b[43murl\u001b[49m\u001b[43m,\u001b[49m\u001b[43m \u001b[49m\u001b[43mfields\u001b[49m\u001b[38;5;241;43m=\u001b[39;49m\u001b[43mfields\u001b[49m\u001b[43m,\u001b[49m\u001b[43m \u001b[49m\u001b[43mheaders\u001b[49m\u001b[38;5;241;43m=\u001b[39;49m\u001b[43mheaders\u001b[49m\u001b[43m,\u001b[49m\u001b[43m \u001b[49m\u001b[38;5;241;43m*\u001b[39;49m\u001b[38;5;241;43m*\u001b[39;49m\u001b[43murlopen_kw\u001b[49m\n\u001b[0;32m    145\u001b[0m \u001b[43m    \u001b[49m\u001b[43m)\u001b[49m\n",
      "File \u001b[1;32m~\\PycharmProjects\\pythonprojects\\cicdpractice\\venv\\Lib\\site-packages\\urllib3\\_request_methods.py:278\u001b[0m, in \u001b[0;36mRequestMethods.request_encode_body\u001b[1;34m(self, method, url, fields, headers, encode_multipart, multipart_boundary, **urlopen_kw)\u001b[0m\n\u001b[0;32m    274\u001b[0m     extra_kw[\u001b[38;5;124m\"\u001b[39m\u001b[38;5;124mheaders\u001b[39m\u001b[38;5;124m\"\u001b[39m]\u001b[38;5;241m.\u001b[39msetdefault(\u001b[38;5;124m\"\u001b[39m\u001b[38;5;124mContent-Type\u001b[39m\u001b[38;5;124m\"\u001b[39m, content_type)\n\u001b[0;32m    276\u001b[0m extra_kw\u001b[38;5;241m.\u001b[39mupdate(urlopen_kw)\n\u001b[1;32m--> 278\u001b[0m \u001b[38;5;28;01mreturn\u001b[39;00m \u001b[38;5;28;43mself\u001b[39;49m\u001b[38;5;241;43m.\u001b[39;49m\u001b[43murlopen\u001b[49m\u001b[43m(\u001b[49m\u001b[43mmethod\u001b[49m\u001b[43m,\u001b[49m\u001b[43m \u001b[49m\u001b[43murl\u001b[49m\u001b[43m,\u001b[49m\u001b[43m \u001b[49m\u001b[38;5;241;43m*\u001b[39;49m\u001b[38;5;241;43m*\u001b[39;49m\u001b[43mextra_kw\u001b[49m\u001b[43m)\u001b[49m\n",
      "File \u001b[1;32m~\\PycharmProjects\\pythonprojects\\cicdpractice\\venv\\Lib\\site-packages\\urllib3\\poolmanager.py:443\u001b[0m, in \u001b[0;36mPoolManager.urlopen\u001b[1;34m(self, method, url, redirect, **kw)\u001b[0m\n\u001b[0;32m    441\u001b[0m     response \u001b[38;5;241m=\u001b[39m conn\u001b[38;5;241m.\u001b[39murlopen(method, url, \u001b[38;5;241m*\u001b[39m\u001b[38;5;241m*\u001b[39mkw)\n\u001b[0;32m    442\u001b[0m \u001b[38;5;28;01melse\u001b[39;00m:\n\u001b[1;32m--> 443\u001b[0m     response \u001b[38;5;241m=\u001b[39m \u001b[43mconn\u001b[49m\u001b[38;5;241;43m.\u001b[39;49m\u001b[43murlopen\u001b[49m\u001b[43m(\u001b[49m\u001b[43mmethod\u001b[49m\u001b[43m,\u001b[49m\u001b[43m \u001b[49m\u001b[43mu\u001b[49m\u001b[38;5;241;43m.\u001b[39;49m\u001b[43mrequest_uri\u001b[49m\u001b[43m,\u001b[49m\u001b[43m \u001b[49m\u001b[38;5;241;43m*\u001b[39;49m\u001b[38;5;241;43m*\u001b[39;49m\u001b[43mkw\u001b[49m\u001b[43m)\u001b[49m\n\u001b[0;32m    445\u001b[0m redirect_location \u001b[38;5;241m=\u001b[39m redirect \u001b[38;5;129;01mand\u001b[39;00m response\u001b[38;5;241m.\u001b[39mget_redirect_location()\n\u001b[0;32m    446\u001b[0m \u001b[38;5;28;01mif\u001b[39;00m \u001b[38;5;129;01mnot\u001b[39;00m redirect_location:\n",
      "File \u001b[1;32m~\\PycharmProjects\\pythonprojects\\cicdpractice\\venv\\Lib\\site-packages\\urllib3\\connectionpool.py:787\u001b[0m, in \u001b[0;36mHTTPConnectionPool.urlopen\u001b[1;34m(self, method, url, body, headers, retries, redirect, assert_same_host, timeout, pool_timeout, release_conn, chunked, body_pos, preload_content, decode_content, **response_kw)\u001b[0m\n\u001b[0;32m    784\u001b[0m response_conn \u001b[38;5;241m=\u001b[39m conn \u001b[38;5;28;01mif\u001b[39;00m \u001b[38;5;129;01mnot\u001b[39;00m release_conn \u001b[38;5;28;01melse\u001b[39;00m \u001b[38;5;28;01mNone\u001b[39;00m\n\u001b[0;32m    786\u001b[0m \u001b[38;5;66;03m# Make the request on the HTTPConnection object\u001b[39;00m\n\u001b[1;32m--> 787\u001b[0m response \u001b[38;5;241m=\u001b[39m \u001b[38;5;28;43mself\u001b[39;49m\u001b[38;5;241;43m.\u001b[39;49m\u001b[43m_make_request\u001b[49m\u001b[43m(\u001b[49m\n\u001b[0;32m    788\u001b[0m \u001b[43m    \u001b[49m\u001b[43mconn\u001b[49m\u001b[43m,\u001b[49m\n\u001b[0;32m    789\u001b[0m \u001b[43m    \u001b[49m\u001b[43mmethod\u001b[49m\u001b[43m,\u001b[49m\n\u001b[0;32m    790\u001b[0m \u001b[43m    \u001b[49m\u001b[43murl\u001b[49m\u001b[43m,\u001b[49m\n\u001b[0;32m    791\u001b[0m \u001b[43m    \u001b[49m\u001b[43mtimeout\u001b[49m\u001b[38;5;241;43m=\u001b[39;49m\u001b[43mtimeout_obj\u001b[49m\u001b[43m,\u001b[49m\n\u001b[0;32m    792\u001b[0m \u001b[43m    \u001b[49m\u001b[43mbody\u001b[49m\u001b[38;5;241;43m=\u001b[39;49m\u001b[43mbody\u001b[49m\u001b[43m,\u001b[49m\n\u001b[0;32m    793\u001b[0m \u001b[43m    \u001b[49m\u001b[43mheaders\u001b[49m\u001b[38;5;241;43m=\u001b[39;49m\u001b[43mheaders\u001b[49m\u001b[43m,\u001b[49m\n\u001b[0;32m    794\u001b[0m \u001b[43m    \u001b[49m\u001b[43mchunked\u001b[49m\u001b[38;5;241;43m=\u001b[39;49m\u001b[43mchunked\u001b[49m\u001b[43m,\u001b[49m\n\u001b[0;32m    795\u001b[0m \u001b[43m    \u001b[49m\u001b[43mretries\u001b[49m\u001b[38;5;241;43m=\u001b[39;49m\u001b[43mretries\u001b[49m\u001b[43m,\u001b[49m\n\u001b[0;32m    796\u001b[0m \u001b[43m    \u001b[49m\u001b[43mresponse_conn\u001b[49m\u001b[38;5;241;43m=\u001b[39;49m\u001b[43mresponse_conn\u001b[49m\u001b[43m,\u001b[49m\n\u001b[0;32m    797\u001b[0m \u001b[43m    \u001b[49m\u001b[43mpreload_content\u001b[49m\u001b[38;5;241;43m=\u001b[39;49m\u001b[43mpreload_content\u001b[49m\u001b[43m,\u001b[49m\n\u001b[0;32m    798\u001b[0m \u001b[43m    \u001b[49m\u001b[43mdecode_content\u001b[49m\u001b[38;5;241;43m=\u001b[39;49m\u001b[43mdecode_content\u001b[49m\u001b[43m,\u001b[49m\n\u001b[0;32m    799\u001b[0m \u001b[43m    \u001b[49m\u001b[38;5;241;43m*\u001b[39;49m\u001b[38;5;241;43m*\u001b[39;49m\u001b[43mresponse_kw\u001b[49m\u001b[43m,\u001b[49m\n\u001b[0;32m    800\u001b[0m \u001b[43m\u001b[49m\u001b[43m)\u001b[49m\n\u001b[0;32m    802\u001b[0m \u001b[38;5;66;03m# Everything went great!\u001b[39;00m\n\u001b[0;32m    803\u001b[0m clean_exit \u001b[38;5;241m=\u001b[39m \u001b[38;5;28;01mTrue\u001b[39;00m\n",
      "File \u001b[1;32m~\\PycharmProjects\\pythonprojects\\cicdpractice\\venv\\Lib\\site-packages\\urllib3\\connectionpool.py:534\u001b[0m, in \u001b[0;36mHTTPConnectionPool._make_request\u001b[1;34m(self, conn, method, url, body, headers, retries, timeout, chunked, response_conn, preload_content, decode_content, enforce_content_length)\u001b[0m\n\u001b[0;32m    532\u001b[0m \u001b[38;5;66;03m# Receive the response from the server\u001b[39;00m\n\u001b[0;32m    533\u001b[0m \u001b[38;5;28;01mtry\u001b[39;00m:\n\u001b[1;32m--> 534\u001b[0m     response \u001b[38;5;241m=\u001b[39m \u001b[43mconn\u001b[49m\u001b[38;5;241;43m.\u001b[39;49m\u001b[43mgetresponse\u001b[49m\u001b[43m(\u001b[49m\u001b[43m)\u001b[49m\n\u001b[0;32m    535\u001b[0m \u001b[38;5;28;01mexcept\u001b[39;00m (BaseSSLError, \u001b[38;5;167;01mOSError\u001b[39;00m) \u001b[38;5;28;01mas\u001b[39;00m e:\n\u001b[0;32m    536\u001b[0m     \u001b[38;5;28mself\u001b[39m\u001b[38;5;241m.\u001b[39m_raise_timeout(err\u001b[38;5;241m=\u001b[39me, url\u001b[38;5;241m=\u001b[39murl, timeout_value\u001b[38;5;241m=\u001b[39mread_timeout)\n",
      "File \u001b[1;32m~\\PycharmProjects\\pythonprojects\\cicdpractice\\venv\\Lib\\site-packages\\urllib3\\connection.py:516\u001b[0m, in \u001b[0;36mHTTPConnection.getresponse\u001b[1;34m(self)\u001b[0m\n\u001b[0;32m    513\u001b[0m _shutdown \u001b[38;5;241m=\u001b[39m \u001b[38;5;28mgetattr\u001b[39m(\u001b[38;5;28mself\u001b[39m\u001b[38;5;241m.\u001b[39msock, \u001b[38;5;124m\"\u001b[39m\u001b[38;5;124mshutdown\u001b[39m\u001b[38;5;124m\"\u001b[39m, \u001b[38;5;28;01mNone\u001b[39;00m)\n\u001b[0;32m    515\u001b[0m \u001b[38;5;66;03m# Get the response from http.client.HTTPConnection\u001b[39;00m\n\u001b[1;32m--> 516\u001b[0m httplib_response \u001b[38;5;241m=\u001b[39m \u001b[38;5;28;43msuper\u001b[39;49m\u001b[43m(\u001b[49m\u001b[43m)\u001b[49m\u001b[38;5;241;43m.\u001b[39;49m\u001b[43mgetresponse\u001b[49m\u001b[43m(\u001b[49m\u001b[43m)\u001b[49m\n\u001b[0;32m    518\u001b[0m \u001b[38;5;28;01mtry\u001b[39;00m:\n\u001b[0;32m    519\u001b[0m     assert_header_parsing(httplib_response\u001b[38;5;241m.\u001b[39mmsg)\n",
      "File \u001b[1;32m~\\AppData\\Local\\Programs\\Python\\Python313\\Lib\\http\\client.py:1430\u001b[0m, in \u001b[0;36mHTTPConnection.getresponse\u001b[1;34m(self)\u001b[0m\n\u001b[0;32m   1428\u001b[0m \u001b[38;5;28;01mtry\u001b[39;00m:\n\u001b[0;32m   1429\u001b[0m     \u001b[38;5;28;01mtry\u001b[39;00m:\n\u001b[1;32m-> 1430\u001b[0m         \u001b[43mresponse\u001b[49m\u001b[38;5;241;43m.\u001b[39;49m\u001b[43mbegin\u001b[49m\u001b[43m(\u001b[49m\u001b[43m)\u001b[49m\n\u001b[0;32m   1431\u001b[0m     \u001b[38;5;28;01mexcept\u001b[39;00m \u001b[38;5;167;01mConnectionError\u001b[39;00m:\n\u001b[0;32m   1432\u001b[0m         \u001b[38;5;28mself\u001b[39m\u001b[38;5;241m.\u001b[39mclose()\n",
      "File \u001b[1;32m~\\AppData\\Local\\Programs\\Python\\Python313\\Lib\\http\\client.py:331\u001b[0m, in \u001b[0;36mHTTPResponse.begin\u001b[1;34m(self)\u001b[0m\n\u001b[0;32m    329\u001b[0m \u001b[38;5;66;03m# read until we get a non-100 response\u001b[39;00m\n\u001b[0;32m    330\u001b[0m \u001b[38;5;28;01mwhile\u001b[39;00m \u001b[38;5;28;01mTrue\u001b[39;00m:\n\u001b[1;32m--> 331\u001b[0m     version, status, reason \u001b[38;5;241m=\u001b[39m \u001b[38;5;28;43mself\u001b[39;49m\u001b[38;5;241;43m.\u001b[39;49m\u001b[43m_read_status\u001b[49m\u001b[43m(\u001b[49m\u001b[43m)\u001b[49m\n\u001b[0;32m    332\u001b[0m     \u001b[38;5;28;01mif\u001b[39;00m status \u001b[38;5;241m!=\u001b[39m CONTINUE:\n\u001b[0;32m    333\u001b[0m         \u001b[38;5;28;01mbreak\u001b[39;00m\n",
      "File \u001b[1;32m~\\AppData\\Local\\Programs\\Python\\Python313\\Lib\\http\\client.py:292\u001b[0m, in \u001b[0;36mHTTPResponse._read_status\u001b[1;34m(self)\u001b[0m\n\u001b[0;32m    291\u001b[0m \u001b[38;5;28;01mdef\u001b[39;00m\u001b[38;5;250m \u001b[39m\u001b[38;5;21m_read_status\u001b[39m(\u001b[38;5;28mself\u001b[39m):\n\u001b[1;32m--> 292\u001b[0m     line \u001b[38;5;241m=\u001b[39m \u001b[38;5;28mstr\u001b[39m(\u001b[38;5;28;43mself\u001b[39;49m\u001b[38;5;241;43m.\u001b[39;49m\u001b[43mfp\u001b[49m\u001b[38;5;241;43m.\u001b[39;49m\u001b[43mreadline\u001b[49m\u001b[43m(\u001b[49m\u001b[43m_MAXLINE\u001b[49m\u001b[43m \u001b[49m\u001b[38;5;241;43m+\u001b[39;49m\u001b[43m \u001b[49m\u001b[38;5;241;43m1\u001b[39;49m\u001b[43m)\u001b[49m, \u001b[38;5;124m\"\u001b[39m\u001b[38;5;124miso-8859-1\u001b[39m\u001b[38;5;124m\"\u001b[39m)\n\u001b[0;32m    293\u001b[0m     \u001b[38;5;28;01mif\u001b[39;00m \u001b[38;5;28mlen\u001b[39m(line) \u001b[38;5;241m>\u001b[39m _MAXLINE:\n\u001b[0;32m    294\u001b[0m         \u001b[38;5;28;01mraise\u001b[39;00m LineTooLong(\u001b[38;5;124m\"\u001b[39m\u001b[38;5;124mstatus line\u001b[39m\u001b[38;5;124m\"\u001b[39m)\n",
      "File \u001b[1;32m~\\AppData\\Local\\Programs\\Python\\Python313\\Lib\\socket.py:719\u001b[0m, in \u001b[0;36mSocketIO.readinto\u001b[1;34m(self, b)\u001b[0m\n\u001b[0;32m    717\u001b[0m     \u001b[38;5;28;01mraise\u001b[39;00m \u001b[38;5;167;01mOSError\u001b[39;00m(\u001b[38;5;124m\"\u001b[39m\u001b[38;5;124mcannot read from timed out object\u001b[39m\u001b[38;5;124m\"\u001b[39m)\n\u001b[0;32m    718\u001b[0m \u001b[38;5;28;01mtry\u001b[39;00m:\n\u001b[1;32m--> 719\u001b[0m     \u001b[38;5;28;01mreturn\u001b[39;00m \u001b[38;5;28;43mself\u001b[39;49m\u001b[38;5;241;43m.\u001b[39;49m\u001b[43m_sock\u001b[49m\u001b[38;5;241;43m.\u001b[39;49m\u001b[43mrecv_into\u001b[49m\u001b[43m(\u001b[49m\u001b[43mb\u001b[49m\u001b[43m)\u001b[49m\n\u001b[0;32m    720\u001b[0m \u001b[38;5;28;01mexcept\u001b[39;00m timeout:\n\u001b[0;32m    721\u001b[0m     \u001b[38;5;28mself\u001b[39m\u001b[38;5;241m.\u001b[39m_timeout_occurred \u001b[38;5;241m=\u001b[39m \u001b[38;5;28;01mTrue\u001b[39;00m\n",
      "\u001b[1;31mKeyboardInterrupt\u001b[0m: "
     ]
    }
   ],
   "source": [
    "year_df_3=collect_file_links(year_df_2)\n",
    "year_df_3.to_csv(rf\"{script_outputs_directory}\\year_df_3_{target_year}.csv\", index=False)"
   ]
  },
  {
   "cell_type": "code",
   "execution_count": null,
   "id": "323b2a48-3615-4826-816c-195e9de0d894",
   "metadata": {},
   "outputs": [],
   "source": [
    "year_df_3=pd.read_csv(rf\"{script_outputs_directory}\\year_df_3_{target_year}.csv\")\n",
    "#year_df_3=year_df_3[year_df_3['Dimension'] == 'Sources and Uses of Credit Funds of Financial Institutions'] \n",
    "year_df_3['Dimension_Clean']=year_df_3['Dimension']\n",
    "year_df_3['Data_Name_Clean']=year_df_3['Data']\n",
    "year_df_3['Dimension_Clean'] = year_df_3['Dimension_Clean'].replace('Sources and Uses of Credit Funds of Financial Institutions','sucffi')\n",
    "year_df_3['Data_Name_Clean'] = year_df_3['Data_Name_Clean'].replace('Sources & Uses of Credit Funds of Financial Institutions (in RMB and Foreign Currency)','sucffi RMB and Foreign Currency')\n",
    "year_df_3['Data_Name_Clean'] = year_df_3['Data_Name_Clean'].replace('Sources & Uses of Credit Funds of Financial Institutions (in Foreign Currency)','sucffi Foreign Currency')\n",
    "year_df_3['Data_Name_Clean'] = year_df_3['Data_Name_Clean'].replace('Sources & Uses of Credit Funds of Depository Financial Institutions (RMB)','sucDffi RMB')\n",
    "year_df_3['Data_Name_Clean'] = year_df_3['Data_Name_Clean'].replace('Sources & Uses of Credit Funds of Depository Financial Institutions (in RMB and Foreign Currency)','sucDffi RMB and Foreign Currency')\n",
    "year_df_3['Data_Name_Clean'] = year_df_3['Data_Name_Clean'].replace('Sources & Uses of Credit Funds of Depository Financial Institutions (in Foreign Currency)','sucDffi Foreign Currency')\n",
    "year_df_3['Data_Name_Clean'] = year_df_3['Data_Name_Clean'].replace('Sources & Uses of Credit Funds of Financial Institutions (RMB)','sucffi RMB')\n",
    "year_df_3['Data_Name_Clean'] = year_df_3['Data_Name_Clean'].replace('Sources & Uses of Credit Funds of large-sized State-owned National-operating Commercial Banks (RMB)','sucflsoecb RMB')\n",
    "year_df_3['Data_Name_Clean'] = year_df_3['Data_Name_Clean'].replace('Sources & Uses of Credit Funds of 4 largest State-owned National-operating Commercial Banks (RMB)','sucflsoecb big4 RMB')\n",
    "year_df_3['Data_Name_Clean'] = year_df_3['Data_Name_Clean'].replace('Sources & Uses of Credit Funds of medium & small-sized State-owned National-operating Commercial Banks (RMB)','sucfssoecb RMB')\n"
   ]
  },
  {
   "cell_type": "code",
   "execution_count": 26,
   "id": "53f0c1c5-9046-4bb5-81bc-6323dca5a158",
   "metadata": {},
   "outputs": [
    {
     "name": "stderr",
     "output_type": "stream",
     "text": [
      "2025-03-20 21:45:46,021 - WDM - INFO - ====== WebDriver manager ======\n"
     ]
    },
    {
     "name": "stdout",
     "output_type": "stream",
     "text": [
      "Year                                                            2021\n",
      "Year_Link          http://www.pbc.gov.cn/en/3688247/3688975/42807...\n",
      "Dimension                    Aggregate Financing to the Real Economy\n",
      "Dimension_Link     http://www.pbc.gov.cn/en/3688247/3688975/42807...\n",
      "Data                  Aggregate Financing to the Real Economy (Flow)\n",
      "Data_Link          http://www.pbc.gov.cn/eportal/fileDir/diaochat...\n",
      "Dimension_Clean              Aggregate Financing to the Real Economy\n",
      "Data_Name_Clean       Aggregate Financing to the Real Economy (Flow)\n",
      "Name: 0, dtype: object\n",
      "2021__Aggregate_Financing_to_the_Real_Economy__Aggregate_Financing_to_the_Real_Economy_XFlowX__2022031709275051766.xls\n",
      "Downloading: http://www.pbc.gov.cn/eportal/fileDir/diaochatongjisi/resource/cms/2022/03/2022031709275051766.xls\n"
     ]
    },
    {
     "name": "stderr",
     "output_type": "stream",
     "text": [
      "2025-03-20 21:45:46,803 - WDM - INFO - Get LATEST chromedriver version for google-chrome\n",
      "2025-03-20 21:46:39,921 - WDM - INFO - Get LATEST chromedriver version for google-chrome\n",
      "2025-03-20 21:46:40,060 - WDM - INFO - Driver [C:\\Users\\mattb\\.wdm\\drivers\\chromedriver\\win64\\134.0.6998.90\\chromedriver-win32/chromedriver.exe] found in cache\n"
     ]
    },
    {
     "name": "stdout",
     "output_type": "stream",
     "text": [
      "C:\\Users\\mattb\\PycharmProjects\\pythonprojects\\cicdpractice\\airflow-docker\\china_econ_data\\download\\2021\n",
      "Waiting for download to finish...\n",
      "✅ Download Completed\n",
      "File renamed to: 2021__Aggregate_Financing_to_the_Real_Economy__Aggregate_Financing_to_the_Real_Economy_XFlowX__2022031709275051766.xls\n"
     ]
    },
    {
     "name": "stderr",
     "output_type": "stream",
     "text": [
      "2025-03-20 21:46:50,464 - WDM - INFO - ====== WebDriver manager ======\n"
     ]
    },
    {
     "name": "stdout",
     "output_type": "stream",
     "text": [
      "WebDriver Closed\n",
      "\n",
      "Year                                                            2021\n",
      "Year_Link          http://www.pbc.gov.cn/en/3688247/3688975/42807...\n",
      "Dimension                    Aggregate Financing to the Real Economy\n",
      "Dimension_Link     http://www.pbc.gov.cn/en/3688247/3688975/42807...\n",
      "Data                 Aggregate Financing to the Real Economy (Stock)\n",
      "Data_Link          http://www.pbc.gov.cn/eportal/fileDir/diaochat...\n",
      "Dimension_Clean              Aggregate Financing to the Real Economy\n",
      "Data_Name_Clean      Aggregate Financing to the Real Economy (Stock)\n",
      "Name: 1, dtype: object\n",
      "2021__Aggregate_Financing_to_the_Real_Economy__Aggregate_Financing_to_the_Real_Economy_XStockX__2022031709274991948.xls\n",
      "Downloading: http://www.pbc.gov.cn/eportal/fileDir/diaochatongjisi/resource/cms/2022/03/2022031709274991948.xls\n"
     ]
    },
    {
     "name": "stderr",
     "output_type": "stream",
     "text": [
      "2025-03-20 21:46:51,235 - WDM - INFO - Get LATEST chromedriver version for google-chrome\n",
      "2025-03-20 21:46:51,392 - WDM - INFO - Get LATEST chromedriver version for google-chrome\n",
      "2025-03-20 21:46:51,465 - WDM - INFO - Driver [C:\\Users\\mattb\\.wdm\\drivers\\chromedriver\\win64\\134.0.6998.90\\chromedriver-win32/chromedriver.exe] found in cache\n"
     ]
    },
    {
     "name": "stdout",
     "output_type": "stream",
     "text": [
      "C:\\Users\\mattb\\PycharmProjects\\pythonprojects\\cicdpractice\\airflow-docker\\china_econ_data\\download\\2021\n",
      "Waiting for download to finish...\n",
      "✅ Download Completed\n",
      "File renamed to: 2021__Aggregate_Financing_to_the_Real_Economy__Aggregate_Financing_to_the_Real_Economy_XStockX__2022031709274991948.xls\n"
     ]
    },
    {
     "name": "stderr",
     "output_type": "stream",
     "text": [
      "2025-03-20 21:47:02,091 - WDM - INFO - ====== WebDriver manager ======\n"
     ]
    },
    {
     "name": "stdout",
     "output_type": "stream",
     "text": [
      "WebDriver Closed\n",
      "\n",
      "Year                                                            2021\n",
      "Year_Link          http://www.pbc.gov.cn/en/3688247/3688975/42807...\n",
      "Dimension                               Money and Banking Statistics\n",
      "Dimension_Link     http://www.pbc.gov.cn/en/3688247/3688975/42807...\n",
      "Data                                         Official reserve assets\n",
      "Data_Link          http://www.pbc.gov.cn/eportal/fileDir/diaochat...\n",
      "Dimension_Clean                         Money and Banking Statistics\n",
      "Data_Name_Clean                              Official reserve assets\n",
      "Name: 2, dtype: object\n",
      "2021__Money_and_Banking_Statistics__Official_reserve_assets__2022011916025514556.xlsx\n",
      "Downloading: http://www.pbc.gov.cn/eportal/fileDir/diaochatongjisi/resource/cms/2022/01/2022011916025514556.xlsx\n"
     ]
    },
    {
     "name": "stderr",
     "output_type": "stream",
     "text": [
      "2025-03-20 21:47:03,012 - WDM - INFO - Get LATEST chromedriver version for google-chrome\n",
      "2025-03-20 21:47:03,084 - WDM - INFO - Get LATEST chromedriver version for google-chrome\n",
      "2025-03-20 21:47:03,147 - WDM - INFO - Driver [C:\\Users\\mattb\\.wdm\\drivers\\chromedriver\\win64\\134.0.6998.90\\chromedriver-win32/chromedriver.exe] found in cache\n"
     ]
    },
    {
     "name": "stdout",
     "output_type": "stream",
     "text": [
      "C:\\Users\\mattb\\PycharmProjects\\pythonprojects\\cicdpractice\\airflow-docker\\china_econ_data\\download\\2021\n",
      "Waiting for download to finish...\n",
      "✅ Download Completed\n",
      "File renamed to: 2021__Money_and_Banking_Statistics__Official_reserve_assets__2022011916025514556.xlsx\n"
     ]
    },
    {
     "name": "stderr",
     "output_type": "stream",
     "text": [
      "2025-03-20 21:47:13,647 - WDM - INFO - ====== WebDriver manager ======\n"
     ]
    },
    {
     "name": "stdout",
     "output_type": "stream",
     "text": [
      "WebDriver Closed\n",
      "\n",
      "Year                                                            2021\n",
      "Year_Link          http://www.pbc.gov.cn/en/3688247/3688975/42807...\n",
      "Dimension                               Money and Banking Statistics\n",
      "Dimension_Link     http://www.pbc.gov.cn/en/3688247/3688975/42807...\n",
      "Data                             Balance Sheet of Monetary Authority\n",
      "Data_Link          http://www.pbc.gov.cn/eportal/fileDir/diaochat...\n",
      "Dimension_Clean                         Money and Banking Statistics\n",
      "Data_Name_Clean                  Balance Sheet of Monetary Authority\n",
      "Name: 3, dtype: object\n",
      "2021__Money_and_Banking_Statistics__Balance_Sheet_of_Monetary_Authority__2022011916025530864.xlsx\n",
      "Downloading: http://www.pbc.gov.cn/eportal/fileDir/diaochatongjisi/resource/cms/2022/01/2022011916025530864.xlsx\n"
     ]
    },
    {
     "name": "stderr",
     "output_type": "stream",
     "text": [
      "2025-03-20 21:47:14,429 - WDM - INFO - Get LATEST chromedriver version for google-chrome\n",
      "2025-03-20 21:47:14,504 - WDM - INFO - Get LATEST chromedriver version for google-chrome\n",
      "2025-03-20 21:47:14,567 - WDM - INFO - Driver [C:\\Users\\mattb\\.wdm\\drivers\\chromedriver\\win64\\134.0.6998.90\\chromedriver-win32/chromedriver.exe] found in cache\n"
     ]
    },
    {
     "name": "stdout",
     "output_type": "stream",
     "text": [
      "C:\\Users\\mattb\\PycharmProjects\\pythonprojects\\cicdpractice\\airflow-docker\\china_econ_data\\download\\2021\n",
      "Waiting for download to finish...\n",
      "✅ Download Completed\n",
      "File renamed to: 2021__Money_and_Banking_Statistics__Balance_Sheet_of_Monetary_Authority__2022011916025530864.xlsx\n"
     ]
    },
    {
     "name": "stderr",
     "output_type": "stream",
     "text": [
      "2025-03-20 21:47:26,376 - WDM - INFO - ====== WebDriver manager ======\n"
     ]
    },
    {
     "name": "stdout",
     "output_type": "stream",
     "text": [
      "WebDriver Closed\n",
      "\n",
      "Year                                                            2021\n",
      "Year_Link          http://www.pbc.gov.cn/en/3688247/3688975/42807...\n",
      "Dimension                               Money and Banking Statistics\n",
      "Dimension_Link     http://www.pbc.gov.cn/en/3688247/3688975/42807...\n",
      "Data                                  Depository Corporations Survey\n",
      "Data_Link          http://www.pbc.gov.cn/eportal/fileDir/diaochat...\n",
      "Dimension_Clean                         Money and Banking Statistics\n",
      "Data_Name_Clean                       Depository Corporations Survey\n",
      "Name: 4, dtype: object\n",
      "2021__Money_and_Banking_Statistics__Depository_Corporations_Survey__2023022414304711200.xls\n",
      "Downloading: http://www.pbc.gov.cn/eportal/fileDir/diaochatongjisi/resource/cms/2023/02/2023022414304711200.xls\n"
     ]
    },
    {
     "name": "stderr",
     "output_type": "stream",
     "text": [
      "2025-03-20 21:47:27,168 - WDM - INFO - Get LATEST chromedriver version for google-chrome\n",
      "2025-03-20 21:47:27,252 - WDM - INFO - Get LATEST chromedriver version for google-chrome\n",
      "2025-03-20 21:47:27,324 - WDM - INFO - Driver [C:\\Users\\mattb\\.wdm\\drivers\\chromedriver\\win64\\134.0.6998.90\\chromedriver-win32/chromedriver.exe] found in cache\n"
     ]
    },
    {
     "name": "stdout",
     "output_type": "stream",
     "text": [
      "C:\\Users\\mattb\\PycharmProjects\\pythonprojects\\cicdpractice\\airflow-docker\\china_econ_data\\download\\2021\n",
      "Waiting for download to finish...\n",
      "✅ Download Completed\n",
      "File renamed to: 2021__Money_and_Banking_Statistics__Depository_Corporations_Survey__2023022414304711200.xls\n"
     ]
    },
    {
     "name": "stderr",
     "output_type": "stream",
     "text": [
      "2025-03-20 21:47:38,032 - WDM - INFO - ====== WebDriver manager ======\n"
     ]
    },
    {
     "name": "stdout",
     "output_type": "stream",
     "text": [
      "WebDriver Closed\n",
      "\n",
      "Year                                                            2021\n",
      "Year_Link          http://www.pbc.gov.cn/en/3688247/3688975/42807...\n",
      "Dimension                               Money and Banking Statistics\n",
      "Dimension_Link     http://www.pbc.gov.cn/en/3688247/3688975/42807...\n",
      "Data                  Balance Sheet of Other Depository Corporations\n",
      "Data_Link          http://www.pbc.gov.cn/eportal/fileDir/diaochat...\n",
      "Dimension_Clean                         Money and Banking Statistics\n",
      "Data_Name_Clean       Balance Sheet of Other Depository Corporations\n",
      "Name: 5, dtype: object\n",
      "2021__Money_and_Banking_Statistics__Balance_Sheet_of_Other_Depository_Corporations__2023022414304739878.xls\n",
      "Downloading: http://www.pbc.gov.cn/eportal/fileDir/diaochatongjisi/resource/cms/2023/02/2023022414304739878.xls\n"
     ]
    },
    {
     "name": "stderr",
     "output_type": "stream",
     "text": [
      "2025-03-20 21:47:38,796 - WDM - INFO - Get LATEST chromedriver version for google-chrome\n",
      "2025-03-20 21:47:38,880 - WDM - INFO - Get LATEST chromedriver version for google-chrome\n",
      "2025-03-20 21:47:38,945 - WDM - INFO - Driver [C:\\Users\\mattb\\.wdm\\drivers\\chromedriver\\win64\\134.0.6998.90\\chromedriver-win32/chromedriver.exe] found in cache\n"
     ]
    },
    {
     "name": "stdout",
     "output_type": "stream",
     "text": [
      "C:\\Users\\mattb\\PycharmProjects\\pythonprojects\\cicdpractice\\airflow-docker\\china_econ_data\\download\\2021\n",
      "Waiting for download to finish...\n",
      "✅ Download Completed\n",
      "File renamed to: 2021__Money_and_Banking_Statistics__Balance_Sheet_of_Other_Depository_Corporations__2023022414304739878.xls\n"
     ]
    },
    {
     "name": "stderr",
     "output_type": "stream",
     "text": [
      "2025-03-20 21:47:49,396 - WDM - INFO - ====== WebDriver manager ======\n"
     ]
    },
    {
     "name": "stdout",
     "output_type": "stream",
     "text": [
      "WebDriver Closed\n",
      "\n",
      "Year                                                            2021\n",
      "Year_Link          http://www.pbc.gov.cn/en/3688247/3688975/42807...\n",
      "Dimension                               Money and Banking Statistics\n",
      "Dimension_Link     http://www.pbc.gov.cn/en/3688247/3688975/42807...\n",
      "Data                                                    Money Supply\n",
      "Data_Link          http://www.pbc.gov.cn/eportal/fileDir/diaochat...\n",
      "Dimension_Clean                         Money and Banking Statistics\n",
      "Data_Name_Clean                                         Money Supply\n",
      "Name: 6, dtype: object\n",
      "2021__Money_and_Banking_Statistics__Money_Supply__2022011916025645374.xlsx\n",
      "Downloading: http://www.pbc.gov.cn/eportal/fileDir/diaochatongjisi/resource/cms/2022/01/2022011916025645374.xlsx\n"
     ]
    },
    {
     "name": "stderr",
     "output_type": "stream",
     "text": [
      "2025-03-20 21:47:50,183 - WDM - INFO - Get LATEST chromedriver version for google-chrome\n",
      "2025-03-20 21:47:50,248 - WDM - INFO - Get LATEST chromedriver version for google-chrome\n",
      "2025-03-20 21:47:50,312 - WDM - INFO - Driver [C:\\Users\\mattb\\.wdm\\drivers\\chromedriver\\win64\\134.0.6998.90\\chromedriver-win32/chromedriver.exe] found in cache\n"
     ]
    },
    {
     "name": "stdout",
     "output_type": "stream",
     "text": [
      "C:\\Users\\mattb\\PycharmProjects\\pythonprojects\\cicdpractice\\airflow-docker\\china_econ_data\\download\\2021\n",
      "Waiting for download to finish...\n",
      "✅ Download Completed\n",
      "File renamed to: 2021__Money_and_Banking_Statistics__Money_Supply__2022011916025645374.xlsx\n"
     ]
    },
    {
     "name": "stderr",
     "output_type": "stream",
     "text": [
      "2025-03-20 21:48:01,702 - WDM - INFO - ====== WebDriver manager ======\n"
     ]
    },
    {
     "name": "stdout",
     "output_type": "stream",
     "text": [
      "WebDriver Closed\n",
      "\n",
      "Year                                                            2021\n",
      "Year_Link          http://www.pbc.gov.cn/en/3688247/3688975/42807...\n",
      "Dimension                               Money and Banking Statistics\n",
      "Dimension_Link     http://www.pbc.gov.cn/en/3688247/3688975/42807...\n",
      "Data                                                   Exchange Rate\n",
      "Data_Link          http://www.pbc.gov.cn/eportal/fileDir/diaochat...\n",
      "Dimension_Clean                         Money and Banking Statistics\n",
      "Data_Name_Clean                                        Exchange Rate\n",
      "Name: 7, dtype: object\n",
      "2021__Money_and_Banking_Statistics__Exchange_Rate__2022030911130748366.xls\n",
      "Downloading: http://www.pbc.gov.cn/eportal/fileDir/diaochatongjisi/resource/cms/2022/03/2022030911130748366.xls\n"
     ]
    },
    {
     "name": "stderr",
     "output_type": "stream",
     "text": [
      "2025-03-20 21:48:02,631 - WDM - INFO - Get LATEST chromedriver version for google-chrome\n",
      "2025-03-20 21:48:02,726 - WDM - INFO - Get LATEST chromedriver version for google-chrome\n",
      "2025-03-20 21:48:02,809 - WDM - INFO - Driver [C:\\Users\\mattb\\.wdm\\drivers\\chromedriver\\win64\\134.0.6998.90\\chromedriver-win32/chromedriver.exe] found in cache\n"
     ]
    },
    {
     "name": "stdout",
     "output_type": "stream",
     "text": [
      "C:\\Users\\mattb\\PycharmProjects\\pythonprojects\\cicdpractice\\airflow-docker\\china_econ_data\\download\\2021\n",
      "Waiting for download to finish...\n",
      "✅ Download Completed\n",
      "File renamed to: 2021__Money_and_Banking_Statistics__Exchange_Rate__2022030911130748366.xls\n"
     ]
    },
    {
     "name": "stderr",
     "output_type": "stream",
     "text": [
      "2025-03-20 21:48:13,281 - WDM - INFO - ====== WebDriver manager ======\n"
     ]
    },
    {
     "name": "stdout",
     "output_type": "stream",
     "text": [
      "WebDriver Closed\n",
      "\n",
      "Year                                                            2021\n",
      "Year_Link          http://www.pbc.gov.cn/en/3688247/3688975/42807...\n",
      "Dimension                               Money and Banking Statistics\n",
      "Dimension_Link     http://www.pbc.gov.cn/en/3688247/3688975/42807...\n",
      "Data               Domestic RMB Financial Assets Held by Overseas...\n",
      "Data_Link          http://www.pbc.gov.cn/eportal/fileDir/diaochat...\n",
      "Dimension_Clean                         Money and Banking Statistics\n",
      "Data_Name_Clean    Domestic RMB Financial Assets Held by Overseas...\n",
      "Name: 8, dtype: object\n",
      "2021__Money_and_Banking_Statistics__Domestic_RMB_Financial_Assets_Held_by_Overseas_Entities__2021102918223093224.xls\n",
      "Downloading: http://www.pbc.gov.cn/eportal/fileDir/diaochatongjisi/resource/cms/2021/10/2021102918223093224.xls\n"
     ]
    },
    {
     "name": "stderr",
     "output_type": "stream",
     "text": [
      "2025-03-20 21:48:14,073 - WDM - INFO - Get LATEST chromedriver version for google-chrome\n",
      "2025-03-20 21:48:14,159 - WDM - INFO - Get LATEST chromedriver version for google-chrome\n",
      "2025-03-20 21:48:14,239 - WDM - INFO - Driver [C:\\Users\\mattb\\.wdm\\drivers\\chromedriver\\win64\\134.0.6998.90\\chromedriver-win32/chromedriver.exe] found in cache\n"
     ]
    },
    {
     "name": "stdout",
     "output_type": "stream",
     "text": [
      "C:\\Users\\mattb\\PycharmProjects\\pythonprojects\\cicdpractice\\airflow-docker\\china_econ_data\\download\\2021\n",
      "Waiting for download to finish...\n",
      "✅ Download Completed\n",
      "File renamed to: 2021__Money_and_Banking_Statistics__Domestic_RMB_Financial_Assets_Held_by_Overseas_Entities__2021102918223093224.xls\n"
     ]
    },
    {
     "name": "stderr",
     "output_type": "stream",
     "text": [
      "2025-03-20 21:48:24,575 - WDM - INFO - ====== WebDriver manager ======\n"
     ]
    },
    {
     "name": "stdout",
     "output_type": "stream",
     "text": [
      "WebDriver Closed\n",
      "\n",
      "Year                                                            2021\n",
      "Year_Link          http://www.pbc.gov.cn/en/3688247/3688975/42807...\n",
      "Dimension                               Money and Banking Statistics\n",
      "Dimension_Link     http://www.pbc.gov.cn/en/3688247/3688975/42807...\n",
      "Data                                  Advance Release Calendar (ARC)\n",
      "Data_Link          http://www.pbc.gov.cn/eportal/fileDir/diaochat...\n",
      "Dimension_Clean                         Money and Banking Statistics\n",
      "Data_Name_Clean                       Advance Release Calendar (ARC)\n",
      "Name: 9, dtype: object\n",
      "2021__Money_and_Banking_Statistics__Advance_Release_Calendar_XARCX__2022012816042726605.xls\n",
      "Downloading: http://www.pbc.gov.cn/eportal/fileDir/diaochatongjisi/resource/cms/2022/01/2022012816042726605.xls\n"
     ]
    },
    {
     "name": "stderr",
     "output_type": "stream",
     "text": [
      "2025-03-20 21:48:25,339 - WDM - INFO - Get LATEST chromedriver version for google-chrome\n",
      "2025-03-20 21:48:25,488 - WDM - INFO - Get LATEST chromedriver version for google-chrome\n",
      "2025-03-20 21:48:25,578 - WDM - INFO - Driver [C:\\Users\\mattb\\.wdm\\drivers\\chromedriver\\win64\\134.0.6998.90\\chromedriver-win32/chromedriver.exe] found in cache\n"
     ]
    },
    {
     "name": "stdout",
     "output_type": "stream",
     "text": [
      "C:\\Users\\mattb\\PycharmProjects\\pythonprojects\\cicdpractice\\airflow-docker\\china_econ_data\\download\\2021\n",
      "Waiting for download to finish...\n",
      "✅ Download Completed\n",
      "File renamed to: 2021__Money_and_Banking_Statistics__Advance_Release_Calendar_XARCX__2022012816042726605.xls\n"
     ]
    },
    {
     "name": "stderr",
     "output_type": "stream",
     "text": [
      "2025-03-20 21:48:36,080 - WDM - INFO - ====== WebDriver manager ======\n"
     ]
    },
    {
     "name": "stdout",
     "output_type": "stream",
     "text": [
      "WebDriver Closed\n",
      "\n",
      "Year                                                            2021\n",
      "Year_Link          http://www.pbc.gov.cn/en/3688247/3688975/42807...\n",
      "Dimension          Sources and Uses of Credit Funds of Financial ...\n",
      "Dimension_Link     http://www.pbc.gov.cn/en/3688247/3688975/42807...\n",
      "Data               Sources & Uses of Credit Funds of Financial In...\n",
      "Data_Link          http://www.pbc.gov.cn/eportal/fileDir/diaochat...\n",
      "Dimension_Clean                                               sucffi\n",
      "Data_Name_Clean                      sucffi RMB and Foreign Currency\n",
      "Name: 10, dtype: object\n",
      "2021__sucffi__sucffi_RMB_and_Foreign_Currency__2022011915533770995.xlsx\n",
      "Downloading: http://www.pbc.gov.cn/eportal/fileDir/diaochatongjisi/resource/cms/2022/01/2022011915533770995.xlsx\n"
     ]
    },
    {
     "name": "stderr",
     "output_type": "stream",
     "text": [
      "2025-03-20 21:48:36,820 - WDM - INFO - Get LATEST chromedriver version for google-chrome\n",
      "2025-03-20 21:48:36,943 - WDM - INFO - Get LATEST chromedriver version for google-chrome\n",
      "2025-03-20 21:48:37,016 - WDM - INFO - Driver [C:\\Users\\mattb\\.wdm\\drivers\\chromedriver\\win64\\134.0.6998.90\\chromedriver-win32/chromedriver.exe] found in cache\n"
     ]
    },
    {
     "name": "stdout",
     "output_type": "stream",
     "text": [
      "C:\\Users\\mattb\\PycharmProjects\\pythonprojects\\cicdpractice\\airflow-docker\\china_econ_data\\download\\2021\n",
      "Waiting for download to finish...\n",
      "✅ Download Completed\n",
      "File renamed to: 2021__sucffi__sucffi_RMB_and_Foreign_Currency__2022011915533770995.xlsx\n"
     ]
    },
    {
     "name": "stderr",
     "output_type": "stream",
     "text": [
      "2025-03-20 21:48:48,777 - WDM - INFO - ====== WebDriver manager ======\n"
     ]
    },
    {
     "name": "stdout",
     "output_type": "stream",
     "text": [
      "WebDriver Closed\n",
      "\n",
      "Year                                                            2021\n",
      "Year_Link          http://www.pbc.gov.cn/en/3688247/3688975/42807...\n",
      "Dimension          Sources and Uses of Credit Funds of Financial ...\n",
      "Dimension_Link     http://www.pbc.gov.cn/en/3688247/3688975/42807...\n",
      "Data               Sources & Uses of Credit Funds of Depository F...\n",
      "Data_Link          http://www.pbc.gov.cn/eportal/fileDir/diaochat...\n",
      "Dimension_Clean                                               sucffi\n",
      "Data_Name_Clean                     sucDffi RMB and Foreign Currency\n",
      "Name: 11, dtype: object\n",
      "2021__sucffi__sucDffi_RMB_and_Foreign_Currency__2022011915544540241.xlsx\n",
      "Downloading: http://www.pbc.gov.cn/eportal/fileDir/diaochatongjisi/resource/cms/2022/01/2022011915544540241.xlsx\n"
     ]
    },
    {
     "name": "stderr",
     "output_type": "stream",
     "text": [
      "2025-03-20 21:48:49,811 - WDM - INFO - Get LATEST chromedriver version for google-chrome\n",
      "2025-03-20 21:48:49,885 - WDM - INFO - Get LATEST chromedriver version for google-chrome\n",
      "2025-03-20 21:48:49,963 - WDM - INFO - Driver [C:\\Users\\mattb\\.wdm\\drivers\\chromedriver\\win64\\134.0.6998.90\\chromedriver-win32/chromedriver.exe] found in cache\n"
     ]
    },
    {
     "name": "stdout",
     "output_type": "stream",
     "text": [
      "C:\\Users\\mattb\\PycharmProjects\\pythonprojects\\cicdpractice\\airflow-docker\\china_econ_data\\download\\2021\n",
      "Waiting for download to finish...\n",
      "✅ Download Completed\n",
      "File renamed to: 2021__sucffi__sucDffi_RMB_and_Foreign_Currency__2022011915544540241.xlsx\n"
     ]
    },
    {
     "name": "stderr",
     "output_type": "stream",
     "text": [
      "2025-03-20 21:49:00,251 - WDM - INFO - ====== WebDriver manager ======\n"
     ]
    },
    {
     "name": "stdout",
     "output_type": "stream",
     "text": [
      "WebDriver Closed\n",
      "\n",
      "Year                                                            2021\n",
      "Year_Link          http://www.pbc.gov.cn/en/3688247/3688975/42807...\n",
      "Dimension          Sources and Uses of Credit Funds of Financial ...\n",
      "Dimension_Link     http://www.pbc.gov.cn/en/3688247/3688975/42807...\n",
      "Data               Sources & Uses of Credit Funds of Financial In...\n",
      "Data_Link          http://www.pbc.gov.cn/eportal/fileDir/diaochat...\n",
      "Dimension_Clean                                               sucffi\n",
      "Data_Name_Clean                              sucffi Foreign Currency\n",
      "Name: 12, dtype: object\n",
      "2021__sucffi__sucffi_Foreign_Currency__2022011915555060247.xlsx\n",
      "Downloading: http://www.pbc.gov.cn/eportal/fileDir/diaochatongjisi/resource/cms/2022/01/2022011915555060247.xlsx\n"
     ]
    },
    {
     "name": "stderr",
     "output_type": "stream",
     "text": [
      "2025-03-20 21:49:01,217 - WDM - INFO - Get LATEST chromedriver version for google-chrome\n",
      "2025-03-20 21:49:01,305 - WDM - INFO - Get LATEST chromedriver version for google-chrome\n",
      "2025-03-20 21:49:01,389 - WDM - INFO - Driver [C:\\Users\\mattb\\.wdm\\drivers\\chromedriver\\win64\\134.0.6998.90\\chromedriver-win32/chromedriver.exe] found in cache\n"
     ]
    },
    {
     "name": "stdout",
     "output_type": "stream",
     "text": [
      "C:\\Users\\mattb\\PycharmProjects\\pythonprojects\\cicdpractice\\airflow-docker\\china_econ_data\\download\\2021\n",
      "Waiting for download to finish...\n",
      "✅ Download Completed\n",
      "File renamed to: 2021__sucffi__sucffi_Foreign_Currency__2022011915555060247.xlsx\n"
     ]
    },
    {
     "name": "stderr",
     "output_type": "stream",
     "text": [
      "2025-03-20 21:49:11,839 - WDM - INFO - ====== WebDriver manager ======\n"
     ]
    },
    {
     "name": "stdout",
     "output_type": "stream",
     "text": [
      "WebDriver Closed\n",
      "\n",
      "Year                                                            2021\n",
      "Year_Link          http://www.pbc.gov.cn/en/3688247/3688975/42807...\n",
      "Dimension          Sources and Uses of Credit Funds of Financial ...\n",
      "Dimension_Link     http://www.pbc.gov.cn/en/3688247/3688975/42807...\n",
      "Data               Sources & Uses of Credit Funds of Depository F...\n",
      "Data_Link          http://www.pbc.gov.cn/eportal/fileDir/diaochat...\n",
      "Dimension_Clean                                               sucffi\n",
      "Data_Name_Clean                             sucDffi Foreign Currency\n",
      "Name: 13, dtype: object\n",
      "2021__sucffi__sucDffi_Foreign_Currency__2022011915565075749.xlsx\n",
      "Downloading: http://www.pbc.gov.cn/eportal/fileDir/diaochatongjisi/resource/cms/2022/01/2022011915565075749.xlsx\n"
     ]
    },
    {
     "name": "stderr",
     "output_type": "stream",
     "text": [
      "2025-03-20 21:49:12,714 - WDM - INFO - Get LATEST chromedriver version for google-chrome\n",
      "2025-03-20 21:49:12,787 - WDM - INFO - Get LATEST chromedriver version for google-chrome\n",
      "2025-03-20 21:49:12,890 - WDM - INFO - Driver [C:\\Users\\mattb\\.wdm\\drivers\\chromedriver\\win64\\134.0.6998.90\\chromedriver-win32/chromedriver.exe] found in cache\n"
     ]
    },
    {
     "name": "stdout",
     "output_type": "stream",
     "text": [
      "C:\\Users\\mattb\\PycharmProjects\\pythonprojects\\cicdpractice\\airflow-docker\\china_econ_data\\download\\2021\n",
      "Waiting for download to finish...\n",
      "✅ Download Completed\n",
      "File renamed to: 2021__sucffi__sucDffi_Foreign_Currency__2022011915565075749.xlsx\n"
     ]
    },
    {
     "name": "stderr",
     "output_type": "stream",
     "text": [
      "2025-03-20 21:49:23,391 - WDM - INFO - ====== WebDriver manager ======\n"
     ]
    },
    {
     "name": "stdout",
     "output_type": "stream",
     "text": [
      "WebDriver Closed\n",
      "\n",
      "Year                                                            2021\n",
      "Year_Link          http://www.pbc.gov.cn/en/3688247/3688975/42807...\n",
      "Dimension          Sources and Uses of Credit Funds of Financial ...\n",
      "Dimension_Link     http://www.pbc.gov.cn/en/3688247/3688975/42807...\n",
      "Data               Sources & Uses of Credit Funds of Financial In...\n",
      "Data_Link          http://www.pbc.gov.cn/eportal/fileDir/diaochat...\n",
      "Dimension_Clean                                               sucffi\n",
      "Data_Name_Clean                                           sucffi RMB\n",
      "Name: 14, dtype: object\n",
      "2021__sucffi__sucffi_RMB__2022011915581022607.xlsx\n",
      "Downloading: http://www.pbc.gov.cn/eportal/fileDir/diaochatongjisi/resource/cms/2022/01/2022011915581022607.xlsx\n"
     ]
    },
    {
     "name": "stderr",
     "output_type": "stream",
     "text": [
      "2025-03-20 21:49:24,102 - WDM - INFO - Get LATEST chromedriver version for google-chrome\n",
      "2025-03-20 21:49:24,173 - WDM - INFO - Get LATEST chromedriver version for google-chrome\n",
      "2025-03-20 21:49:24,240 - WDM - INFO - Driver [C:\\Users\\mattb\\.wdm\\drivers\\chromedriver\\win64\\134.0.6998.90\\chromedriver-win32/chromedriver.exe] found in cache\n"
     ]
    },
    {
     "name": "stdout",
     "output_type": "stream",
     "text": [
      "C:\\Users\\mattb\\PycharmProjects\\pythonprojects\\cicdpractice\\airflow-docker\\china_econ_data\\download\\2021\n",
      "Waiting for download to finish...\n",
      "✅ Download Completed\n",
      "File renamed to: 2021__sucffi__sucffi_RMB__2022011915581022607.xlsx\n"
     ]
    },
    {
     "name": "stderr",
     "output_type": "stream",
     "text": [
      "2025-03-20 21:49:34,889 - WDM - INFO - ====== WebDriver manager ======\n"
     ]
    },
    {
     "name": "stdout",
     "output_type": "stream",
     "text": [
      "WebDriver Closed\n",
      "\n",
      "Year                                                            2021\n",
      "Year_Link          http://www.pbc.gov.cn/en/3688247/3688975/42807...\n",
      "Dimension          Sources and Uses of Credit Funds of Financial ...\n",
      "Dimension_Link     http://www.pbc.gov.cn/en/3688247/3688975/42807...\n",
      "Data               Sources & Uses of Credit Funds of Depository F...\n",
      "Data_Link          http://www.pbc.gov.cn/eportal/fileDir/diaochat...\n",
      "Dimension_Clean                                               sucffi\n",
      "Data_Name_Clean                                          sucDffi RMB\n",
      "Name: 15, dtype: object\n",
      "2021__sucffi__sucDffi_RMB__2022011915585996443.xlsx\n",
      "Downloading: http://www.pbc.gov.cn/eportal/fileDir/diaochatongjisi/resource/cms/2022/01/2022011915585996443.xlsx\n"
     ]
    },
    {
     "name": "stderr",
     "output_type": "stream",
     "text": [
      "2025-03-20 21:49:35,645 - WDM - INFO - Get LATEST chromedriver version for google-chrome\n",
      "2025-03-20 21:49:35,760 - WDM - INFO - Get LATEST chromedriver version for google-chrome\n",
      "2025-03-20 21:49:35,843 - WDM - INFO - Driver [C:\\Users\\mattb\\.wdm\\drivers\\chromedriver\\win64\\134.0.6998.90\\chromedriver-win32/chromedriver.exe] found in cache\n"
     ]
    },
    {
     "name": "stdout",
     "output_type": "stream",
     "text": [
      "C:\\Users\\mattb\\PycharmProjects\\pythonprojects\\cicdpractice\\airflow-docker\\china_econ_data\\download\\2021\n",
      "Waiting for download to finish...\n",
      "✅ Download Completed\n",
      "File renamed to: 2021__sucffi__sucDffi_RMB__2022011915585996443.xlsx\n"
     ]
    },
    {
     "name": "stderr",
     "output_type": "stream",
     "text": [
      "2025-03-20 21:49:46,240 - WDM - INFO - ====== WebDriver manager ======\n"
     ]
    },
    {
     "name": "stdout",
     "output_type": "stream",
     "text": [
      "WebDriver Closed\n",
      "\n",
      "Year                                                            2021\n",
      "Year_Link          http://www.pbc.gov.cn/en/3688247/3688975/42807...\n",
      "Dimension          Sources and Uses of Credit Funds of Financial ...\n",
      "Dimension_Link     http://www.pbc.gov.cn/en/3688247/3688975/42807...\n",
      "Data               Sources & Uses of Credit Funds of large-sized ...\n",
      "Data_Link          http://www.pbc.gov.cn/eportal/fileDir/diaochat...\n",
      "Dimension_Clean                                               sucffi\n",
      "Data_Name_Clean                                       sucflsoecb RMB\n",
      "Name: 16, dtype: object\n",
      "2021__sucffi__sucflsoecb_RMB__2022011916002449173.xlsx\n",
      "Downloading: http://www.pbc.gov.cn/eportal/fileDir/diaochatongjisi/resource/cms/2022/01/2022011916002449173.xlsx\n"
     ]
    },
    {
     "name": "stderr",
     "output_type": "stream",
     "text": [
      "2025-03-20 21:49:47,008 - WDM - INFO - Get LATEST chromedriver version for google-chrome\n",
      "2025-03-20 21:49:47,074 - WDM - INFO - Get LATEST chromedriver version for google-chrome\n",
      "2025-03-20 21:49:47,139 - WDM - INFO - Driver [C:\\Users\\mattb\\.wdm\\drivers\\chromedriver\\win64\\134.0.6998.90\\chromedriver-win32/chromedriver.exe] found in cache\n"
     ]
    },
    {
     "name": "stdout",
     "output_type": "stream",
     "text": [
      "C:\\Users\\mattb\\PycharmProjects\\pythonprojects\\cicdpractice\\airflow-docker\\china_econ_data\\download\\2021\n",
      "Waiting for download to finish...\n",
      "✅ Download Completed\n",
      "File renamed to: 2021__sucffi__sucflsoecb_RMB__2022011916002449173.xlsx\n"
     ]
    },
    {
     "name": "stderr",
     "output_type": "stream",
     "text": [
      "2025-03-20 21:49:57,676 - WDM - INFO - ====== WebDriver manager ======\n"
     ]
    },
    {
     "name": "stdout",
     "output_type": "stream",
     "text": [
      "WebDriver Closed\n",
      "\n",
      "Year                                                            2021\n",
      "Year_Link          http://www.pbc.gov.cn/en/3688247/3688975/42807...\n",
      "Dimension          Sources and Uses of Credit Funds of Financial ...\n",
      "Dimension_Link     http://www.pbc.gov.cn/en/3688247/3688975/42807...\n",
      "Data               Sources & Uses of Credit Funds of 4 largest St...\n",
      "Data_Link          http://www.pbc.gov.cn/eportal/fileDir/diaochat...\n",
      "Dimension_Clean                                               sucffi\n",
      "Data_Name_Clean                                  sucflsoecb big4 RMB\n",
      "Name: 17, dtype: object\n",
      "2021__sucffi__sucflsoecb_big4_RMB__2022011916011790427.xlsx\n",
      "Downloading: http://www.pbc.gov.cn/eportal/fileDir/diaochatongjisi/resource/cms/2022/01/2022011916011790427.xlsx\n"
     ]
    },
    {
     "name": "stderr",
     "output_type": "stream",
     "text": [
      "2025-03-20 21:49:58,419 - WDM - INFO - Get LATEST chromedriver version for google-chrome\n",
      "2025-03-20 21:49:58,494 - WDM - INFO - Get LATEST chromedriver version for google-chrome\n",
      "2025-03-20 21:49:58,559 - WDM - INFO - Driver [C:\\Users\\mattb\\.wdm\\drivers\\chromedriver\\win64\\134.0.6998.90\\chromedriver-win32/chromedriver.exe] found in cache\n"
     ]
    },
    {
     "name": "stdout",
     "output_type": "stream",
     "text": [
      "C:\\Users\\mattb\\PycharmProjects\\pythonprojects\\cicdpractice\\airflow-docker\\china_econ_data\\download\\2021\n",
      "Waiting for download to finish...\n",
      "✅ Download Completed\n",
      "File renamed to: 2021__sucffi__sucflsoecb_big4_RMB__2022011916011790427.xlsx\n"
     ]
    },
    {
     "name": "stderr",
     "output_type": "stream",
     "text": [
      "2025-03-20 21:50:08,863 - WDM - INFO - ====== WebDriver manager ======\n"
     ]
    },
    {
     "name": "stdout",
     "output_type": "stream",
     "text": [
      "WebDriver Closed\n",
      "\n",
      "Year                                                            2021\n",
      "Year_Link          http://www.pbc.gov.cn/en/3688247/3688975/42807...\n",
      "Dimension          Sources and Uses of Credit Funds of Financial ...\n",
      "Dimension_Link     http://www.pbc.gov.cn/en/3688247/3688975/42807...\n",
      "Data               Sources & Uses of Credit Funds of medium & sma...\n",
      "Data_Link          http://www.pbc.gov.cn/eportal/fileDir/diaochat...\n",
      "Dimension_Clean                                               sucffi\n",
      "Data_Name_Clean                                       sucfssoecb RMB\n",
      "Name: 18, dtype: object\n",
      "2021__sucffi__sucfssoecb_RMB__2022011916022130567.xlsx\n",
      "Downloading: http://www.pbc.gov.cn/eportal/fileDir/diaochatongjisi/resource/cms/2022/01/2022011916022130567.xlsx\n"
     ]
    },
    {
     "name": "stderr",
     "output_type": "stream",
     "text": [
      "2025-03-20 21:50:09,594 - WDM - INFO - Get LATEST chromedriver version for google-chrome\n",
      "2025-03-20 21:50:09,675 - WDM - INFO - Get LATEST chromedriver version for google-chrome\n",
      "2025-03-20 21:50:09,758 - WDM - INFO - Driver [C:\\Users\\mattb\\.wdm\\drivers\\chromedriver\\win64\\134.0.6998.90\\chromedriver-win32/chromedriver.exe] found in cache\n"
     ]
    },
    {
     "name": "stdout",
     "output_type": "stream",
     "text": [
      "C:\\Users\\mattb\\PycharmProjects\\pythonprojects\\cicdpractice\\airflow-docker\\china_econ_data\\download\\2021\n",
      "Waiting for download to finish...\n",
      "✅ Download Completed\n",
      "File renamed to: 2021__sucffi__sucfssoecb_RMB__2022011916022130567.xlsx\n"
     ]
    },
    {
     "name": "stderr",
     "output_type": "stream",
     "text": [
      "2025-03-20 21:50:20,655 - WDM - INFO - ====== WebDriver manager ======\n"
     ]
    },
    {
     "name": "stdout",
     "output_type": "stream",
     "text": [
      "WebDriver Closed\n",
      "\n",
      "Year                                                            2021\n",
      "Year_Link          http://www.pbc.gov.cn/en/3688247/3688975/42807...\n",
      "Dimension                                Financial Market Statistics\n",
      "Dimension_Link     http://www.pbc.gov.cn/en/3688247/3688975/42807...\n",
      "Data                                      Statistics of Stock Market\n",
      "Data_Link          http://www.pbc.gov.cn/eportal/fileDir/diaochat...\n",
      "Dimension_Clean                          Financial Market Statistics\n",
      "Data_Name_Clean                           Statistics of Stock Market\n",
      "Name: 19, dtype: object\n",
      "2021__Financial_Market_Statistics__Statistics_of_Stock_Market__2022012911122164058.xls\n",
      "Downloading: http://www.pbc.gov.cn/eportal/fileDir/diaochatongjisi/resource/cms/2022/01/2022012911122164058.xls\n"
     ]
    },
    {
     "name": "stderr",
     "output_type": "stream",
     "text": [
      "2025-03-20 21:50:21,329 - WDM - INFO - Get LATEST chromedriver version for google-chrome\n",
      "2025-03-20 21:50:21,406 - WDM - INFO - Get LATEST chromedriver version for google-chrome\n",
      "2025-03-20 21:50:21,488 - WDM - INFO - Driver [C:\\Users\\mattb\\.wdm\\drivers\\chromedriver\\win64\\134.0.6998.90\\chromedriver-win32/chromedriver.exe] found in cache\n"
     ]
    },
    {
     "name": "stdout",
     "output_type": "stream",
     "text": [
      "C:\\Users\\mattb\\PycharmProjects\\pythonprojects\\cicdpractice\\airflow-docker\\china_econ_data\\download\\2021\n",
      "Waiting for download to finish...\n",
      "✅ Download Completed\n",
      "File renamed to: 2021__Financial_Market_Statistics__Statistics_of_Stock_Market__2022012911122164058.xls\n"
     ]
    },
    {
     "name": "stderr",
     "output_type": "stream",
     "text": [
      "2025-03-20 21:50:32,130 - WDM - INFO - ====== WebDriver manager ======\n"
     ]
    },
    {
     "name": "stdout",
     "output_type": "stream",
     "text": [
      "WebDriver Closed\n",
      "\n",
      "Year                                                            2021\n",
      "Year_Link          http://www.pbc.gov.cn/en/3688247/3688975/42807...\n",
      "Dimension                                Financial Market Statistics\n",
      "Dimension_Link     http://www.pbc.gov.cn/en/3688247/3688975/42807...\n",
      "Data                          Statistics of Domestic Debt Securities\n",
      "Data_Link          http://www.pbc.gov.cn/eportal/fileDir/diaochat...\n",
      "Dimension_Clean                          Financial Market Statistics\n",
      "Data_Name_Clean               Statistics of Domestic Debt Securities\n",
      "Name: 20, dtype: object\n",
      "2021__Financial_Market_Statistics__Statistics_of_Domestic_Debt_Securities__2022012911133258968.xls\n",
      "Downloading: http://www.pbc.gov.cn/eportal/fileDir/diaochatongjisi/resource/cms/2022/01/2022012911133258968.xls\n"
     ]
    },
    {
     "name": "stderr",
     "output_type": "stream",
     "text": [
      "2025-03-20 21:50:33,015 - WDM - INFO - Get LATEST chromedriver version for google-chrome\n",
      "2025-03-20 21:50:33,092 - WDM - INFO - Get LATEST chromedriver version for google-chrome\n",
      "2025-03-20 21:50:33,168 - WDM - INFO - Driver [C:\\Users\\mattb\\.wdm\\drivers\\chromedriver\\win64\\134.0.6998.90\\chromedriver-win32/chromedriver.exe] found in cache\n"
     ]
    },
    {
     "name": "stdout",
     "output_type": "stream",
     "text": [
      "C:\\Users\\mattb\\PycharmProjects\\pythonprojects\\cicdpractice\\airflow-docker\\china_econ_data\\download\\2021\n",
      "Waiting for download to finish...\n",
      "✅ Download Completed\n",
      "File renamed to: 2021__Financial_Market_Statistics__Statistics_of_Domestic_Debt_Securities__2022012911133258968.xls\n"
     ]
    },
    {
     "name": "stderr",
     "output_type": "stream",
     "text": [
      "2025-03-20 21:50:43,623 - WDM - INFO - ====== WebDriver manager ======\n"
     ]
    },
    {
     "name": "stdout",
     "output_type": "stream",
     "text": [
      "WebDriver Closed\n",
      "\n",
      "Year                                                            2021\n",
      "Year_Link          http://www.pbc.gov.cn/en/3688247/3688975/42807...\n",
      "Dimension                                Financial Market Statistics\n",
      "Dimension_Link     http://www.pbc.gov.cn/en/3688247/3688975/42807...\n",
      "Data               Statistics of Chinabond Government Securities ...\n",
      "Data_Link          http://www.pbc.gov.cn/eportal/fileDir/diaochat...\n",
      "Dimension_Clean                          Financial Market Statistics\n",
      "Data_Name_Clean    Statistics of Chinabond Government Securities ...\n",
      "Name: 21, dtype: object\n",
      "2021__Financial_Market_Statistics__Statistics_of_Chinabond_Government_Securities_Yield__2022012911141973465.xls\n",
      "Downloading: http://www.pbc.gov.cn/eportal/fileDir/diaochatongjisi/resource/cms/2022/01/2022012911141973465.xls\n"
     ]
    },
    {
     "name": "stderr",
     "output_type": "stream",
     "text": [
      "2025-03-20 21:50:44,760 - WDM - INFO - Get LATEST chromedriver version for google-chrome\n",
      "2025-03-20 21:50:44,866 - WDM - INFO - Get LATEST chromedriver version for google-chrome\n",
      "2025-03-20 21:50:45,039 - WDM - INFO - Driver [C:\\Users\\mattb\\.wdm\\drivers\\chromedriver\\win64\\134.0.6998.90\\chromedriver-win32/chromedriver.exe] found in cache\n"
     ]
    },
    {
     "name": "stdout",
     "output_type": "stream",
     "text": [
      "C:\\Users\\mattb\\PycharmProjects\\pythonprojects\\cicdpractice\\airflow-docker\\china_econ_data\\download\\2021\n",
      "Waiting for download to finish...\n",
      "✅ Download Completed\n",
      "File renamed to: 2021__Financial_Market_Statistics__Statistics_of_Chinabond_Government_Securities_Yield__2022012911141973465.xls\n"
     ]
    },
    {
     "name": "stderr",
     "output_type": "stream",
     "text": [
      "2025-03-20 21:50:55,541 - WDM - INFO - ====== WebDriver manager ======\n"
     ]
    },
    {
     "name": "stdout",
     "output_type": "stream",
     "text": [
      "WebDriver Closed\n",
      "\n",
      "Year                                                            2021\n",
      "Year_Link          http://www.pbc.gov.cn/en/3688247/3688975/42807...\n",
      "Dimension                                Financial Market Statistics\n",
      "Dimension_Link     http://www.pbc.gov.cn/en/3688247/3688975/42807...\n",
      "Data                                 Statistics of Interbank Lending\n",
      "Data_Link          http://www.pbc.gov.cn/eportal/fileDir/diaochat...\n",
      "Dimension_Clean                          Financial Market Statistics\n",
      "Data_Name_Clean                      Statistics of Interbank Lending\n",
      "Name: 22, dtype: object\n",
      "2021__Financial_Market_Statistics__Statistics_of_Interbank_Lending__2022012911151386361.xls\n",
      "Downloading: http://www.pbc.gov.cn/eportal/fileDir/diaochatongjisi/resource/cms/2022/01/2022012911151386361.xls\n"
     ]
    },
    {
     "name": "stderr",
     "output_type": "stream",
     "text": [
      "2025-03-20 21:50:56,240 - WDM - INFO - Get LATEST chromedriver version for google-chrome\n",
      "2025-03-20 21:50:56,320 - WDM - INFO - Get LATEST chromedriver version for google-chrome\n",
      "2025-03-20 21:50:56,400 - WDM - INFO - Driver [C:\\Users\\mattb\\.wdm\\drivers\\chromedriver\\win64\\134.0.6998.90\\chromedriver-win32/chromedriver.exe] found in cache\n"
     ]
    },
    {
     "name": "stdout",
     "output_type": "stream",
     "text": [
      "C:\\Users\\mattb\\PycharmProjects\\pythonprojects\\cicdpractice\\airflow-docker\\china_econ_data\\download\\2021\n",
      "Waiting for download to finish...\n",
      "✅ Download Completed\n",
      "File renamed to: 2021__Financial_Market_Statistics__Statistics_of_Interbank_Lending__2022012911151386361.xls\n"
     ]
    },
    {
     "name": "stderr",
     "output_type": "stream",
     "text": [
      "2025-03-20 21:51:06,623 - WDM - INFO - ====== WebDriver manager ======\n"
     ]
    },
    {
     "name": "stdout",
     "output_type": "stream",
     "text": [
      "WebDriver Closed\n",
      "\n",
      "Year                                                            2021\n",
      "Year_Link          http://www.pbc.gov.cn/en/3688247/3688975/42807...\n",
      "Dimension                                Financial Market Statistics\n",
      "Dimension_Link     http://www.pbc.gov.cn/en/3688247/3688975/42807...\n",
      "Data                            Statistics of Interbank Pledged Repo\n",
      "Data_Link          http://www.pbc.gov.cn/eportal/fileDir/diaochat...\n",
      "Dimension_Clean                          Financial Market Statistics\n",
      "Data_Name_Clean                 Statistics of Interbank Pledged Repo\n",
      "Name: 23, dtype: object\n",
      "2021__Financial_Market_Statistics__Statistics_of_Interbank_Pledged_Repo__2022012911160760409.xls\n",
      "Downloading: http://www.pbc.gov.cn/eportal/fileDir/diaochatongjisi/resource/cms/2022/01/2022012911160760409.xls\n"
     ]
    },
    {
     "name": "stderr",
     "output_type": "stream",
     "text": [
      "2025-03-20 21:51:07,393 - WDM - INFO - Get LATEST chromedriver version for google-chrome\n",
      "2025-03-20 21:51:07,484 - WDM - INFO - Get LATEST chromedriver version for google-chrome\n",
      "2025-03-20 21:51:07,596 - WDM - INFO - Driver [C:\\Users\\mattb\\.wdm\\drivers\\chromedriver\\win64\\134.0.6998.90\\chromedriver-win32/chromedriver.exe] found in cache\n"
     ]
    },
    {
     "name": "stdout",
     "output_type": "stream",
     "text": [
      "C:\\Users\\mattb\\PycharmProjects\\pythonprojects\\cicdpractice\\airflow-docker\\china_econ_data\\download\\2021\n",
      "Waiting for download to finish...\n",
      "✅ Download Completed\n",
      "File renamed to: 2021__Financial_Market_Statistics__Statistics_of_Interbank_Pledged_Repo__2022012911160760409.xls\n"
     ]
    },
    {
     "name": "stderr",
     "output_type": "stream",
     "text": [
      "2025-03-20 21:51:18,029 - WDM - INFO - ====== WebDriver manager ======\n"
     ]
    },
    {
     "name": "stdout",
     "output_type": "stream",
     "text": [
      "WebDriver Closed\n",
      "\n",
      "Year                                                            2021\n",
      "Year_Link          http://www.pbc.gov.cn/en/3688247/3688975/42807...\n",
      "Dimension                                Financial Market Statistics\n",
      "Dimension_Link     http://www.pbc.gov.cn/en/3688247/3688975/42807...\n",
      "Data                                            Statistics of Shibor\n",
      "Data_Link          http://www.pbc.gov.cn/eportal/fileDir/diaochat...\n",
      "Dimension_Clean                          Financial Market Statistics\n",
      "Data_Name_Clean                                 Statistics of Shibor\n",
      "Name: 24, dtype: object\n",
      "2021__Financial_Market_Statistics__Statistics_of_Shibor__2022012911165257692.xls\n",
      "Downloading: http://www.pbc.gov.cn/eportal/fileDir/diaochatongjisi/resource/cms/2022/01/2022012911165257692.xls\n"
     ]
    },
    {
     "name": "stderr",
     "output_type": "stream",
     "text": [
      "2025-03-20 21:51:18,745 - WDM - INFO - Get LATEST chromedriver version for google-chrome\n",
      "2025-03-20 21:53:08,836 - WDM - INFO - Get LATEST chromedriver version for google-chrome\n",
      "2025-03-20 21:53:08,897 - WDM - INFO - Driver [C:\\Users\\mattb\\.wdm\\drivers\\chromedriver\\win64\\134.0.6998.90\\chromedriver-win32/chromedriver.exe] found in cache\n"
     ]
    },
    {
     "name": "stdout",
     "output_type": "stream",
     "text": [
      "C:\\Users\\mattb\\PycharmProjects\\pythonprojects\\cicdpractice\\airflow-docker\\china_econ_data\\download\\2021\n",
      "Waiting for download to finish...\n",
      "✅ Download Completed\n",
      "File renamed to: 2021__Financial_Market_Statistics__Statistics_of_Shibor__2022012911165257692.xls\n"
     ]
    },
    {
     "name": "stderr",
     "output_type": "stream",
     "text": [
      "2025-03-20 21:53:20,077 - WDM - INFO - ====== WebDriver manager ======\n"
     ]
    },
    {
     "name": "stdout",
     "output_type": "stream",
     "text": [
      "WebDriver Closed\n",
      "\n",
      "Year                                                            2021\n",
      "Year_Link          http://www.pbc.gov.cn/en/3688247/3688975/42807...\n",
      "Dimension                                         Financial Accounts\n",
      "Dimension_Link     http://www.pbc.gov.cn/en/3688247/3688975/42807...\n",
      "Data               Flow of Funds Statement(Financial Accounts)(th...\n",
      "Data_Link          http://www.pbc.gov.cn/eportal/fileDir/diaochat...\n",
      "Dimension_Clean                                   Financial Accounts\n",
      "Data_Name_Clean    Flow of Funds Statement(Financial Accounts)(th...\n",
      "Name: 25, dtype: object\n",
      "2021__Financial_Accounts__Flow_of_Funds_StatementXFinancial_AccountsXXthe_First_Half_YearX__2022051110393882917.xls\n",
      "Downloading: http://www.pbc.gov.cn/eportal/fileDir/diaochatongjisi/resource/cms/2022/05/2022051110393882917.xls\n"
     ]
    },
    {
     "name": "stderr",
     "output_type": "stream",
     "text": [
      "2025-03-20 21:53:21,106 - WDM - INFO - Get LATEST chromedriver version for google-chrome\n",
      "2025-03-20 21:53:21,193 - WDM - INFO - Get LATEST chromedriver version for google-chrome\n",
      "2025-03-20 21:53:21,274 - WDM - INFO - Driver [C:\\Users\\mattb\\.wdm\\drivers\\chromedriver\\win64\\134.0.6998.90\\chromedriver-win32/chromedriver.exe] found in cache\n"
     ]
    },
    {
     "name": "stdout",
     "output_type": "stream",
     "text": [
      "C:\\Users\\mattb\\PycharmProjects\\pythonprojects\\cicdpractice\\airflow-docker\\china_econ_data\\download\\2021\n",
      "Waiting for download to finish...\n",
      "✅ Download Completed\n",
      "File renamed to: 2021__Financial_Accounts__Flow_of_Funds_StatementXFinancial_AccountsXXthe_First_Half_YearX__2022051110393882917.xls\n"
     ]
    },
    {
     "name": "stderr",
     "output_type": "stream",
     "text": [
      "2025-03-20 21:53:32,591 - WDM - INFO - ====== WebDriver manager ======\n"
     ]
    },
    {
     "name": "stdout",
     "output_type": "stream",
     "text": [
      "WebDriver Closed\n",
      "\n",
      "Year                                                            2021\n",
      "Year_Link          http://www.pbc.gov.cn/en/3688247/3688975/42807...\n",
      "Dimension                                         Financial Accounts\n",
      "Dimension_Link     http://www.pbc.gov.cn/en/3688247/3688975/42807...\n",
      "Data               Flow of Funds Statement(Financial Accounts)(Year)\n",
      "Data_Link          http://www.pbc.gov.cn/eportal/fileDir/diaochat...\n",
      "Dimension_Clean                                   Financial Accounts\n",
      "Data_Name_Clean    Flow of Funds Statement(Financial Accounts)(Year)\n",
      "Name: 26, dtype: object\n",
      "2021__Financial_Accounts__Flow_of_Funds_StatementXFinancial_AccountsXXYearX__2022093017032067690.xls\n",
      "Downloading: http://www.pbc.gov.cn/eportal/fileDir/diaochatongjisi/resource/cms/2022/09/2022093017032067690.xls\n"
     ]
    },
    {
     "name": "stderr",
     "output_type": "stream",
     "text": [
      "2025-03-20 21:53:33,984 - WDM - INFO - Get LATEST chromedriver version for google-chrome\n",
      "2025-03-20 21:53:34,072 - WDM - INFO - Get LATEST chromedriver version for google-chrome\n",
      "2025-03-20 21:53:34,140 - WDM - INFO - Driver [C:\\Users\\mattb\\.wdm\\drivers\\chromedriver\\win64\\134.0.6998.90\\chromedriver-win32/chromedriver.exe] found in cache\n"
     ]
    },
    {
     "name": "stdout",
     "output_type": "stream",
     "text": [
      "C:\\Users\\mattb\\PycharmProjects\\pythonprojects\\cicdpractice\\airflow-docker\\china_econ_data\\download\\2021\n",
      "Waiting for download to finish...\n",
      "✅ Download Completed\n",
      "File renamed to: 2021__Financial_Accounts__Flow_of_Funds_StatementXFinancial_AccountsXXYearX__2022093017032067690.xls\n",
      "WebDriver Closed\n",
      "\n",
      "Year                                                            2021\n",
      "Year_Link          http://www.pbc.gov.cn/en/3688247/3688975/42807...\n",
      "Dimension                                         Financial Accounts\n",
      "Dimension_Link     http://www.pbc.gov.cn/en/3688247/3688975/42807...\n",
      "Data               Financial Assets and Liabilities Statement(Fin...\n",
      "Data_Link                                                        NaN\n",
      "Dimension_Clean                                   Financial Accounts\n",
      "Data_Name_Clean    Financial Assets and Liabilities Statement(Fin...\n",
      "Name: 27, dtype: object\n"
     ]
    },
    {
     "ename": "AttributeError",
     "evalue": "'float' object has no attribute 'split'",
     "output_type": "error",
     "traceback": [
      "\u001b[1;31m---------------------------------------------------------------------------\u001b[0m",
      "\u001b[1;31mAttributeError\u001b[0m                            Traceback (most recent call last)",
      "Cell \u001b[1;32mIn[26], line 9\u001b[0m\n\u001b[0;32m      7\u001b[0m data_name_clean\u001b[38;5;241m=\u001b[39mrow[\u001b[38;5;124m'\u001b[39m\u001b[38;5;124mData_Name_Clean\u001b[39m\u001b[38;5;124m'\u001b[39m]\n\u001b[0;32m      8\u001b[0m data_link\u001b[38;5;241m=\u001b[39mrow[\u001b[38;5;124m'\u001b[39m\u001b[38;5;124mData_Link\u001b[39m\u001b[38;5;124m'\u001b[39m]\n\u001b[1;32m----> 9\u001b[0m data_type\u001b[38;5;241m=\u001b[39m\u001b[43mdata_link\u001b[49m\u001b[38;5;241;43m.\u001b[39;49m\u001b[43msplit\u001b[49m(\u001b[38;5;124m'\u001b[39m\u001b[38;5;124m/\u001b[39m\u001b[38;5;124m'\u001b[39m)[\u001b[38;5;241m-\u001b[39m\u001b[38;5;241m1\u001b[39m]\n\u001b[0;32m     10\u001b[0m new_filename\u001b[38;5;241m=\u001b[39m\u001b[38;5;124mf\u001b[39m\u001b[38;5;124m'\u001b[39m\u001b[38;5;132;01m{\u001b[39;00myear\u001b[38;5;132;01m}\u001b[39;00m\u001b[38;5;124m__\u001b[39m\u001b[38;5;132;01m{\u001b[39;00mdimension_clean\u001b[38;5;241m.\u001b[39mreplace(\u001b[38;5;124m'\u001b[39m\u001b[38;5;124m \u001b[39m\u001b[38;5;124m'\u001b[39m,\u001b[38;5;250m \u001b[39m\u001b[38;5;124m'\u001b[39m\u001b[38;5;124m_\u001b[39m\u001b[38;5;124m'\u001b[39m)\u001b[38;5;132;01m}\u001b[39;00m\u001b[38;5;124m__\u001b[39m\u001b[38;5;132;01m{\u001b[39;00mdata_name_clean\u001b[38;5;241m.\u001b[39mreplace(\u001b[38;5;124m'\u001b[39m\u001b[38;5;124m \u001b[39m\u001b[38;5;124m'\u001b[39m,\u001b[38;5;250m \u001b[39m\u001b[38;5;124m'\u001b[39m\u001b[38;5;124m_\u001b[39m\u001b[38;5;124m'\u001b[39m)\u001b[38;5;132;01m}\u001b[39;00m\u001b[38;5;124m__\u001b[39m\u001b[38;5;132;01m{\u001b[39;00mdata_type\u001b[38;5;132;01m}\u001b[39;00m\u001b[38;5;124m'\u001b[39m\n\u001b[0;32m     11\u001b[0m new_filename\u001b[38;5;241m=\u001b[39mreplace_special_chars(new_filename)\n",
      "\u001b[1;31mAttributeError\u001b[0m: 'float' object has no attribute 'split'"
     ]
    }
   ],
   "source": [
    "for index, row in year_df_3.iterrows():\n",
    "    print(row)\n",
    "    year = row['Year']\n",
    "    dimension = row['Dimension']\n",
    "    dimension_clean = row['Dimension_Clean']\n",
    "    data_name=row['Data']\n",
    "    data_name_clean=row['Data_Name_Clean']\n",
    "    data_link=row['Data_Link']\n",
    "    data_type=data_link.split('/')[-1]\n",
    "    new_filename=f'{year}__{dimension_clean.replace(' ', '_')}__{data_name_clean.replace(' ', '_')}__{data_type}'\n",
    "    new_filename=replace_special_chars(new_filename)\n",
    "    print(new_filename)\n",
    "    target_path=fr\"C:\\Users\\mattb\\PycharmProjects\\pythonprojects\\cicdpractice\\airflow-docker\\china_econ_data\\download\\{target_year}\" \n",
    "    dir_path = Path(\"target_path\")    \n",
    "    dir_path.mkdir(parents=True, exist_ok=True)\n",
    "    failed_downloads=pd.DataFrame(columns=['new_filename', 'link'])\n",
    "    try:\n",
    "        print(f\"Downloading: {data_link}\")\n",
    "        web_driver = init_driver(target_path)\n",
    "        web_driver.get(data_link) \n",
    "        time.sleep(5)\n",
    "        wait_for_download(target_path, new_filename,data_type, timeout=60)\n",
    "\n",
    "    except Exception as e:\n",
    "        link_dict = {'new_filename': new_filename, 'link': data_link}\n",
    "        failed_downloads = pd.concat([failed_downloads, pd.DataFrame([link_dict])], ignore_index=True)        \n",
    "        print(f\"❌ Failed: {e}\")\n",
    "    \n",
    "    finally:\n",
    "        web_driver.quit()\n",
    "        print(\"WebDriver Closed\\n\")\n",
    "    failed_downloads.to_csv(script_outputs_directory+f'failed_downloads_{target_year}.csv')    "
   ]
  },
  {
   "cell_type": "code",
   "execution_count": null,
   "id": "8448ef88-38d7-4788-ab64-957c23102160",
   "metadata": {},
   "outputs": [],
   "source": []
  }
 ],
 "metadata": {
  "kernelspec": {
   "display_name": "Python 3 (ipykernel)",
   "language": "python",
   "name": "python3"
  },
  "language_info": {
   "codemirror_mode": {
    "name": "ipython",
    "version": 3
   },
   "file_extension": ".py",
   "mimetype": "text/x-python",
   "name": "python",
   "nbconvert_exporter": "python",
   "pygments_lexer": "ipython3",
   "version": "3.13.2"
  }
 },
 "nbformat": 4,
 "nbformat_minor": 5
}
