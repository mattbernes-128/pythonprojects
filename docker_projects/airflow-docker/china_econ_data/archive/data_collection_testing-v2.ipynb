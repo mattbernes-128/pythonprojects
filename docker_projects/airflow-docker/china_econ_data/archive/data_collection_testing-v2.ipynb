{
 "cells": [
  {
   "cell_type": "code",
   "execution_count": null,
   "id": "573c5605-f54d-4689-a3d0-81d31153762c",
   "metadata": {},
   "outputs": [],
   "source": [
    "import requests\n",
    "from selenium import webdriver\n",
    "from selenium.webdriver.support.wait import WebDriverWait\n",
    "from selenium.webdriver.support import expected_conditions as EC\n",
    "from webdriver_manager.chrome import ChromeDriverManager\n",
    "from selenium.webdriver.chrome.options import Options as ChromeOptions\n",
    "from selenium.webdriver.chrome.service import Service\n",
    "import pandas as pd\n",
    "import json\n",
    "from selenium.webdriver.common.by import By\n",
    "from time import sleep\n",
    "import urllib3\n",
    "\n",
    "urllib3.disable_warnings(urllib3.exceptions.InsecureRequestWarning)\n",
    "\n",
    "def init_driver():\n",
    "    options = ChromeOptions()\n",
    "    #options.add_argument(\"--headless=new\")\n",
    "    options.set_capability(\"goog:loggingPrefs\", {\"performance\": \"ALL\"})\n",
    "    options.add_experimental_option(\"perfLoggingPrefs\", {\"enableNetwork\": True})\n",
    "    service = Service(ChromeDriverManager().install())\n",
    "    driver = webdriver.Chrome(service=service, options=options)\n",
    "    return driver\n",
    "\n",
    "\n",
    "def find_element_wait(driver, selector):\n",
    "    WebDriverWait(driver, 30).until(EC.presence_of_element_located((By.CSS_SELECTOR, selector)))\n",
    "    element = driver.find_element(By.CSS_SELECTOR, selector)\n",
    "    return element\n",
    "\n",
    "def find_elements_wait(driver, selector):\n",
    "    WebDriverWait(driver, 30).until(EC.presence_of_element_located((By.CSS_SELECTOR, selector)))\n",
    "    elements = driver.find_elements(By.CSS_SELECTOR, selector)\n",
    "    return elements\n",
    "\n",
    "def collect_links(Dimension, data_links):\n",
    "    df = pd.DataFrame(columns=[Dimension, 'Link'])\n",
    "    for data_link in data_links:\n",
    "        print(f\"{data_link.text}\")\n",
    "        print(f\"Navigating to {data_link.get_attribute('href')}...\")\n",
    "        link_dict = {Dimension: data_link.text, 'Link': data_link.get_attribute('href')}\n",
    "        df = pd.concat([df, pd.DataFrame([link_dict])], ignore_index=True)        \n",
    "    return df\n",
    "\n",
    "def collect_dimension_links(year_df):\n",
    "    year_df_2 = pd.DataFrame(columns=['Year', 'Year_Link', 'Dimension', 'Dimension_Link'])\n",
    "    for index, row in year_df.iterrows():\n",
    "        year = row['Year']\n",
    "        year_link = row['Link']\n",
    "        web_driver = init_driver()\n",
    "        print(f\"Navigating to {year_link}...\")\n",
    "        web_driver.get(year_link) \n",
    "        dimension_links = find_elements_wait(driver=web_driver, selector='div[class=\"ListR\"] > a')     \n",
    "        for data_link in dimension_links:\n",
    "            dimension = data_link.text\n",
    "            dimension_link = data_link.get_attribute(\"href\")\n",
    "            print(dimension)\n",
    "            print(dimension_link)            \n",
    "            link_dict = {'Year': year, 'Year_Link': year_link, 'Dimension': dimension, 'Dimension_Link': dimension_link}      \n",
    "            year_df_2 = pd.concat([year_df_2, pd.DataFrame([link_dict])], ignore_index=True)\n",
    "\n",
    "    return year_df_2\n",
    "        \n",
    "\n",
    "#WebDriverWait(web_driver, 30).until( EC.presence_of_element(By.CSS_SELECTOR, 'ul > li[class=\"class_A\"]')_located((By.CSS_SELECTOR, 'ul > li[class=\"class_A\"] > a')))\n",
    "\n"
   ]
  },
  {
   "cell_type": "code",
   "execution_count": null,
   "id": "55a62dde-0020-479a-8993-6a31db635e3c",
   "metadata": {},
   "outputs": [],
   "source": [
    "web_driver = init_driver()\n",
    "data_index_page = \"http://www.pbc.gov.cn/en/3688247/3688975/index.html\"\n",
    "web_driver.get(data_index_page)\n",
    "year_links = find_elements_wait(driver=web_driver, selector='ul > li[class=\"class_A\"] > a')\n",
    "year_df = collect_links('Year', year_links)\n",
    "year_df_sample=year_df.head(3)\n",
    "print(year_df_sample)\n",
    "year_df_2=collect_dimension_links(year_df_sample)\n",
    "year_df_3 = pd.DataFrame(columns=['Year', 'Year_Link', 'Dimension', 'Dimension_Link', 'Data', 'Data_Link'])\n",
    "\n",
    "for index, row in year_df_2.iterrows():\n",
    "        print(row)\n",
    "        year = row['Year']\n",
    "        year_link = row['Year_Link']\n",
    "        dimension=row['Dimension']\n",
    "        dimension_link=row['Dimension_Link']\n",
    "        web_driver = init_driver()\n",
    "        web_driver.get(dimension_link)   \n",
    "        table_rows = find_elements_wait(driver=web_driver, selector='table[class=\"data_table\"] tbody > tr')\n",
    "        table_cells = find_elements_wait(driver=web_driver, selector='table[class=\"data_table\"] tbody > tr > td')\n",
    "        for cell in table_cells:\n",
    "            if cell.get_attribute(\"class\") != \"data_xz\":\n",
    "                row_name = cell.text\n",
    "                print(row_name)\n",
    "            elif cell.get_attribute(\"class\") == \"data_xz\" and cell.find_element(By.CSS_SELECTOR, 'a').text == \"xls\":\n",
    "                #print(cell.find_element(By.CSS_SELECTOR, 'a'))\n",
    "                xls_link = cell.find_element(By.CSS_SELECTOR, 'a').get_attribute('href')\n",
    "                print(xls_link)\n",
    "            link_dict = {'Year': year, 'Year_Link': year_link, 'Dimension': dimension, 'Dimension_Link': dimension_link,'Data':row_name,'Data_Link':xls_link}      \n",
    "            year_df_3 = pd.concat([year_df_3, pd.DataFrame([link_dict])], ignore_index=True)\n",
    "        web_driver.quit()"
   ]
  },
  {
   "cell_type": "code",
   "execution_count": null,
   "id": "0803174f-961b-4fdd-914e-cbcc9127828b",
   "metadata": {
    "scrolled": true
   },
   "outputs": [],
   "source": [
    "year_df_sample=year_df.head(3)\n",
    "print(year_df_sample)"
   ]
  },
  {
   "cell_type": "code",
   "execution_count": null,
   "id": "4371b874-ae06-4bed-ba4b-e5906c9a2ee0",
   "metadata": {
    "scrolled": true
   },
   "outputs": [],
   "source": [
    "year_df_2=collect_dimension_links(year_df_sample)"
   ]
  },
  {
   "cell_type": "code",
   "execution_count": null,
   "id": "d52e5e54-8eb1-4044-8b2d-0e92122866ec",
   "metadata": {},
   "outputs": [],
   "source": [
    "year_df_2.to_csv('year_df_2.csv', index=False)"
   ]
  },
  {
   "cell_type": "code",
   "execution_count": null,
   "id": "3a04c1ae-491c-48bb-b5a9-9c48da31a4ce",
   "metadata": {
    "scrolled": true
   },
   "outputs": [],
   "source": [
    "year_df_3 = pd.DataFrame(columns=['Year', 'Year_Link', 'Dimension', 'Dimension_Link', 'Data', 'Data_Link'])\n",
    "for index, row in year_df_2.iterrows():\n",
    "        print(row)\n",
    "        year = row['Year']\n",
    "        year_link = row['Year_Link']\n",
    "        dimension=row['Dimension']\n",
    "        dimension_link=row['Dimension_Link']\n",
    "        web_driver = init_driver()\n",
    "        web_driver.get(dimension_link)   \n",
    "        table_rows = find_elements_wait(driver=web_driver, selector='table[class=\"data_table\"] tbody > tr')\n",
    "        table_cells = find_elements_wait(driver=web_driver, selector='table[class=\"data_table\"] tbody > tr > td')\n",
    "        for cell in table_cells:\n",
    "            if cell.get_attribute(\"class\") != \"data_xz\":\n",
    "                row_name = cell.text\n",
    "                print(row_name)\n",
    "            elif cell.get_attribute(\"class\") == \"data_xz\" and cell.find_element(By.CSS_SELECTOR, 'a').text == \"xls\":\n",
    "                #print(cell.find_element(By.CSS_SELECTOR, 'a'))\n",
    "                xls_link = cell.find_element(By.CSS_SELECTOR, 'a').get_attribute('href')\n",
    "                print(xls_link)\n",
    "            link_dict = {'Year': year, 'Year_Link': year_link, 'Dimension': dimension, 'Dimension_Link': dimension_link,'Data':row_name,'Data_Link':xls_link}      \n",
    "            year_df_3 = pd.concat([year_df_3, pd.DataFrame([link_dict])], ignore_index=True)\n",
    "        web_driver.quit()"
   ]
  },
  {
   "cell_type": "code",
   "execution_count": null,
   "id": "6676c6ff-d1d0-4d28-8158-b08c6a58db0e",
   "metadata": {},
   "outputs": [],
   "source": [
    "print(year_df_3)"
   ]
  },
  {
   "cell_type": "code",
   "execution_count": null,
   "id": "323b2a48-3615-4826-816c-195e9de0d894",
   "metadata": {},
   "outputs": [],
   "source": [
    "year_df_3.to_csv('year_df_3.csv', index=False)"
   ]
  },
  {
   "cell_type": "code",
   "execution_count": null,
   "id": "939a3964-4a23-448e-8e42-1640ba38d46e",
   "metadata": {},
   "outputs": [],
   "source": []
  }
 ],
 "metadata": {
  "kernelspec": {
   "display_name": "Python 3 (ipykernel)",
   "language": "python",
   "name": "python3"
  },
  "language_info": {
   "codemirror_mode": {
    "name": "ipython",
    "version": 3
   },
   "file_extension": ".py",
   "mimetype": "text/x-python",
   "name": "python",
   "nbconvert_exporter": "python",
   "pygments_lexer": "ipython3",
   "version": "3.13.2"
  }
 },
 "nbformat": 4,
 "nbformat_minor": 5
}
